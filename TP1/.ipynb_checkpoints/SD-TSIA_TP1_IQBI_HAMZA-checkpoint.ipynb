{
 "cells": [
  {
   "cell_type": "markdown",
   "id": "ec17c0be",
   "metadata": {},
   "source": [
    "# SD-TSIA204 TP1\n",
    "#### IQBI Hamza"
   ]
  },
  {
   "cell_type": "code",
   "execution_count": 1,
   "id": "452f526f",
   "metadata": {},
   "outputs": [],
   "source": [
    "import numpy as np\n",
    "import pandas as pd\n",
    "from os import path\n",
    "import matplotlib.pyplot as plt\n",
    "from scipy.stats import t\n",
    "import sklearn.linear_model as s_lm"
   ]
  },
  {
   "cell_type": "markdown",
   "id": "edb3a2fa",
   "metadata": {},
   "source": [
    "#### Question 1 :"
   ]
  },
  {
   "cell_type": "code",
   "execution_count": 2,
   "id": "f9b727b5",
   "metadata": {},
   "outputs": [
    {
     "data": {
      "text/html": [
       "<div>\n",
       "<style scoped>\n",
       "    .dataframe tbody tr th:only-of-type {\n",
       "        vertical-align: middle;\n",
       "    }\n",
       "\n",
       "    .dataframe tbody tr th {\n",
       "        vertical-align: top;\n",
       "    }\n",
       "\n",
       "    .dataframe thead th {\n",
       "        text-align: right;\n",
       "    }\n",
       "</style>\n",
       "<table border=\"1\" class=\"dataframe\">\n",
       "  <thead>\n",
       "    <tr style=\"text-align: right;\">\n",
       "      <th></th>\n",
       "      <th>year</th>\n",
       "      <th>gnp</th>\n",
       "      <th>invest</th>\n",
       "      <th>cpi</th>\n",
       "      <th>interest</th>\n",
       "    </tr>\n",
       "  </thead>\n",
       "  <tbody>\n",
       "    <tr>\n",
       "      <th>0</th>\n",
       "      <td>1968</td>\n",
       "      <td>873.4</td>\n",
       "      <td>133.3</td>\n",
       "      <td>82.54</td>\n",
       "      <td>5.16</td>\n",
       "    </tr>\n",
       "    <tr>\n",
       "      <th>1</th>\n",
       "      <td>1969</td>\n",
       "      <td>944.0</td>\n",
       "      <td>149.3</td>\n",
       "      <td>86.79</td>\n",
       "      <td>5.87</td>\n",
       "    </tr>\n",
       "    <tr>\n",
       "      <th>2</th>\n",
       "      <td>1970</td>\n",
       "      <td>992.7</td>\n",
       "      <td>144.2</td>\n",
       "      <td>91.45</td>\n",
       "      <td>5.95</td>\n",
       "    </tr>\n",
       "    <tr>\n",
       "      <th>3</th>\n",
       "      <td>1971</td>\n",
       "      <td>1077.6</td>\n",
       "      <td>166.4</td>\n",
       "      <td>96.01</td>\n",
       "      <td>4.88</td>\n",
       "    </tr>\n",
       "    <tr>\n",
       "      <th>4</th>\n",
       "      <td>1972</td>\n",
       "      <td>1185.9</td>\n",
       "      <td>195.0</td>\n",
       "      <td>100.00</td>\n",
       "      <td>4.50</td>\n",
       "    </tr>\n",
       "  </tbody>\n",
       "</table>\n",
       "</div>"
      ],
      "text/plain": [
       "   year     gnp  invest     cpi  interest\n",
       "0  1968   873.4   133.3   82.54      5.16\n",
       "1  1969   944.0   149.3   86.79      5.87\n",
       "2  1970   992.7   144.2   91.45      5.95\n",
       "3  1971  1077.6   166.4   96.01      4.88\n",
       "4  1972  1185.9   195.0  100.00      4.50"
      ]
     },
     "execution_count": 2,
     "metadata": {},
     "output_type": "execute_result"
    }
   ],
   "source": [
    "path.join('/Users/IQBI Hamza/OneDrive/Bureau/2A/TSIA/SD-TSIA204', 'TP1')\n",
    "df = pd.read_csv('invest.txt', sep = ' ', usecols = ['year', 'gnp', 'invest', 'cpi', 'interest'], low_memory=True)\n",
    "df.head()"
   ]
  },
  {
   "cell_type": "markdown",
   "id": "41690301",
   "metadata": {},
   "source": [
    "#### Question 2 :"
   ]
  },
  {
   "cell_type": "code",
   "execution_count": 33,
   "id": "ddb5efb7",
   "metadata": {},
   "outputs": [
    {
     "data": {
      "image/png": "[encoded data removed]",
      "text/plain": [
       "<Figure size 432x288 with 1 Axes>"
      ]
     },
     "metadata": {
      "needs_background": "light"
     },
     "output_type": "display_data"
    }
   ],
   "source": [
    "gnp = df['gnp']\n",
    "invest = df['invest']\n",
    "\n",
    "plt.plot(gnp, invest, 'ob')\n",
    "plt.xlabel('GNP')\n",
    "plt.ylabel('Invest')\n",
    "\n",
    "X = np.log(gnp)\n",
    "Y = np.log(invest)"
   ]
  },
  {
   "cell_type": "markdown",
   "id": "4eeee88f",
   "metadata": {},
   "source": [
    "#### Question 3 :"
   ]
  },
  {
   "cell_type": "code",
   "execution_count": 4,
   "id": "5bcbaad9",
   "metadata": {},
   "outputs": [
    {
     "name": "stdout",
     "output_type": "stream",
     "text": [
      "The intercept beta0 estimated is -1.9635913352301833, and its standard deviation is 0.4095472716623082.\n",
      "The slope beta1 estimated is 1.015281401598871, and its standard deviation is 0.055383060354852805.\n",
      "The determination coefficient R² is 0.9627572956057855\n"
     ]
    }
   ],
   "source": [
    "n = len(X)\n",
    "X_bar = np.mean(X)\n",
    "Y_bar = np.mean(Y)\n",
    "X_var = sum((X-X_bar)**2)\n",
    "\n",
    "beta1_hat = sum((X-X_bar)*(Y-Y_bar))/X_var #The slope\n",
    "beta0_hat = Y_bar - beta1_hat*X_bar #The intercept\n",
    "\n",
    "#A standard deviation is the square root of a variance\n",
    "\n",
    "sigma_hat = np.sqrt(sum((Y - (beta0_hat + beta1_hat*X))**2) / (n-2))\n",
    "beta0_sd = sigma_hat * np.sqrt(1/n + X_bar**2/X_var)\n",
    "beta1_sd = sigma_hat / np.sqrt(X_var)\n",
    "\n",
    "#The determination coefficient is R²\n",
    "Y_hat = beta0_hat + beta1_hat*X\n",
    "DC = sum((Y_hat - Y_bar)**2) / sum((Y - Y_bar)**2)\n",
    "\n",
    "print(f\"The intercept beta0 estimated is {beta0_hat}, and its standard deviation is {beta0_sd}.\")\n",
    "print(f\"The slope beta1 estimated is {beta1_hat}, and its standard deviation is {beta1_sd}.\")\n",
    "print(f\"The determination coefficient R² is {DC}\")"
   ]
  },
  {
   "cell_type": "markdown",
   "id": "d1c1e974",
   "metadata": {},
   "source": [
    "#### Question 4 :"
   ]
  },
  {
   "cell_type": "code",
   "execution_count": 5,
   "id": "d7f00acd",
   "metadata": {},
   "outputs": [
    {
     "name": "stdout",
     "output_type": "stream",
     "text": [
      "The Student-t test at level 5% leads to rejecting the null hypothesis.\n",
      "The p value for this Student-t test at level 5% is 5.681854986505641e-11\n"
     ]
    }
   ],
   "source": [
    "alpha = 0.05\n",
    "quantile = t.ppf(1-alpha/2, n-2, loc = beta1_hat, scale = beta1_sd)\n",
    "\n",
    "if (beta1_hat/beta1_sd < - quantile) or (beta1_hat/beta1_sd > quantile) :\n",
    "    print(f\"The Student-t test at level {int(100*alpha)}% leads to rejecting the null hypothesis.\")\n",
    "else :\n",
    "    print(f\"The Student-t test at level {int(100*alpha)}% leads to not rejecting the null hyputhesis.\")\n",
    "    \n",
    "p_value = 1 - t.cdf(abs(beta1_hat/beta1_sd), n-2)\n",
    "print(f\"The p value for this Student-t test at level {int(100*alpha)}% is {p_value}\")"
   ]
  },
  {
   "cell_type": "markdown",
   "id": "d5e8520d",
   "metadata": {},
   "source": [
    "#### Question 5 :"
   ]
  },
  {
   "cell_type": "code",
   "execution_count": 16,
   "id": "8388258a",
   "metadata": {},
   "outputs": [
    {
     "name": "stdout",
     "output_type": "stream",
     "text": [
      "The investment necessary for a GNP = 6.907755278982137 is : 155.97942793105466.\n",
      "The confidence interval for the 90% level is : [150.5356600536144 ; 161.61225845726176].\n",
      "The prediction interval for the 90% level is : [141.65577571567812 ; 171.76031714301925].\n"
     ]
    }
   ],
   "source": [
    "x0 = 1000\n",
    "x = np.log(x0)\n",
    "\n",
    "y_predicted = beta0_hat + beta1_hat*x\n",
    "\n",
    "alpha_bis = 0.9\n",
    "t_alpha = t.ppf(1-alpha_bis/2, n-2, loc = beta1_hat, scale = beta1_sd)\n",
    "\n",
    "CI_low = y_predicted - t_alpha*sigma_hat*np.sqrt(1/n + (x-X_bar)**2/X_var)\n",
    "CI_up = y_predicted + t_alpha*sigma_hat*np.sqrt(1/n + (x-X_bar)**2/X_var)\n",
    "\n",
    "PI_low = y_predicted - t_alpha*sigma_hat*np.sqrt(1 + 1/n + (x-X_bar)**2/X_var)\n",
    "PI_up = y_predicted + t_alpha*sigma_hat*np.sqrt(1 + 1/n + (x-X_bar)**2/X_var)\n",
    "\n",
    "print(f\"The investment necessary for a GNP = {x} is : {np.exp(y_predicted)}.\")\n",
    "print(f\"The confidence interval for the 90% level is : [{np.exp(CI_low.round(4))} ; {np.exp(CI_up.round(4))}].\")\n",
    "print(f\"The prediction interval for the 90% level is : [{np.exp(PI_low.round(4))} ; {np.exp(PI_up.round(4))}].\")"
   ]
  },
  {
   "cell_type": "markdown",
   "id": "dd639701",
   "metadata": {},
   "source": [
    "#### Question 6 :"
   ]
  },
  {
   "cell_type": "code",
   "execution_count": 14,
   "id": "7f7485a9",
   "metadata": {},
   "outputs": [
    {
     "data": {
      "text/plain": [
       "<matplotlib.legend.Legend at 0x24d497a0ac0>"
      ]
     },
     "execution_count": 14,
     "metadata": {},
     "output_type": "execute_result"
    },
    {
     "data": {
      "image/png": "[encoded data removed]",
      "text/plain": [
       "<Figure size 1152x720 with 1 Axes>"
      ]
     },
     "metadata": {
      "needs_background": "light"
     },
     "output_type": "display_data"
    }
   ],
   "source": [
    "xs = np.linspace(np.min(X), np.max(X))\n",
    "ys = beta0_hat + beta1_hat * xs\n",
    "\n",
    "c_low = ys - t_alpha*sigma_hat*np.sqrt(1/n + (xs-X_bar)**2/X_var)\n",
    "c_up = ys + t_alpha*sigma_hat*np.sqrt(1/n + (xs-X_bar)**2/X_var)\n",
    "\n",
    "p_low = ys - t_alpha*sigma_hat*np.sqrt(1 + 1/n + (xs-X_bar)**2/X_var)\n",
    "p_up = ys + t_alpha*sigma_hat*np.sqrt(1 + 1/n + (xs-X_bar)**2/X_var)\n",
    "\n",
    "fig = plt.figure(figsize = (16, 10))  \n",
    "ax = fig.add_subplot(211)\n",
    "plt.plot(X, Y, 'ob', label = \"Plot of the data\")\n",
    "plt.plot(xs, ys, label = \"Regression line\", color = 'k')\n",
    "plt.plot(xs, c_low, 'g--', label = 'Confidence interval')\n",
    "plt.plot(xs, c_up, 'g--')\n",
    "plt.plot(xs, p_low, 'r--', label = 'Prediction interval')\n",
    "plt.plot(xs, p_up, 'r--')\n",
    "plt.xlabel('GNP')\n",
    "plt.ylabel('Invetment')\n",
    "plt.title(\"Investement as a function of GNP with logarithmic axes\")\n",
    "plt.legend()"
   ]
  },
  {
   "cell_type": "markdown",
   "id": "916621f8",
   "metadata": {},
   "source": [
    "#### Question 7 :"
   ]
  },
  {
   "cell_type": "code",
   "execution_count": 21,
   "id": "17943ad7",
   "metadata": {},
   "outputs": [],
   "source": [
    "reg = s_lm.LinearRegression().fit(np.array(X).reshape(-1, 1), Y)"
   ]
  },
  {
   "cell_type": "code",
   "execution_count": 31,
   "id": "5c79f0fc",
   "metadata": {},
   "outputs": [
    {
     "data": {
      "text/plain": [
       "-1.9635913352301815"
      ]
     },
     "execution_count": 31,
     "metadata": {},
     "output_type": "execute_result"
    }
   ],
   "source": [
    "reg.intercept_"
   ]
  },
  {
   "cell_type": "code",
   "execution_count": 32,
   "id": "78de8b82",
   "metadata": {},
   "outputs": [
    {
     "data": {
      "text/plain": [
       "1.015281401598871"
      ]
     },
     "execution_count": 32,
     "metadata": {},
     "output_type": "execute_result"
    }
   ],
   "source": [
    "reg.coef_[0]"
   ]
  },
  {
   "cell_type": "markdown",
   "id": "ba8c49b3",
   "metadata": {},
   "source": [
    "#### Question 8 :"
   ]
  },
  {
   "cell_type": "markdown",
   "id": "4ee61987",
   "metadata": {},
   "source": [
    "#### Question 9 :"
   ]
  },
  {
   "cell_type": "code",
   "execution_count": 39,
   "id": "b6c41129",
   "metadata": {},
   "outputs": [
    {
     "name": "stdout",
     "output_type": "stream",
     "text": [
      "The singular values of the matrix X are : [1.73787190e+03 1.82369697e-02 4.12140362e+01]\n",
      "Is the Gram matrix invertible ? True\n"
     ]
    }
   ],
   "source": [
    "#X now is a matrix containig the intercept and 2 variables\n",
    "\n",
    "X = np.array([np.ones(n), np.log(gnp), df['interest']]).T\n",
    "G = X.T @ X\n",
    "sv = np.linalg.eigvals(G)\n",
    "\n",
    "print(f\"The singular values of the matrix X are : {sv}\")\n",
    "print(f\"Is the Gram matrix invertible ? {np.min(sv) > 10**(-10)}\")"
   ]
  },
  {
   "cell_type": "markdown",
   "id": "d76c11de",
   "metadata": {},
   "source": [
    "#### Question 10 :"
   ]
  },
  {
   "cell_type": "code",
   "execution_count": null,
   "id": "356d04e1",
   "metadata": {},
   "outputs": [],
   "source": []
  }
 ],
 "metadata": {
  "kernelspec": {
   "display_name": "Python 3 (ipykernel)",
   "language": "python",
   "name": "python3"
  },
  "language_info": {
   "codemirror_mode": {
    "name": "ipython",
    "version": 3
   },
   "file_extension": ".py",
   "mimetype": "text/x-python",
   "name": "python",
   "nbconvert_exporter": "python",
   "pygments_lexer": "ipython3",
   "version": "3.9.12"
  }
 },
 "nbformat": 4,
 "nbformat_minor": 5
}
