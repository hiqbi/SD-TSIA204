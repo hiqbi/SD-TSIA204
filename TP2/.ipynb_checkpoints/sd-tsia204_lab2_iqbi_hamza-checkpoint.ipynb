{
 "cells": [
  {
   "cell_type": "markdown",
   "id": "c845bdd4",
   "metadata": {},
   "source": [
    "# SD-TSIA204 Lab 2 : Linear Regression\n",
    "\n",
    "*IQBI Hamza*"
   ]
  },
  {
   "cell_type": "code",
   "execution_count": 1,
   "id": "f8987000",
   "metadata": {},
   "outputs": [],
   "source": [
    "fn1 = \"hamza\"\n",
    "ln1 = \"iqbi\"\n",
    "filename = \"_\".join(map(lambda s: s.strip().lower(),\n",
    "[\"SD-TSIA204_lab2\", ln1, fn1])) + \".ipynb\""
   ]
  },
  {
   "cell_type": "code",
   "execution_count": 2,
   "id": "048debf6",
   "metadata": {},
   "outputs": [],
   "source": [
    "import numpy as np\n",
    "import matplotlib.pyplot as plt\n",
    "from os import path\n",
    "import pandas as pd\n",
    "import scipy\n",
    "import seaborn as sns\n",
    "import plotly.express as px\n",
    "from scipy.stats import t\n",
    "\n",
    "from sklearn.decomposition import PCA\n",
    "from sklearn.model_selection import train_test_split as tts\n",
    "from sklearn.preprocessing import StandardScaler\n",
    "from sklearn.linear_model import LinearRegression, Lasso, ElasticNet\n",
    "from sklearn.feature_selection import SequentialFeatureSelector\n",
    "from sklearn.metrics import mean_squared_error as mse"
   ]
  },
  {
   "cell_type": "markdown",
   "id": "d7f298c3",
   "metadata": {},
   "source": [
    "#### Preprocessing :"
   ]
  },
  {
   "cell_type": "code",
   "execution_count": 3,
   "id": "67084004",
   "metadata": {},
   "outputs": [],
   "source": [
    "# Setting the random seed to 0\n",
    "np.random.seed(0)"
   ]
  },
  {
   "cell_type": "code",
   "execution_count": 59,
   "id": "cb92bc9b",
   "metadata": {},
   "outputs": [
    {
     "data": {
      "text/html": [
       "<div>\n",
       "<style scoped>\n",
       "    .dataframe tbody tr th:only-of-type {\n",
       "        vertical-align: middle;\n",
       "    }\n",
       "\n",
       "    .dataframe tbody tr th {\n",
       "        vertical-align: top;\n",
       "    }\n",
       "\n",
       "    .dataframe thead th {\n",
       "        text-align: right;\n",
       "    }\n",
       "</style>\n",
       "<table border=\"1\" class=\"dataframe\">\n",
       "  <thead>\n",
       "    <tr style=\"text-align: right;\">\n",
       "      <th></th>\n",
       "      <th>0</th>\n",
       "      <th>1</th>\n",
       "      <th>2</th>\n",
       "      <th>3</th>\n",
       "      <th>4</th>\n",
       "      <th>5</th>\n",
       "      <th>6</th>\n",
       "      <th>7</th>\n",
       "      <th>8</th>\n",
       "      <th>9</th>\n",
       "      <th>...</th>\n",
       "      <th>91</th>\n",
       "      <th>92</th>\n",
       "      <th>93</th>\n",
       "      <th>94</th>\n",
       "      <th>95</th>\n",
       "      <th>96</th>\n",
       "      <th>97</th>\n",
       "      <th>98</th>\n",
       "      <th>99</th>\n",
       "      <th>100</th>\n",
       "    </tr>\n",
       "  </thead>\n",
       "  <tbody>\n",
       "    <tr>\n",
       "      <th>0</th>\n",
       "      <td>V1</td>\n",
       "      <td>V2</td>\n",
       "      <td>V3</td>\n",
       "      <td>V4</td>\n",
       "      <td>V5</td>\n",
       "      <td>V6</td>\n",
       "      <td>V7</td>\n",
       "      <td>V8</td>\n",
       "      <td>V9</td>\n",
       "      <td>V10</td>\n",
       "      <td>...</td>\n",
       "      <td>V92</td>\n",
       "      <td>V93</td>\n",
       "      <td>V94</td>\n",
       "      <td>V95</td>\n",
       "      <td>V96</td>\n",
       "      <td>V97</td>\n",
       "      <td>V98</td>\n",
       "      <td>V99</td>\n",
       "      <td>V100</td>\n",
       "      <td>fat</td>\n",
       "    </tr>\n",
       "    <tr>\n",
       "      <th>1</th>\n",
       "      <td>2.61776</td>\n",
       "      <td>2.61814</td>\n",
       "      <td>2.61859</td>\n",
       "      <td>2.61912</td>\n",
       "      <td>2.61981</td>\n",
       "      <td>2.62071</td>\n",
       "      <td>2.62186</td>\n",
       "      <td>2.62334</td>\n",
       "      <td>2.62511</td>\n",
       "      <td>2.62722</td>\n",
       "      <td>...</td>\n",
       "      <td>2.98145</td>\n",
       "      <td>2.96072</td>\n",
       "      <td>2.94013</td>\n",
       "      <td>2.91978</td>\n",
       "      <td>2.89966</td>\n",
       "      <td>2.87964</td>\n",
       "      <td>2.8596</td>\n",
       "      <td>2.8394</td>\n",
       "      <td>2.8192</td>\n",
       "      <td>22.5</td>\n",
       "    </tr>\n",
       "    <tr>\n",
       "      <th>2</th>\n",
       "      <td>2.83454</td>\n",
       "      <td>2.83871</td>\n",
       "      <td>2.84283</td>\n",
       "      <td>2.84705</td>\n",
       "      <td>2.85138</td>\n",
       "      <td>2.85587</td>\n",
       "      <td>2.8606</td>\n",
       "      <td>2.86566</td>\n",
       "      <td>2.87093</td>\n",
       "      <td>2.87661</td>\n",
       "      <td>...</td>\n",
       "      <td>3.29186</td>\n",
       "      <td>3.27921</td>\n",
       "      <td>3.26655</td>\n",
       "      <td>3.25369</td>\n",
       "      <td>3.24045</td>\n",
       "      <td>3.22659</td>\n",
       "      <td>3.21181</td>\n",
       "      <td>3.196</td>\n",
       "      <td>3.17942</td>\n",
       "      <td>40.1</td>\n",
       "    </tr>\n",
       "    <tr>\n",
       "      <th>3</th>\n",
       "      <td>2.58284</td>\n",
       "      <td>2.58458</td>\n",
       "      <td>2.58629</td>\n",
       "      <td>2.58808</td>\n",
       "      <td>2.58996</td>\n",
       "      <td>2.59192</td>\n",
       "      <td>2.59401</td>\n",
       "      <td>2.59627</td>\n",
       "      <td>2.59873</td>\n",
       "      <td>2.60131</td>\n",
       "      <td>...</td>\n",
       "      <td>2.68951</td>\n",
       "      <td>2.67009</td>\n",
       "      <td>2.65112</td>\n",
       "      <td>2.63262</td>\n",
       "      <td>2.61461</td>\n",
       "      <td>2.59718</td>\n",
       "      <td>2.58034</td>\n",
       "      <td>2.56404</td>\n",
       "      <td>2.54816</td>\n",
       "      <td>8.4</td>\n",
       "    </tr>\n",
       "    <tr>\n",
       "      <th>4</th>\n",
       "      <td>2.82286</td>\n",
       "      <td>2.8246</td>\n",
       "      <td>2.8263</td>\n",
       "      <td>2.82814</td>\n",
       "      <td>2.83001</td>\n",
       "      <td>2.83192</td>\n",
       "      <td>2.83392</td>\n",
       "      <td>2.83606</td>\n",
       "      <td>2.83842</td>\n",
       "      <td>2.84097</td>\n",
       "      <td>...</td>\n",
       "      <td>2.97367</td>\n",
       "      <td>2.94951</td>\n",
       "      <td>2.92576</td>\n",
       "      <td>2.90251</td>\n",
       "      <td>2.87988</td>\n",
       "      <td>2.85794</td>\n",
       "      <td>2.83672</td>\n",
       "      <td>2.81617</td>\n",
       "      <td>2.79622</td>\n",
       "      <td>5.9</td>\n",
       "    </tr>\n",
       "  </tbody>\n",
       "</table>\n",
       "<p>5 rows × 101 columns</p>\n",
       "</div>"
      ],
      "text/plain": [
       "       0        1        2        3        4        5        6        7    \\\n",
       "0       V1       V2       V3       V4       V5       V6       V7       V8   \n",
       "1  2.61776  2.61814  2.61859  2.61912  2.61981  2.62071  2.62186  2.62334   \n",
       "2  2.83454  2.83871  2.84283  2.84705  2.85138  2.85587   2.8606  2.86566   \n",
       "3  2.58284  2.58458  2.58629  2.58808  2.58996  2.59192  2.59401  2.59627   \n",
       "4  2.82286   2.8246   2.8263  2.82814  2.83001  2.83192  2.83392  2.83606   \n",
       "\n",
       "       8        9    ...      91       92       93       94       95   \\\n",
       "0       V9      V10  ...      V92      V93      V94      V95      V96   \n",
       "1  2.62511  2.62722  ...  2.98145  2.96072  2.94013  2.91978  2.89966   \n",
       "2  2.87093  2.87661  ...  3.29186  3.27921  3.26655  3.25369  3.24045   \n",
       "3  2.59873  2.60131  ...  2.68951  2.67009  2.65112  2.63262  2.61461   \n",
       "4  2.83842  2.84097  ...  2.97367  2.94951  2.92576  2.90251  2.87988   \n",
       "\n",
       "       96       97       98       99    100  \n",
       "0      V97      V98      V99     V100   fat  \n",
       "1  2.87964   2.8596   2.8394   2.8192  22.5  \n",
       "2  3.22659  3.21181    3.196  3.17942  40.1  \n",
       "3  2.59718  2.58034  2.56404  2.54816   8.4  \n",
       "4  2.85794  2.83672  2.81617  2.79622   5.9  \n",
       "\n",
       "[5 rows x 101 columns]"
      ]
     },
     "execution_count": 59,
     "metadata": {},
     "output_type": "execute_result"
    }
   ],
   "source": [
    "# Loading the data\n",
    "path.join('/Users/IQBI Hamza/OneDrive/Bureau/2A/TSIA/SD-TSIA204', 'TP2')\n",
    "df = pd.read_csv('meatspec.csv', header = None)\n",
    "df.head()"
   ]
  },
  {
   "cell_type": "code",
   "execution_count": 5,
   "id": "c94b233e",
   "metadata": {},
   "outputs": [],
   "source": [
    "df = df.iloc[1:] # in order to remove the row with V_k and have numerical data only"
   ]
  },
  {
   "cell_type": "code",
   "execution_count": 6,
   "id": "5e8309ce",
   "metadata": {},
   "outputs": [
    {
     "data": {
      "text/plain": [
       "Text(0.5, 1.0, 'The mean and standard deviation of all the covariates')"
      ]
     },
     "execution_count": 6,
     "metadata": {},
     "output_type": "execute_result"
    },
    {
     "data": {
      "image/png": "[encoded data removed]",
      "text/plain": [
       "<Figure size 864x432 with 1 Axes>"
      ]
     },
     "metadata": {
      "needs_background": "light"
     },
     "output_type": "display_data"
    }
   ],
   "source": [
    "n, p = df.shape\n",
    "for i in range(p) :\n",
    "    df[i] = pd.to_numeric(df[i], errors='coerce') # to convert the type of the data to numeric\n",
    "    \n",
    "# In order to get the mean and std of the covariates, we need to remove the column 'fat'\n",
    "means = np.array(df.iloc[:, :p-1]).mean(axis=0, dtype=np.float64) \n",
    "stds = np.array(df.iloc[:, :p-1]).std(axis=0, dtype=np.float64)\n",
    "\n",
    "plt.figure(figsize = (12, 6))\n",
    "plt.errorbar(np.arange(p-1), means, stds)\n",
    "plt.title(\"The mean and standard deviation of all the covariates\")"
   ]
  },
  {
   "cell_type": "markdown",
   "id": "1bc1bf4f",
   "metadata": {},
   "source": [
    "It's clear that the data is :\n",
    "\n",
    "1.*Not centered*, since the mean is not 0.\n",
    "\n",
    "2.*Not normalized*, since it has values out of the segment [0, 1]. \n",
    "\n",
    "3.*Not standarized* since it's not centered (and also the standard deviation is not 1)."
   ]
  },
  {
   "cell_type": "code",
   "execution_count": 7,
   "id": "e3e7e272",
   "metadata": {},
   "outputs": [],
   "source": [
    "X = np.array(df.iloc[:, :p-1])\n",
    "Y = np.array(df[100]) # The variable that we seek to predict its value : fat\n",
    "\n",
    "# Separating the data into train and test sets \n",
    "X_train, X_test, Y_train, Y_test = tts(X, Y, test_size = 0.25, train_size = 0.75)\n",
    "\n",
    "# Standarazing both training and testing sets\n",
    "\n",
    "scaler = StandardScaler()\n",
    "# The test set must use identical scaling to the training set\n",
    "X_train = scaler.fit_transform(X_train)\n",
    "X_test = scaler.transform(X_test)\n",
    "#Use only the training set to calculate the mean and variance, standarize the training set, and then at test time,\n",
    "#use that same (training) mean and variance to normalize the test set\n",
    "Y_train = scaler.fit_transform(Y_train.reshape(-1, 1))\n",
    "Y_test = scaler.transform(Y_test.reshape(-1, 1))\n"
   ]
  },
  {
   "cell_type": "code",
   "execution_count": 8,
   "id": "e7d33b45",
   "metadata": {},
   "outputs": [
    {
     "data": {
      "text/plain": [
       "<matplotlib.legend.Legend at 0x267260cdb20>"
      ]
     },
     "execution_count": 8,
     "metadata": {},
     "output_type": "execute_result"
    },
    {
     "data": {
      "image/png": "[encoded data removed]",
      "text/plain": [
       "<Figure size 864x432 with 1 Axes>"
      ]
     },
     "metadata": {
      "needs_background": "light"
     },
     "output_type": "display_data"
    }
   ],
   "source": [
    "standard_means_train = np.array(X_train).mean(axis=0, dtype=np.float64) \n",
    "standard_stds_train = np.array(X_train).std(axis=0, dtype=np.float64)\n",
    "\n",
    "standard_means_test = np.array(X_test).mean(axis=0, dtype=np.float64) \n",
    "standard_stds_test = np.array(X_test).std(axis=0, dtype=np.float64)\n",
    "\n",
    "plt.figure(figsize = (12, 6))\n",
    "plt.errorbar(np.arange(p-1), standard_means_test, standard_stds_test, label = 'Testing set')\n",
    "plt.errorbar(np.arange(p-1), standard_means_train, standard_stds_train, label = 'Training set')\n",
    "plt.title(\"The mean and standard deviation of all the standarized covariates\")\n",
    "plt.legend()"
   ]
  },
  {
   "cell_type": "code",
   "execution_count": 9,
   "id": "c658f60a",
   "metadata": {},
   "outputs": [],
   "source": [
    "def r_2(Y_predicted, Y_groud_truth) :\n",
    "    Y_bar = np.mean(Y_groud_truth)\n",
    "    return 1 - np.linalg.norm(Y_predicted - Y_groud_truth)**2 / np.linalg.norm(Y_groud_truth - Y_bar)**2"
   ]
  },
  {
   "cell_type": "code",
   "execution_count": 10,
   "id": "337f4b31",
   "metadata": {},
   "outputs": [],
   "source": [
    "# Fitting a regular OLS\n",
    "\n",
    "regression = LinearRegression(fit_intercept = False)\n",
    "attributes = regression.fit(X_train, Y_train) "
   ]
  },
  {
   "cell_type": "raw",
   "id": "a38edac1",
   "metadata": {},
   "source": [
    "We don't have to fit the intercpt since we hav already standarized the data"
   ]
  },
  {
   "cell_type": "code",
   "execution_count": 11,
   "id": "372a4eb6",
   "metadata": {},
   "outputs": [
    {
     "data": {
      "text/html": [
       "<div>\n",
       "<style scoped>\n",
       "    .dataframe tbody tr th:only-of-type {\n",
       "        vertical-align: middle;\n",
       "    }\n",
       "\n",
       "    .dataframe tbody tr th {\n",
       "        vertical-align: top;\n",
       "    }\n",
       "\n",
       "    .dataframe thead th {\n",
       "        text-align: right;\n",
       "    }\n",
       "</style>\n",
       "<table border=\"1\" class=\"dataframe\">\n",
       "  <thead>\n",
       "    <tr style=\"text-align: right;\">\n",
       "      <th></th>\n",
       "      <th>Regular OLS</th>\n",
       "    </tr>\n",
       "  </thead>\n",
       "  <tbody>\n",
       "    <tr>\n",
       "      <th>0</th>\n",
       "      <td>0.960055</td>\n",
       "    </tr>\n",
       "  </tbody>\n",
       "</table>\n",
       "</div>"
      ],
      "text/plain": [
       "   Regular OLS\n",
       "0     0.960055"
      ]
     },
     "execution_count": 11,
     "metadata": {},
     "output_type": "execute_result"
    }
   ],
   "source": [
    "Y_predicted = attributes.predict(X_test)\n",
    "r2_OLS = r_2(Y_predicted, Y_test)\n",
    "df_coef = pd.DataFrame({'Regular OLS' : [r2_OLS]})\n",
    "df_coef"
   ]
  },
  {
   "cell_type": "markdown",
   "id": "1e43edbf",
   "metadata": {},
   "source": [
    "#### Variable selection :\n",
    "##### Q2 :"
   ]
  },
  {
   "cell_type": "code",
   "execution_count": 12,
   "id": "8997a762",
   "metadata": {},
   "outputs": [],
   "source": [
    "def f_variable_selection(X, Y, p_stop = None, stop_cirterion = False) :\n",
    "    \n",
    "    ''' Performs forward variable selection on the training input data X and training output data Y\n",
    "        Returns :\n",
    "           + S : a list containing the selected variables in order\n",
    "           + p_values : their respective p-values\n",
    "           + S_stop : a list containing the selected variables, in order, based on the stop criterion\n",
    "    '''\n",
    "    \n",
    "    n, p = X.shape\n",
    "    S = [] # To store all the variables, in their order of 'importance'\n",
    "    S_stop = [] # To store all the variables with a p-value smaller than p_stop\n",
    "    p_values = []\n",
    "    r = Y\n",
    "       \n",
    "    while len(S) < p :\n",
    "        T = {}\n",
    "        Thetas = {}\n",
    "        for k in range(p) : \n",
    "            # Each k define a submodel --> the covariates are \"competing\" one against the other\n",
    "            if k not in S :\n",
    "                X_ = np.stack((np.ones(n), X[:, k]), axis = 1)\n",
    "                reg = LinearRegression(fit_intercept = True)\n",
    "                reg.fit(X_, r)\n",
    "                theta_hat = reg.coef_.T\n",
    "                Gram_hat = X_.T @ X_ / n # The Gram matrix\n",
    "                s_hat = np.sqrt(np.linalg.inv(Gram_hat)[0][0])\n",
    "                sigma_hat = np.linalg.norm(r - X_ @ theta_hat)**2 / (n-2) # The noise\n",
    "                # The statistic used for the test of no-effect\n",
    "                # The larger the statistic, the more important the effect of the k-th variable\n",
    "                T_hat = (np.sqrt(n)*np.linalg.norm(theta_hat, 1)) / (s_hat * sigma_hat)\n",
    "                T[k] = T_hat\n",
    "                Thetas[k] = theta_hat\n",
    "        k_star = max(T, key = T.get)\n",
    "        p_value = 2*(1 - scipy.stats.norm.cdf(T[k_star])) # In the random design model, since we don't study the residuals\n",
    "        if stop_cirterion :\n",
    "            if p_value < p_stop : S_stop.append(k_star)\n",
    "        p_values.append(p_value)\n",
    "        S.append(k_star)\n",
    "        r = r - np.stack((np.ones(n), X[:, k_star]), axis = 1) @ Thetas[k_star] \n",
    "        # Replacing the output by the residual : account for the predictive information it brought in the modelling of Y\n",
    "    \n",
    "    return S, p_values, S_stop"
   ]
  },
  {
   "cell_type": "code",
   "execution_count": 13,
   "id": "340ce5e9",
   "metadata": {},
   "outputs": [
    {
     "name": "stdout",
     "output_type": "stream",
     "text": [
      "The selected variables are, in their selection order : [40, 7, 39, 6, 41, 8, 38, 5, 42, 9, 37, 4, 36, 10, 97, 3, 43, 11, 35, 2, 96, 12, 98, 13, 34, 1, 44, 0, 95, 14, 33, 15, 99, 16, 32, 17, 94, 18, 93, 19, 45, 64, 31, 65, 92, 63, 91, 66, 90, 67, 30, 20, 89, 62, 88, 68, 46, 61, 87, 69, 86, 60, 85, 53, 29, 52, 84, 70, 83, 54, 28, 59, 82, 21, 47, 55, 81, 58, 27, 51, 80, 71, 26, 56, 79, 57, 48, 72, 78, 50, 25, 22, 77, 73, 24, 74, 76, 75, 49, 23]\n"
     ]
    }
   ],
   "source": [
    "S = f_variable_selection(X_train, Y_train)[0]\n",
    "p_values = f_variable_selection(X_train, Y_train)[1]\n",
    "print(f\"The selected variables are, in their selection order : {S}\")"
   ]
  },
  {
   "cell_type": "markdown",
   "id": "b7c421ba",
   "metadata": {},
   "source": [
    "##### Q3 :"
   ]
  },
  {
   "cell_type": "code",
   "execution_count": 14,
   "id": "89b5a78f",
   "metadata": {},
   "outputs": [
    {
     "name": "stdout",
     "output_type": "stream",
     "text": [
      "The number of variables selcted by the FVS, with stopping critrion being p_value < 0.05 is : 23\n"
     ]
    },
    {
     "data": {
      "text/html": [
       "<div>\n",
       "<style scoped>\n",
       "    .dataframe tbody tr th:only-of-type {\n",
       "        vertical-align: middle;\n",
       "    }\n",
       "\n",
       "    .dataframe tbody tr th {\n",
       "        vertical-align: top;\n",
       "    }\n",
       "\n",
       "    .dataframe thead th {\n",
       "        text-align: right;\n",
       "    }\n",
       "</style>\n",
       "<table border=\"1\" class=\"dataframe\">\n",
       "  <thead>\n",
       "    <tr style=\"text-align: right;\">\n",
       "      <th></th>\n",
       "      <th>Regular OLS</th>\n",
       "      <th>Forward variable selection</th>\n",
       "    </tr>\n",
       "  </thead>\n",
       "  <tbody>\n",
       "    <tr>\n",
       "      <th>0</th>\n",
       "      <td>0.960055</td>\n",
       "      <td>0.95518</td>\n",
       "    </tr>\n",
       "  </tbody>\n",
       "</table>\n",
       "</div>"
      ],
      "text/plain": [
       "   Regular OLS  Forward variable selection\n",
       "0     0.960055                     0.95518"
      ]
     },
     "execution_count": 14,
     "metadata": {},
     "output_type": "execute_result"
    }
   ],
   "source": [
    "#----- Applying the OLS with the selected vairables -----#\n",
    "\n",
    "S_stop = f_variable_selection(X_train, Y_train, 0.05, stop_cirterion=True)[2]\n",
    "X_train_fvs = []\n",
    "X_test_fvs = []\n",
    "for k in range(len(S_stop)) :\n",
    "    X_train_fvs.append(X_train[:, S_stop[k]])\n",
    "    X_test_fvs.append(X_test[:, S_stop[k]])\n",
    "    \n",
    "X_train_fvs = np.array(X_train_fvs).T\n",
    "X_test_fvs = np.array(X_test_fvs).T\n",
    "\n",
    "variable_selection_reg = LinearRegression(fit_intercept=False)\n",
    "variable_selection_reg.fit(X_train_fvs, Y_train)\n",
    "Y_predicted_vs = variable_selection_reg.predict(X_test_fvs)\n",
    "\n",
    "# Storing the R² coefficient in the data frame\n",
    "r2_variable_selection = r_2(Y_predicted_vs, Y_test)\n",
    "df_coef[\"Forward variable selection\"] = r2_variable_selection\n",
    "print(f\"The number of variables selcted by the FVS, with stopping critrion being p_value < 0.05 is : {len(S_stop)}\")\n",
    "df_coef"
   ]
  },
  {
   "cell_type": "markdown",
   "id": "0066310f",
   "metadata": {},
   "source": [
    "#### Q4 :"
   ]
  },
  {
   "cell_type": "code",
   "execution_count": 15,
   "id": "eea91c59",
   "metadata": {},
   "outputs": [
    {
     "name": "stdout",
     "output_type": "stream",
     "text": [
      "The sequentially selected variables are :  [0, 1, 3, 18, 19, 21, 34, 35, 39, 40, 43, 46, 47, 48, 49, 57, 72, 74, 82, 87, 90, 97, 99]\n",
      "The forward selected variables are : [40, 7, 39, 6, 41, 8, 38, 5, 42, 9, 37, 4, 36, 10, 97, 3, 43, 11, 35, 2, 96, 12, 98]\n"
     ]
    }
   ],
   "source": [
    "#----- Fitting the Sequential Feature Selector of sklearn -----#\n",
    "\n",
    "sfs = SequentialFeatureSelector(estimator = LinearRegression(fit_intercept=False), n_features_to_select=len(S_stop))\n",
    "sfs.fit(X_train, Y_train)\n",
    "\n",
    "support = sfs.support_\n",
    "sequential_selected = []\n",
    "for k in range(len(support)) :\n",
    "    if support[k] == True : sequential_selected.append(k)\n",
    "print(f\"The sequentially selected variables are :  {sequential_selected}\")\n",
    "print(f\"The forward selected variables are : {S_stop}\")"
   ]
  },
  {
   "cell_type": "raw",
   "id": "a0d47f2c",
   "metadata": {},
   "source": [
    "We can see that the two algorithms select different variables altough we have precised the number of selected ones to be the same. In fact, this is because :\n",
    "\n",
    "+Forward variable selection is a process of adding variables one at a time based on a predetermined criterion, such as the p-value of the t-test for each variable. This process continues until all the variables that meet the criterion are added to the model.\n",
    "\n",
    "+Sequential variable selection is a process of first fitting all possible combinations of variables to the regression model and then selecting the best model based on a predetermined criterion, such as the adjusted R-squared value."
   ]
  },
  {
   "cell_type": "code",
   "execution_count": 16,
   "id": "325fdd37",
   "metadata": {},
   "outputs": [
    {
     "data": {
      "text/html": [
       "<div>\n",
       "<style scoped>\n",
       "    .dataframe tbody tr th:only-of-type {\n",
       "        vertical-align: middle;\n",
       "    }\n",
       "\n",
       "    .dataframe tbody tr th {\n",
       "        vertical-align: top;\n",
       "    }\n",
       "\n",
       "    .dataframe thead th {\n",
       "        text-align: right;\n",
       "    }\n",
       "</style>\n",
       "<table border=\"1\" class=\"dataframe\">\n",
       "  <thead>\n",
       "    <tr style=\"text-align: right;\">\n",
       "      <th></th>\n",
       "      <th>Regular OLS</th>\n",
       "      <th>Forward variable selection</th>\n",
       "      <th>Sequential variable selection</th>\n",
       "    </tr>\n",
       "  </thead>\n",
       "  <tbody>\n",
       "    <tr>\n",
       "      <th>0</th>\n",
       "      <td>0.960055</td>\n",
       "      <td>0.95518</td>\n",
       "      <td>0.93873</td>\n",
       "    </tr>\n",
       "  </tbody>\n",
       "</table>\n",
       "</div>"
      ],
      "text/plain": [
       "   Regular OLS  Forward variable selection  Sequential variable selection\n",
       "0     0.960055                     0.95518                        0.93873"
      ]
     },
     "execution_count": 16,
     "metadata": {},
     "output_type": "execute_result"
    }
   ],
   "source": [
    "#----- Applying the OLS with the sequentially selected vairables -----#\n",
    "\n",
    "X_train_sfs = []\n",
    "X_test_sfs = []\n",
    "for k in range(len(sequential_selected)) :\n",
    "    X_train_sfs.append(X_train[:, sequential_selected[k]])\n",
    "    X_test_sfs.append(X_test[:, sequential_selected[k]])\n",
    "    \n",
    "X_train_sfs = np.array(X_train_sfs).T\n",
    "X_test_sfs = np.array(X_test_sfs).T\n",
    "\n",
    "sfs_reg = LinearRegression(fit_intercept=False)\n",
    "sfs_reg.fit(X_train_sfs, Y_train)\n",
    "Y_predicted_sfs = sfs_reg.predict(X_test_sfs)\n",
    "\n",
    "r2_sequential = r_2(Y_predicted_sfs, Y_test)\n",
    "df_coef[\"Sequential variable selection\"] = r2_sequential\n",
    "df_coef"
   ]
  },
  {
   "cell_type": "markdown",
   "id": "3d4a5cd3",
   "metadata": {},
   "source": [
    "#### Ridge :\n"
   ]
  },
  {
   "cell_type": "markdown",
   "id": "8d7bb0ce",
   "metadata": {},
   "source": [
    "#### Q5 :"
   ]
  },
  {
   "cell_type": "code",
   "execution_count": 17,
   "id": "95265494",
   "metadata": {},
   "outputs": [],
   "source": [
    "def ridge(X, Y, alpha) :\n",
    "    n, p = X.shape\n",
    "    G = X.T @ X\n",
    "    I = np.eye(p, p)\n",
    "    theta_hat = np.dot(np.linalg.inv(alpha * I + G) @ X.T, Y) # The closed form of ridge estimator for centered data\n",
    "    return theta_hat"
   ]
  },
  {
   "cell_type": "code",
   "execution_count": 18,
   "id": "ca8121ec",
   "metadata": {},
   "outputs": [
    {
     "data": {
      "text/plain": [
       "Text(0.5, 1.0, 'The values of ridge coefficients as a function of $\\\\alpha$')"
      ]
     },
     "execution_count": 18,
     "metadata": {},
     "output_type": "execute_result"
    },
    {
     "data": {
      "image/png": "[encoded data removed]",
      "text/plain": [
       "<Figure size 1152x360 with 1 Axes>"
      ]
     },
     "metadata": {
      "needs_background": "light"
     },
     "output_type": "display_data"
    }
   ],
   "source": [
    "#----- How the coefficients change with alpha -----#\n",
    "\n",
    "n_alphas = 60\n",
    "plot_alphas = np.logspace(-9, 2, num=n_alphas)\n",
    "\n",
    "fig = plt.figure(figsize=(16,5))\n",
    "\n",
    "for i in range(p-1) : # The i-th coefficient of theta_hat\n",
    "    Theta_i = []\n",
    "    for k in range(len(plot_alphas)) :\n",
    "        Theta_i.append(ridge(X_train, Y_train, plot_alphas[k])[i])\n",
    "    plt.plot(plot_alphas, Theta_i)\n",
    "\n",
    "plt.xlabel(r\"The penalty parameter : $\\alpha$\")\n",
    "plt.ylabel(\"Coefficients values\")\n",
    "plt.xscale('log')\n",
    "plt.title(r\"The values of ridge coefficients as a function of $\\alpha$\")"
   ]
  },
  {
   "cell_type": "raw",
   "id": "8924a22a",
   "metadata": {},
   "source": [
    "The shape of the plot is as expected : we have variations of the coefficients for small values of the regularization parameter, and they shrink as this parameter goes up."
   ]
  },
  {
   "cell_type": "code",
   "execution_count": 39,
   "id": "9714315e",
   "metadata": {},
   "outputs": [
    {
     "data": {
      "text/plain": [
       "<matplotlib.legend.Legend at 0x2672baf3eb0>"
      ]
     },
     "execution_count": 39,
     "metadata": {},
     "output_type": "execute_result"
    },
    {
     "data": {
      "image/png": "[encoded data removed]",
      "text/plain": [
       "<Figure size 1152x360 with 1 Axes>"
      ]
     },
     "metadata": {},
     "output_type": "display_data"
    }
   ],
   "source": [
    "#----- MSE of both train and test sets -----#\n",
    "\n",
    "n_alphas = 100\n",
    "alphas = np.logspace(-8, 2, num=n_alphas)\n",
    "\n",
    "\n",
    "MSE_train = []\n",
    "MSE_test = []\n",
    "for k in range(len(alphas)) :\n",
    "    theta_hat = ridge(X_train, Y_train, alphas[k])\n",
    "    Y_train_hat = X_train @ theta_hat\n",
    "    Y_test_hat = X_test @ theta_hat\n",
    "    err_train = mse(Y_train_hat, Y_train)\n",
    "    err_test = mse(Y_test_hat, Y_test)\n",
    "    MSE_train.append(err_train)\n",
    "    MSE_test.append(err_test)\n",
    "    \n",
    "min_train = MSE_train.index(min(MSE_train))\n",
    "min_test = MSE_test.index(min(MSE_test))\n",
    "\n",
    "fig = plt.figure(figsize=(16,5))\n",
    "plt.plot(alphas, MSE_train, label = 'Train set')\n",
    "plt.plot(alphas, MSE_test, label = 'Test set')\n",
    "plt.plot(alphas[min_train], MSE_train[min_train], 'bo', label = 'Minimum for train set')\n",
    "plt.plot(alphas[min_train], MSE_test[min_train], 'co', label = 'Minimum for test set')\n",
    "plt.xlabel(r\"The penalty parameter : $\\alpha$\")\n",
    "plt.ylabel(\"MSE\")\n",
    "plt.xscale('log')\n",
    "plt.title(r\"MSE as a function of $\\alpha$\")\n",
    "plt.legend()"
   ]
  },
  {
   "cell_type": "code",
   "execution_count": 40,
   "id": "a2e187f2",
   "metadata": {},
   "outputs": [
    {
     "data": {
      "text/html": [
       "<div>\n",
       "<style scoped>\n",
       "    .dataframe tbody tr th:only-of-type {\n",
       "        vertical-align: middle;\n",
       "    }\n",
       "\n",
       "    .dataframe tbody tr th {\n",
       "        vertical-align: top;\n",
       "    }\n",
       "\n",
       "    .dataframe thead th {\n",
       "        text-align: right;\n",
       "    }\n",
       "</style>\n",
       "<table border=\"1\" class=\"dataframe\">\n",
       "  <thead>\n",
       "    <tr style=\"text-align: right;\">\n",
       "      <th></th>\n",
       "      <th>Regular OLS</th>\n",
       "      <th>Forward variable selection</th>\n",
       "      <th>Sequential variable selection</th>\n",
       "      <th>Ridge</th>\n",
       "      <th>Lasso</th>\n",
       "      <th>PCA before OLS</th>\n",
       "    </tr>\n",
       "  </thead>\n",
       "  <tbody>\n",
       "    <tr>\n",
       "      <th>0</th>\n",
       "      <td>0.960055</td>\n",
       "      <td>0.95518</td>\n",
       "      <td>0.93873</td>\n",
       "      <td>0.976246</td>\n",
       "      <td>0.926019</td>\n",
       "      <td>0.97746</td>\n",
       "    </tr>\n",
       "  </tbody>\n",
       "</table>\n",
       "</div>"
      ],
      "text/plain": [
       "   Regular OLS  Forward variable selection  Sequential variable selection  \\\n",
       "0     0.960055                     0.95518                        0.93873   \n",
       "\n",
       "      Ridge     Lasso  PCA before OLS  \n",
       "0  0.976246  0.926019         0.97746  "
      ]
     },
     "execution_count": 40,
     "metadata": {},
     "output_type": "execute_result"
    }
   ],
   "source": [
    "#----- R² for the best performing value of the Ridge regularization parameter -----# \n",
    "\n",
    "alpha_best = alphas[min_train]\n",
    "theta_ridge = ridge(X_train, Y_train, alpha_best)\n",
    "Y_predicted_ridge = X_test @ theta_ridge\n",
    "r2_ridge = r_2(Y_predicted_ridge, Y_test)\n",
    "df_coef[\"Ridge\"] = r2_ridge\n",
    "df_coef"
   ]
  },
  {
   "cell_type": "markdown",
   "id": "7ff9a782",
   "metadata": {},
   "source": [
    "#### Crossvalidation, Lasso and elastic net :"
   ]
  },
  {
   "cell_type": "markdown",
   "id": "551f379f",
   "metadata": {},
   "source": [
    "#### Q6 :"
   ]
  },
  {
   "cell_type": "code",
   "execution_count": 21,
   "id": "fd9f989a",
   "metadata": {},
   "outputs": [],
   "source": [
    "#----- Performing the Lasso -----#\n",
    "\n",
    "n_alphas = 60\n",
    "lasso_alphas = np.logspace(-5, -2, num=n_alphas)\n",
    "\n",
    "thetas_nz = []\n",
    "\n",
    "MSE_train_lasso = []\n",
    "MSE_test_lasso = []\n",
    "\n",
    "for alpha in lasso_alphas :\n",
    "    lasso_k = Lasso(alpha, fit_intercept = False, max_iter = 1e5, tol=0.05)\n",
    "    lasso_k.fit(X_train, Y_train)\n",
    "    theta_hat = lasso_k.coef_\n",
    "    \n",
    "    count_nz = 0\n",
    "    for t_ in theta_hat:\n",
    "        if t_ != 0 : count_nz += 1\n",
    "    thetas_nz.append(count_nz)\n",
    "   \n",
    "    Y_train_pred = lasso_k.predict(X_train)\n",
    "    Y_test_pred = lasso_k.predict(X_test)\n",
    "    err_train = mse(Y_train, Y_train_pred)\n",
    "    err_test = mse(Y_test, Y_test_pred)\n",
    "    MSE_train_lasso.append(err_train)\n",
    "    MSE_test_lasso.append(err_test)"
   ]
  },
  {
   "cell_type": "code",
   "execution_count": 22,
   "id": "49134028",
   "metadata": {},
   "outputs": [
    {
     "data": {
      "text/plain": [
       "<matplotlib.legend.Legend at 0x2672897f5e0>"
      ]
     },
     "execution_count": 22,
     "metadata": {},
     "output_type": "execute_result"
    },
    {
     "data": {
      "image/png": "[encoded data removed]",
      "text/plain": [
       "<Figure size 1152x288 with 2 Axes>"
      ]
     },
     "metadata": {
      "needs_background": "light"
     },
     "output_type": "display_data"
    }
   ],
   "source": [
    "#----- Plotting the results -----#\n",
    "\n",
    "min_train_lasso = min(MSE_train_lasso)\n",
    "min_test_lasso = min(MSE_test_lasso)\n",
    "\n",
    "fig, axes = plt.subplots(nrows=1, ncols=2, figsize=(16, 4))\n",
    "\n",
    "axes[0].plot(lasso_alphas, thetas_nz)\n",
    "axes[0].set_xlabel(r\"The penalty parameter : $\\alpha$\")\n",
    "axes[0].set_title(r\"Number of non zero coefficients as a function of $\\alpha$\")\n",
    "axes[0].set_xscale('log')\n",
    "\n",
    "\n",
    "axes[1].plot(lasso_alphas, MSE_train_lasso, label = 'Train set')\n",
    "axes[1].plot(lasso_alphas, MSE_test_lasso, label = 'Test set')\n",
    "axes[1].plot(lasso_alphas[MSE_train_lasso.index(min_train_lasso)], min_train_lasso, 'bo', label = 'Minimum for train set')\n",
    "axes[1].plot(lasso_alphas[MSE_test_lasso.index(min_test_lasso)], min_test_lasso, 'co', label = 'Minimum for test set')\n",
    "axes[1].set_xlabel(r\"The penalty parameter : $\\alpha$\")\n",
    "axes[1].set_ylabel(\"MSE\")\n",
    "axes[1].set_xscale('log')\n",
    "axes[1].set_title(r\"MSE of LASSO as a function of $\\alpha$\")\n",
    "axes[1].legend()"
   ]
  },
  {
   "cell_type": "code",
   "execution_count": 23,
   "id": "a0145f21",
   "metadata": {},
   "outputs": [
    {
     "data": {
      "text/html": [
       "<div>\n",
       "<style scoped>\n",
       "    .dataframe tbody tr th:only-of-type {\n",
       "        vertical-align: middle;\n",
       "    }\n",
       "\n",
       "    .dataframe tbody tr th {\n",
       "        vertical-align: top;\n",
       "    }\n",
       "\n",
       "    .dataframe thead th {\n",
       "        text-align: right;\n",
       "    }\n",
       "</style>\n",
       "<table border=\"1\" class=\"dataframe\">\n",
       "  <thead>\n",
       "    <tr style=\"text-align: right;\">\n",
       "      <th></th>\n",
       "      <th>Regular OLS</th>\n",
       "      <th>Forward variable selection</th>\n",
       "      <th>Sequential variable selection</th>\n",
       "      <th>Ridge</th>\n",
       "      <th>Lasso</th>\n",
       "    </tr>\n",
       "  </thead>\n",
       "  <tbody>\n",
       "    <tr>\n",
       "      <th>0</th>\n",
       "      <td>0.960055</td>\n",
       "      <td>0.95518</td>\n",
       "      <td>0.93873</td>\n",
       "      <td>0.976246</td>\n",
       "      <td>0.926019</td>\n",
       "    </tr>\n",
       "  </tbody>\n",
       "</table>\n",
       "</div>"
      ],
      "text/plain": [
       "   Regular OLS  Forward variable selection  Sequential variable selection  \\\n",
       "0     0.960055                     0.95518                        0.93873   \n",
       "\n",
       "      Ridge     Lasso  \n",
       "0  0.976246  0.926019  "
      ]
     },
     "execution_count": 23,
     "metadata": {},
     "output_type": "execute_result"
    }
   ],
   "source": [
    "#----- R² for the best performing value of the Lasso regularization parameter -----# \n",
    "\n",
    "alpha_lasso = lasso_alphas[MSE_train_lasso.index(min_train_lasso)]\n",
    "lasso = Lasso(alpha_lasso, fit_intercept = False, max_iter = 1e5, tol=0.05)\n",
    "lasso.fit(X_train, Y_train)\n",
    "Y_predicted_lasso = lasso.predict(X_test)\n",
    "r2_lasso = lasso.score(X_test, Y_test)\n",
    "df_coef[\"Lasso\"] = r2_lasso\n",
    "df_coef"
   ]
  },
  {
   "cell_type": "markdown",
   "id": "6f84c19b",
   "metadata": {},
   "source": [
    "#### Q7 :"
   ]
  },
  {
   "cell_type": "code",
   "execution_count": 37,
   "id": "aca7abb8",
   "metadata": {},
   "outputs": [],
   "source": [
    "#----- Cross validation & ElasticNet -----#\n",
    "\n",
    "K = 10\n",
    "r = 200\n",
    "\n",
    "cv_ridge_alphas = np.logspace(-10, 3, num=r)\n",
    "cv_lasso_alphas = [0, 0.1, 0.5, 0.7, 0.9, 0.99]\n",
    "\n",
    "\n",
    "Errors = []\n",
    "for a_lasso in cv_lasso_alphas :\n",
    "    Errors_ridge = []\n",
    "    for a_ridge in cv_ridge_alphas :\n",
    "        Errors_k = []\n",
    "        for k in range(K) : \n",
    "            delta = len(X_train)//K\n",
    "            indices = range(k*delta, (k+1)*delta)\n",
    "            X_cv_k = np.reshape(np.delete(X_train, indices, axis=0), (X_train.shape[0]-delta, X_train.shape[1]))\n",
    "            # We are deleting delta lines from X_train --> we need to reshape after\n",
    "            Y_cv_k = np.delete(Y_train, indices)\n",
    "            \n",
    "            elastic_net = ElasticNet(alpha = a_lasso + a_ridge, l1_ratio = a_lasso/(a_lasso + a_ridge), \n",
    "                                     fit_intercept = False, max_iter = 10e4, tol = 10-5)\n",
    "            elastic_net.fit(X_cv_k, Y_cv_k)\n",
    "            \n",
    "            Y_cv_pred = elastic_net.predict(X_train[k*delta:(k+1)*delta]) # We test on the \"deleted\" fold\n",
    "            err = mse(Y_cv_pred, Y_train[k*delta:(k+1)*delta])\n",
    "            Errors_k.append(err)\n",
    "        Errors_ridge.append(np.mean(Errors_k))\n",
    "    Errors.append(Errors_ridge)"
   ]
  },
  {
   "cell_type": "code",
   "execution_count": 38,
   "id": "e642df50",
   "metadata": {},
   "outputs": [
    {
     "data": {
      "image/png": "[encoded data removed]",
      "text/plain": [
       "<Figure size 1152x360 with 1 Axes>"
      ]
     },
     "metadata": {},
     "output_type": "display_data"
    }
   ],
   "source": [
    "fig = plt.figure(figsize=(16,5))\n",
    "for k in range(len(cv_lasso_alphas)) :\n",
    "    plt.plot(cv_ridge_alphas, Errors[k], label = r'$\\alpha = $' + f'{cv_lasso_alphas[k]}')\n",
    "    plt.ylabel('MSE')\n",
    "    plt.xlabel('The Ridge regularization parameter')\n",
    "    plt.xscale('log')\n",
    "    plt.legend()"
   ]
  },
  {
   "cell_type": "markdown",
   "id": "3d1daed9",
   "metadata": {},
   "source": [
    "#### Bootstrap :"
   ]
  },
  {
   "cell_type": "markdown",
   "id": "4d3ac192",
   "metadata": {},
   "source": [
    "#### Q8 :"
   ]
  },
  {
   "cell_type": "code",
   "execution_count": 50,
   "id": "f675875c",
   "metadata": {},
   "outputs": [
    {
     "data": {
      "image/png": "[encoded data removed]",
      "text/plain": [
       "<Figure size 1152x288 with 3 Axes>"
      ]
     },
     "metadata": {},
     "output_type": "display_data"
    }
   ],
   "source": [
    "#----- Bootstrap & Prediction Intervals -----#\n",
    "\n",
    "fig, axes = plt.subplots(nrows=1, ncols=3, figsize=(16, 4))\n",
    "\n",
    "Xb = X.T[40]\n",
    "reg = LinearRegression(fit_intercept=True)\n",
    "reg.fit(Xb.reshape(-1, 1), Y)\n",
    "Y_pred = reg.predict(Xb.reshape(-1, 1))\n",
    "axes[0].scatter(Xb, Y, alpha=0.6, edgecolors=\"k\")\n",
    "axes[0].plot(Xb, Y_pred, color='k')\n",
    "axes[0].set_title(\"Plot of the data with the fitted regression line\")\n",
    "\n",
    "B = 50\n",
    "alpha_bis = 0.9\n",
    "\n",
    "\n",
    "for k in range(B) :\n",
    "    \n",
    "    #-- Regression on the generated bootstrap samples --#\n",
    "    Xk = np.zeros(Xb.shape)\n",
    "    Yk = np.zeros(Y.shape)\n",
    "    n = Xk.shape[0]\n",
    "    for i in range(n) :\n",
    "        r = np.random.randint(0, n)\n",
    "        Xk[i] = Xb[r] \n",
    "        Yk[i] = Y[r]\n",
    "    reg_k = LinearRegression(fit_intercept=True)\n",
    "    reg_k.fit(Xk.reshape(-1, 1), Yk)\n",
    "    Yk_pred = reg_k.predict(Xk.reshape(-1, 1))\n",
    "    axes[1].plot(Xk, Yk_pred, alpha=0.4)\n",
    "    axes[1].set_title(\"Fitted regression lines of the generated bootstrap samples\")\n",
    "    \n",
    "    #-- Prediction intevals ---#\n",
    "    Xk_bar = np.mean(Xk)\n",
    "    Yk_bar = np.mean(Yk)\n",
    "    Xk_var = sum((Xk - Xk_bar)**2)\n",
    "    \n",
    "    beta_0 = reg_k.intercept_\n",
    "    beta_1 = reg_k.coef_\n",
    "    sigma_hat = np.sqrt((sum(Yk - Yk_pred)**2) / (n-2))\n",
    "    \n",
    "    beta0_sd = sigma_hat * np.sqrt(1/n + Xk_bar**2/Xk_var)\n",
    "    beta1_sd = sigma_hat / np.sqrt(Xk_var)\n",
    "\n",
    "    t_alpha = t.ppf(1-alpha_bis/2, n-2, loc = beta_1, scale = beta1_sd)\n",
    "    p_low = Yk_pred - t_alpha*sigma_hat*np.sqrt(1 + 1/n + (Xk-Xk_bar)**2/Xk_var)\n",
    "    p_up = Yk_pred + t_alpha*sigma_hat*np.sqrt(1 + 1/n + (Xk-Xk_bar)**2/Xk_var)\n",
    "    axes[2].plot(Xk, p_low, '--', label = 'Prediction interval')\n",
    "    axes[2].plot(Xk, p_up, '--')\n",
    "    axes[2].set_title(\"Prediction intervals\")"
   ]
  },
  {
   "cell_type": "markdown",
   "id": "edfdf70e",
   "metadata": {},
   "source": [
    "#### PCA :"
   ]
  },
  {
   "cell_type": "markdown",
   "id": "62fb57c0",
   "metadata": {},
   "source": [
    "#### Q9 :"
   ]
  },
  {
   "cell_type": "code",
   "execution_count": 27,
   "id": "5752a56a",
   "metadata": {},
   "outputs": [],
   "source": [
    "#----- SVD -----#\n",
    "G = X_train.T @ X_train / n # The covariance matrix is the Gram matrix \n",
    "U, s, V = np.linalg.svd(G, hermitian=True)"
   ]
  },
  {
   "cell_type": "code",
   "execution_count": 28,
   "id": "c9e3dfa8",
   "metadata": {},
   "outputs": [
    {
     "data": {
      "image/png": "[encoded data removed]",
      "text/plain": [
       "<Figure size 576x432 with 2 Axes>"
      ]
     },
     "metadata": {
      "needs_background": "light"
     },
     "output_type": "display_data"
    }
   ],
   "source": [
    "#----- Heatmap of the covariance matrix -----#\n",
    "\n",
    "fig = plt.figure(figsize=(8, 6))\n",
    "sns.set_style(\"whitegrid\", {'axes.grid': False})\n",
    "ax = fig.add_subplot()\n",
    "heatmap = ax.matshow(G, cmap=\"RdBu\") \n",
    "fig.colorbar(heatmap) \n",
    "plt.show()"
   ]
  },
  {
   "cell_type": "code",
   "execution_count": 63,
   "id": "00ffee9c",
   "metadata": {},
   "outputs": [
    {
     "data": {
      "text/plain": [
       "<matplotlib.legend.Legend at 0x2672b5bde50>"
      ]
     },
     "execution_count": 63,
     "metadata": {},
     "output_type": "execute_result"
    },
    {
     "data": {
      "image/png": "[encoded data removed]",
      "text/plain": [
       "<Figure size 1152x216 with 1 Axes>"
      ]
     },
     "metadata": {},
     "output_type": "display_data"
    }
   ],
   "source": [
    "#----- plot of the variance explained by the first k components ; k = 2, ..., p -----#\n",
    "\n",
    "fig = plt.figure(figsize=(16,3))\n",
    "\n",
    "# Using SVD\n",
    "n, p = X_train.shape\n",
    "PC = X_train @ U\n",
    "plt.plot(np.arange(p)[1:20], np.var(PC, axis=0)[1:20], label='SVD')\n",
    "\n",
    "# Using sklearn\n",
    "pca_all = PCA(n_components=p)\n",
    "pca_all.fit_transform(X_train)\n",
    "plt.plot(np.arange(p)[1:20], pca_all.explained_variance_[1:20], label='sklearn')\n",
    "\n",
    "plt.xlabel('The components')\n",
    "plt.ylabel('The variance')\n",
    "plt.title('The amount of variance explained by the first components')\n",
    "plt.legend()"
   ]
  },
  {
   "cell_type": "code",
   "execution_count": 65,
   "id": "90ec10ed",
   "metadata": {},
   "outputs": [
    {
     "data": {
      "application/vnd.plotly.v1+json": {
       "config": {
        "plotlyServerURL": "https://plot.ly"
       },
       "data": [
        {
         "hovertemplate": "index=%{x}<br>value=%{y}<br>color=%{marker.color}<extra></extra>",
         "legendgroup": "",
         "marker": {
          "color": [
           -0.08771207034712424,
           -1.0165604050487222,
           -0.8591284839128581,
           -0.3632179323348863,
           -0.9063580602536173,
           -0.5993658140386824,
           -0.465548681073198,
           0.14056421529987853,
           1.3921479883299976,
           0.9198522249224058,
           -1.1503775380142067,
           0.8332646682976804,
           -0.17429962697184945,
           -0.44193389290281837,
           0.03823346656156713,
           -0.9063580602536173,
           -0.9535876365943765,
           0.7624203037865418,
           -0.1900428190854359,
           -0.8118989075720988,
           -0.032610897949571865,
           0.38458369306046797,
           -0.9850740208215494,
           0.581373594480298,
           -1.0244320011055155,
           0.7860350919569215,
           -0.5442646416411301,
           -0.8906148681400309,
           0.6286031708210573,
           -1.1976071143549658,
           -0.8118989075720988,
           0.05397665867515348,
           1.4472491607275504,
           -1.1110195577302406,
           -0.27663037571016114,
           0.9670818012631649,
           -0.8512568878560649,
           -0.8040273115153057,
           -0.5600078337547164,
           -1.0086888089919288,
           1.0379261657743037,
           -1.048046789275895,
           1.423634372557171,
           -0.8984864641968242,
           -0.7646693312313396,
           -0.9221012523672037,
           -0.9614592326511697,
           -0.44193389290281837,
           2.3918406875427345,
           2.1950507861229047,
           1.0930273381718563,
           -0.7646693312313396,
           0.5262724220827456,
           0.8096498801273008,
           -0.9221012523672037,
           -0.5600078337547164,
           -0.0404824940063649,
           -0.9614592326511697,
           -0.13494164668788355,
           -0.9221012523672037,
           0.4081984812308476,
           0.10120623501591253,
           -1.1110195577302406,
           0.8490078604112669,
           0.34522571277650194,
           -0.13494164668788355,
           1.5495799094658618,
           -0.13494164668788355,
           -0.8827432720832377,
           -0.8670000799696513,
           2.021875672873454,
           -0.8197705036288921,
           -1.1188911537870339,
           -1.1425059419574135,
           -0.5442646416411301,
           1.3685332001596182,
           -0.622980602209062,
           -0.6308521982658553,
           0.014618678391187466,
           2.1950507861229047,
           -0.7016965627769941,
           1.9195449241351425,
           1.9352881162487292,
           -0.8591284839128581,
           -0.5442646416411301,
           1.3370468159324456,
           -0.3002451638805407,
           1.6046810818634143,
           0.8568794564680601,
           -0.7489261391177533,
           -0.5442646416411301,
           -0.20578601119902226,
           1.3134320277620657,
           -1.35503903549083,
           1.108770530285443,
           0.1956653876974312,
           0.7624203037865418,
           -0.9221012523672037,
           -0.8748716760264446,
           1.7306266187721058,
           1.2662024514213068,
           2.336739515145182,
           2.3682258993723555,
           0.5341440181395387,
           -1.315681055206864,
           -0.5521362376979232,
           -0.9299728484239969,
           1.0536693578878902,
           -1.0637899813894813,
           -1.0165604050487222,
           0.6758327471618164,
           0.8490078604112669,
           2.1714359979525253,
           0.6600895550482301,
           -0.27663037571016114,
           0.8726226485816465,
           0.41607007728764067,
           -0.8512568878560649,
           0.21928017586781057,
           -1.0559183853326883,
           2.1163348255549725,
           -0.9850740208215494,
           0.24289496403819025,
           1.0221829736607175,
           2.2344087664068706,
           -0.33960314416450665,
           -0.9535876365943765,
           -0.1428132427446766,
           -0.8906148681400309,
           0.00674708233439415,
           -0.5678794298115096,
           -1.2684514788661048,
           -0.6308521982658553,
           0.9119806288656125,
           -0.9221012523672037,
           0.7151907274457824,
           -0.7882841194017193,
           -0.6623385824930281,
           -0.3632179323348863,
           0.8017782840705078,
           -0.5678794298115096,
           -0.16642803091505626,
           -0.5914942179818893,
           -0.0011245137223988852,
           1.344918411989239,
           -0.8670000799696513,
           -0.9221012523672037,
           0.7702918998433348,
           -0.33960314416450665,
           -0.8197705036288921,
           -0.426190700789232,
           0.9119806288656125,
           -0.7016965627769941,
           0.14056421529987853,
           0.26650975220856993,
           -0.8040273115153057,
           -0.8591284839128581,
           -0.8906148681400309,
           1.0536693578878902,
           -1.35503903549083,
           2.328867919088389,
           -0.08771207034712424,
           -1.0165604050487222,
           -0.8591284839128581,
           -0.3632179323348863,
           -0.9063580602536173,
           -0.5993658140386824,
           -0.465548681073198,
           0.14056421529987853,
           1.3921479883299976,
           0.9198522249224058,
           -1.1503775380142067,
           0.8332646682976804,
           -0.17429962697184945,
           -0.44193389290281837,
           0.03823346656156713,
           -0.9063580602536173,
           -0.9535876365943765,
           0.7624203037865418,
           -0.1900428190854359,
           -0.8118989075720988,
           -0.032610897949571865,
           0.38458369306046797,
           -0.9850740208215494,
           0.581373594480298,
           -1.0244320011055155,
           0.7860350919569215,
           -0.5442646416411301,
           -0.8906148681400309,
           0.6286031708210573,
           -1.1976071143549658,
           -0.8118989075720988,
           0.05397665867515348,
           1.4472491607275504,
           -1.1110195577302406,
           -0.27663037571016114,
           0.9670818012631649,
           -0.8512568878560649,
           -0.8040273115153057,
           -0.5600078337547164,
           -1.0086888089919288,
           1.0379261657743037,
           -1.048046789275895,
           1.423634372557171,
           -0.8984864641968242,
           -0.7646693312313396,
           -0.9221012523672037,
           -0.9614592326511697,
           -0.44193389290281837,
           2.3918406875427345,
           2.1950507861229047,
           1.0930273381718563,
           -0.7646693312313396,
           0.5262724220827456,
           0.8096498801273008,
           -0.9221012523672037,
           -0.5600078337547164,
           -0.0404824940063649,
           -0.9614592326511697,
           -0.13494164668788355,
           -0.9221012523672037,
           0.4081984812308476,
           0.10120623501591253,
           -1.1110195577302406,
           0.8490078604112669,
           0.34522571277650194,
           -0.13494164668788355,
           1.5495799094658618,
           -0.13494164668788355,
           -0.8827432720832377,
           -0.8670000799696513,
           2.021875672873454,
           -0.8197705036288921,
           -1.1188911537870339,
           -1.1425059419574135,
           -0.5442646416411301,
           1.3685332001596182,
           -0.622980602209062,
           -0.6308521982658553,
           0.014618678391187466,
           2.1950507861229047,
           -0.7016965627769941,
           1.9195449241351425,
           1.9352881162487292,
           -0.8591284839128581,
           -0.5442646416411301,
           1.3370468159324456,
           -0.3002451638805407,
           1.6046810818634143,
           0.8568794564680601,
           -0.7489261391177533,
           -0.5442646416411301,
           -0.20578601119902226,
           1.3134320277620657,
           -1.35503903549083,
           1.108770530285443,
           0.1956653876974312,
           0.7624203037865418,
           -0.9221012523672037,
           -0.8748716760264446,
           1.7306266187721058,
           1.2662024514213068,
           2.336739515145182,
           2.3682258993723555,
           0.5341440181395387,
           -1.315681055206864,
           -0.5521362376979232,
           -0.9299728484239969,
           1.0536693578878902,
           -1.0637899813894813,
           -1.0165604050487222,
           0.6758327471618164,
           0.8490078604112669,
           2.1714359979525253,
           0.6600895550482301,
           -0.27663037571016114,
           0.8726226485816465,
           0.41607007728764067,
           -0.8512568878560649,
           0.21928017586781057,
           -1.0559183853326883,
           2.1163348255549725,
           -0.9850740208215494,
           0.24289496403819025,
           1.0221829736607175,
           2.2344087664068706,
           -0.33960314416450665,
           -0.9535876365943765,
           -0.1428132427446766,
           -0.8906148681400309,
           0.00674708233439415,
           -0.5678794298115096,
           -1.2684514788661048,
           -0.6308521982658553,
           0.9119806288656125,
           -0.9221012523672037,
           0.7151907274457824,
           -0.7882841194017193,
           -0.6623385824930281,
           -0.3632179323348863,
           0.8017782840705078,
           -0.5678794298115096,
           -0.16642803091505626,
           -0.5914942179818893,
           -0.0011245137223988852,
           1.344918411989239,
           -0.8670000799696513,
           -0.9221012523672037,
           0.7702918998433348,
           -0.33960314416450665,
           -0.8197705036288921,
           -0.426190700789232,
           0.9119806288656125,
           -0.7016965627769941,
           0.14056421529987853,
           0.26650975220856993,
           -0.8040273115153057,
           -0.8591284839128581,
           -0.8906148681400309,
           1.0536693578878902,
           -1.35503903549083,
           2.328867919088389
          ],
          "coloraxis": "coloraxis",
          "symbol": "circle"
         },
         "mode": "markers",
         "name": "",
         "orientation": "v",
         "showlegend": false,
         "type": "scatter",
         "x": [
          0,
          1,
          2,
          3,
          4,
          5,
          6,
          7,
          8,
          9,
          10,
          11,
          12,
          13,
          14,
          15,
          16,
          17,
          18,
          19,
          20,
          21,
          22,
          23,
          24,
          25,
          26,
          27,
          28,
          29,
          30,
          31,
          32,
          33,
          34,
          35,
          36,
          37,
          38,
          39,
          40,
          41,
          42,
          43,
          44,
          45,
          46,
          47,
          48,
          49,
          50,
          51,
          52,
          53,
          54,
          55,
          56,
          57,
          58,
          59,
          60,
          61,
          62,
          63,
          64,
          65,
          66,
          67,
          68,
          69,
          70,
          71,
          72,
          73,
          74,
          75,
          76,
          77,
          78,
          79,
          80,
          81,
          82,
          83,
          84,
          85,
          86,
          87,
          88,
          89,
          90,
          91,
          92,
          93,
          94,
          95,
          96,
          97,
          98,
          99,
          100,
          101,
          102,
          103,
          104,
          105,
          106,
          107,
          108,
          109,
          110,
          111,
          112,
          113,
          114,
          115,
          116,
          117,
          118,
          119,
          120,
          121,
          122,
          123,
          124,
          125,
          126,
          127,
          128,
          129,
          130,
          131,
          132,
          133,
          134,
          135,
          136,
          137,
          138,
          139,
          140,
          141,
          142,
          143,
          144,
          145,
          146,
          147,
          148,
          149,
          150,
          151,
          152,
          153,
          154,
          155,
          156,
          157,
          158,
          159,
          160,
          0,
          1,
          2,
          3,
          4,
          5,
          6,
          7,
          8,
          9,
          10,
          11,
          12,
          13,
          14,
          15,
          16,
          17,
          18,
          19,
          20,
          21,
          22,
          23,
          24,
          25,
          26,
          27,
          28,
          29,
          30,
          31,
          32,
          33,
          34,
          35,
          36,
          37,
          38,
          39,
          40,
          41,
          42,
          43,
          44,
          45,
          46,
          47,
          48,
          49,
          50,
          51,
          52,
          53,
          54,
          55,
          56,
          57,
          58,
          59,
          60,
          61,
          62,
          63,
          64,
          65,
          66,
          67,
          68,
          69,
          70,
          71,
          72,
          73,
          74,
          75,
          76,
          77,
          78,
          79,
          80,
          81,
          82,
          83,
          84,
          85,
          86,
          87,
          88,
          89,
          90,
          91,
          92,
          93,
          94,
          95,
          96,
          97,
          98,
          99,
          100,
          101,
          102,
          103,
          104,
          105,
          106,
          107,
          108,
          109,
          110,
          111,
          112,
          113,
          114,
          115,
          116,
          117,
          118,
          119,
          120,
          121,
          122,
          123,
          124,
          125,
          126,
          127,
          128,
          129,
          130,
          131,
          132,
          133,
          134,
          135,
          136,
          137,
          138,
          139,
          140,
          141,
          142,
          143,
          144,
          145,
          146,
          147,
          148,
          149,
          150,
          151,
          152,
          153,
          154,
          155,
          156,
          157,
          158,
          159,
          160
         ],
         "xaxis": "x",
         "y": [
          21.389795295088906,
          -11.232985472689952,
          -13.289603026127736,
          -5.682582137449653,
          -4.573396983767088,
          9.688218378338764,
          -10.243422713528192,
          11.644332498851128,
          16.660547103112627,
          3.113206092300394,
          4.597964712317865,
          -3.160120301236883,
          9.021843837536434,
          0.6847876082847714,
          -3.0727443749884378,
          -4.573396983767086,
          -5.885460862573312,
          -1.482056660318897,
          -1.3040380358153842,
          -2.2796927760082824,
          -6.0721090886173865,
          1.3097289519161857,
          -6.568554406179595,
          1.2177892195738036,
          -8.18000015672205,
          -6.456346663637337,
          -8.698917102768322,
          -5.380267812968728,
          0.04684846129092337,
          2.0365501057582684,
          3.69852651032968,
          5.854118612667842,
          20.846415072481925,
          8.003599921417324,
          -13.086797180559712,
          14.740318631610698,
          -7.412070293633016,
          -1.1701698538179053,
          3.204070867688859,
          -8.95671362703171,
          7.977696994327993,
          -11.060891797189973,
          -2.4342600452210146,
          -1.124440574208926,
          -6.630619819095154,
          2.436211453366047,
          -2.3805140206762916,
          -4.329240374238941,
          34.72579722986597,
          5.732029984033536,
          18.394467886293334,
          -11.31045466447539,
          11.377827221919006,
          -1.801821699625499,
          -11.464170188410632,
          -12.407118817206749,
          29.241259825250527,
          -1.4298001230530444,
          -8.457113687753345,
          -12.499120373209955,
          4.799201671235435,
          2.247981233948227,
          8.003599921417322,
          -7.223774409505046,
          -3.861611090605966,
          -0.9412165946047475,
          -0.8608204774162118,
          0.12359052852853683,
          -9.772458969528323,
          -4.286725176429025,
          2.799518492839066,
          -12.084216279201906,
          -6.045139435112368,
          -13.41987653808042,
          -8.69891710276832,
          -4.420797493243876,
          12.660120710423719,
          15.036673265347632,
          3.136209079712217,
          6.211832990604004,
          4.507747111698786,
          -2.4827417387009136,
          5.163727631607124,
          -4.499870947698367,
          -5.873971801176569,
          16.451715984314166,
          -1.3469800180067442,
          12.242042898376504,
          7.966759878126581,
          -0.3172111161476717,
          15.457703593860023,
          5.8545573089785545,
          33.550803008006994,
          -14.153844724306332,
          3.298812088562218,
          -8.790960250196553,
          -1.4820566603188958,
          -12.499120373209953,
          0.549436057614167,
          1.3039799276435047,
          4.829910175456942,
          4.5331683056208325,
          27.367264717021467,
          -7.100070191266628,
          -16.064344274751615,
          20.003520611673633,
          -1.4114879135900753,
          13.41125440896582,
          -6.4908068698867725,
          -8.760528693192672,
          7.340439767829514,
          -8.112141715670226,
          1.2224668213799226,
          20.559824716207252,
          -13.086797180559712,
          -7.375860041091506,
          -1.2870590610214194,
          -7.33082572118061,
          -3.2392158000149935,
          -4.367930647292531,
          0.7221622524490565,
          -5.256172953058265,
          17.679004246068963,
          9.718890285944987,
          -2.508249312126397,
          -10.025766722483482,
          -1.6835815036909345,
          -1.3788241978351694,
          -6.332995982329921,
          -2.0812392349892788,
          -0.16601825251659497,
          -13.05121649365637,
          7.755331480998079,
          -1.1119005930009132,
          -1.8526309502428266,
          -2.4684461279702123,
          -10.911309331734989,
          -4.722977823964843,
          -8.561255469000693,
          12.211700120801932,
          -0.4225967817679989,
          12.301960355683097,
          -5.069112914991104,
          -6.805804829616865,
          7.589324351457046,
          -13.05333663258933,
          -11.464170188410629,
          13.072691868118037,
          -10.025766722483482,
          -11.879533275141796,
          -11.368638315260805,
          -1.1119005930009132,
          -4.489755010816201,
          14.617483094393462,
          -2.195065514581513,
          -8.614787786361287,
          -5.558571745956739,
          -8.207928901175334,
          15.075580512092102,
          -14.153844724306332,
          1.2918469387801315,
          -2.5213025162328777,
          -0.7619839824342338,
          -0.186799772338095,
          1.3085449095530788,
          -1.1574246857933808,
          -0.7027796674246861,
          1.1441334054633225,
          0.3710209888430544,
          -0.21524413830791275,
          -1.49162060336504,
          -0.2489924260954239,
          0.9208850954540331,
          0.42432401025412336,
          0.6006751513568704,
          1.7450365375396628,
          -1.1574246857933779,
          -0.6624677710698019,
          1.0128015196541875,
          0.8547411491572796,
          -1.3165946536585744,
          1.0528137061014136,
          -0.7436705837267932,
          -0.8695515755975892,
          0.8132892528650658,
          -0.21065597572684785,
          0.436487364063849,
          0.36212712672725345,
          -0.05944303281643178,
          1.3801778780083387,
          -0.42991702588645564,
          -0.802033631169176,
          -0.5212807594626193,
          0.6570978026092986,
          -0.11547098916607894,
          0.10883876589257248,
          -1.0258197225258963,
          -0.4528655786911631,
          -0.9820976869249038,
          -0.9975840354652606,
          -1.409445911375349,
          -0.39178779465495955,
          0.8173981798680828,
          0.07557754050487483,
          -1.4144933771822068,
          -1.3905921273507256,
          -0.009628812626228342,
          -1.6430323902858497,
          0.16126273346267356,
          -0.14066206340980145,
          -0.43939376716303313,
          0.10118402952316773,
          -1.2717754895817819,
          -0.6083725482495941,
          0.9601832561371183,
          0.3842895639869863,
          0.6789884820698023,
          -0.17641178738540284,
          -1.1475726228468022,
          0.44869727355460315,
          0.4929782861758359,
          1.469134392716076,
          0.13892845478582355,
          -0.11547098916607867,
          0.3839742222235077,
          0.40793839908603585,
          0.3905934769179167,
          0.7459211924188598,
          0.6918720296946606,
          0.5754912309557526,
          0.32636308599198366,
          -0.7085732216033633,
          0.3424312984805688,
          -1.4907756317371954,
          -0.7346981014002679,
          0.3621271267272535,
          0.1745729759914711,
          0.2113314293062423,
          0.07238537788064438,
          0.11863561143073356,
          -0.2311329009427081,
          -1.3174394011403487,
          -0.14085732638532042,
          -0.49111200125280835,
          -1.0588797993267534,
          0.8582700085741451,
          0.43427386823568487,
          0.18912421050629727,
          1.154204227258517,
          0.5435331890489425,
          -0.7138861417651763,
          0.03611973346273382,
          -0.30143541606043217,
          0.10305332344276108,
          0.8700160715685178,
          0.4690850945283501,
          0.42271515290080913,
          1.0128015196541882,
          0.4929782861758357,
          0.7351538189495108,
          -0.3892429320774054,
          0.8720278419009342,
          0.6538325720260583,
          -0.1969609395952923,
          0.1343591138369938,
          0.8589213679681562,
          0.2574406338037879,
          -2.789746421282307,
          0.5455169694021152,
          -1.4748266056977921,
          -1.639959257681796,
          0.9838380842708382,
          0.24061090234310398,
          0.8355120737392853,
          4.195344502660308,
          0.10883876589257252,
          0.10730862465490319,
          0.7752222881586887,
          -0.7480590004222623,
          0.537894065815356,
          -0.04664162152350442,
          -0.11549303791673164,
          -0.8406680717613059,
          -1.1897063583648462,
          0.7996249531084272,
          0.0006046747515788889,
          0.3563119623396236,
          -0.7188206175499153,
          -0.7448267255631377,
          0.032786232577403235,
          0.5264342465312843,
          -0.7497914051879089,
          1.0353681629585807,
          -0.508164852086389,
          -0.15790269429463852,
          -0.8064280622580984,
          -0.5937257297936639,
          0.226577061011241,
          -0.3596338583321173,
          1.2872668742593196,
          0.185786022581443,
          0.5159827619143632,
          -0.39031235433377187,
          0.387946487023254,
          0.9082993004016611,
          -0.06480629601108773,
          1.155858464615594,
          0.3842895639869865,
          1.2555565578121044,
          0.3563119623396236,
          0.31609330452762247,
          -0.028915056267732105,
          -0.15790269429463852,
          -2.740586688742613,
          0.273938505301094,
          1.094101655602904,
          0.30732654516680197,
          -0.6302221993795175,
          -1.448955961766514,
          0.7026756266191496,
          0.8700160715685178,
          -0.6196530564622537
         ],
         "yaxis": "y"
        }
       ],
       "layout": {
        "coloraxis": {
         "colorbar": {
          "title": {
           "text": "color"
          }
         },
         "colorscale": [
          [
           0,
           "#0d0887"
          ],
          [
           0.1111111111111111,
           "#46039f"
          ],
          [
           0.2222222222222222,
           "#7201a8"
          ],
          [
           0.3333333333333333,
           "#9c179e"
          ],
          [
           0.4444444444444444,
           "#bd3786"
          ],
          [
           0.5555555555555556,
           "#d8576b"
          ],
          [
           0.6666666666666666,
           "#ed7953"
          ],
          [
           0.7777777777777778,
           "#fb9f3a"
          ],
          [
           0.8888888888888888,
           "#fdca26"
          ],
          [
           1,
           "#f0f921"
          ]
         ]
        },
        "legend": {
         "tracegroupgap": 0
        },
        "margin": {
         "t": 60
        },
        "template": {
         "data": {
          "bar": [
           {
            "error_x": {
             "color": "#2a3f5f"
            },
            "error_y": {
             "color": "#2a3f5f"
            },
            "marker": {
             "line": {
              "color": "#E5ECF6",
              "width": 0.5
             },
             "pattern": {
              "fillmode": "overlay",
              "size": 10,
              "solidity": 0.2
             }
            },
            "type": "bar"
           }
          ],
          "barpolar": [
           {
            "marker": {
             "line": {
              "color": "#E5ECF6",
              "width": 0.5
             },
             "pattern": {
              "fillmode": "overlay",
              "size": 10,
              "solidity": 0.2
             }
            },
            "type": "barpolar"
           }
          ],
          "carpet": [
           {
            "aaxis": {
             "endlinecolor": "#2a3f5f",
             "gridcolor": "white",
             "linecolor": "white",
             "minorgridcolor": "white",
             "startlinecolor": "#2a3f5f"
            },
            "baxis": {
             "endlinecolor": "#2a3f5f",
             "gridcolor": "white",
             "linecolor": "white",
             "minorgridcolor": "white",
             "startlinecolor": "#2a3f5f"
            },
            "type": "carpet"
           }
          ],
          "choropleth": [
           {
            "colorbar": {
             "outlinewidth": 0,
             "ticks": ""
            },
            "type": "choropleth"
           }
          ],
          "contour": [
           {
            "colorbar": {
             "outlinewidth": 0,
             "ticks": ""
            },
            "colorscale": [
             [
              0,
              "#0d0887"
             ],
             [
              0.1111111111111111,
              "#46039f"
             ],
             [
              0.2222222222222222,
              "#7201a8"
             ],
             [
              0.3333333333333333,
              "#9c179e"
             ],
             [
              0.4444444444444444,
              "#bd3786"
             ],
             [
              0.5555555555555556,
              "#d8576b"
             ],
             [
              0.6666666666666666,
              "#ed7953"
             ],
             [
              0.7777777777777778,
              "#fb9f3a"
             ],
             [
              0.8888888888888888,
              "#fdca26"
             ],
             [
              1,
              "#f0f921"
             ]
            ],
            "type": "contour"
           }
          ],
          "contourcarpet": [
           {
            "colorbar": {
             "outlinewidth": 0,
             "ticks": ""
            },
            "type": "contourcarpet"
           }
          ],
          "heatmap": [
           {
            "colorbar": {
             "outlinewidth": 0,
             "ticks": ""
            },
            "colorscale": [
             [
              0,
              "#0d0887"
             ],
             [
              0.1111111111111111,
              "#46039f"
             ],
             [
              0.2222222222222222,
              "#7201a8"
             ],
             [
              0.3333333333333333,
              "#9c179e"
             ],
             [
              0.4444444444444444,
              "#bd3786"
             ],
             [
              0.5555555555555556,
              "#d8576b"
             ],
             [
              0.6666666666666666,
              "#ed7953"
             ],
             [
              0.7777777777777778,
              "#fb9f3a"
             ],
             [
              0.8888888888888888,
              "#fdca26"
             ],
             [
              1,
              "#f0f921"
             ]
            ],
            "type": "heatmap"
           }
          ],
          "heatmapgl": [
           {
            "colorbar": {
             "outlinewidth": 0,
             "ticks": ""
            },
            "colorscale": [
             [
              0,
              "#0d0887"
             ],
             [
              0.1111111111111111,
              "#46039f"
             ],
             [
              0.2222222222222222,
              "#7201a8"
             ],
             [
              0.3333333333333333,
              "#9c179e"
             ],
             [
              0.4444444444444444,
              "#bd3786"
             ],
             [
              0.5555555555555556,
              "#d8576b"
             ],
             [
              0.6666666666666666,
              "#ed7953"
             ],
             [
              0.7777777777777778,
              "#fb9f3a"
             ],
             [
              0.8888888888888888,
              "#fdca26"
             ],
             [
              1,
              "#f0f921"
             ]
            ],
            "type": "heatmapgl"
           }
          ],
          "histogram": [
           {
            "marker": {
             "pattern": {
              "fillmode": "overlay",
              "size": 10,
              "solidity": 0.2
             }
            },
            "type": "histogram"
           }
          ],
          "histogram2d": [
           {
            "colorbar": {
             "outlinewidth": 0,
             "ticks": ""
            },
            "colorscale": [
             [
              0,
              "#0d0887"
             ],
             [
              0.1111111111111111,
              "#46039f"
             ],
             [
              0.2222222222222222,
              "#7201a8"
             ],
             [
              0.3333333333333333,
              "#9c179e"
             ],
             [
              0.4444444444444444,
              "#bd3786"
             ],
             [
              0.5555555555555556,
              "#d8576b"
             ],
             [
              0.6666666666666666,
              "#ed7953"
             ],
             [
              0.7777777777777778,
              "#fb9f3a"
             ],
             [
              0.8888888888888888,
              "#fdca26"
             ],
             [
              1,
              "#f0f921"
             ]
            ],
            "type": "histogram2d"
           }
          ],
          "histogram2dcontour": [
           {
            "colorbar": {
             "outlinewidth": 0,
             "ticks": ""
            },
            "colorscale": [
             [
              0,
              "#0d0887"
             ],
             [
              0.1111111111111111,
              "#46039f"
             ],
             [
              0.2222222222222222,
              "#7201a8"
             ],
             [
              0.3333333333333333,
              "#9c179e"
             ],
             [
              0.4444444444444444,
              "#bd3786"
             ],
             [
              0.5555555555555556,
              "#d8576b"
             ],
             [
              0.6666666666666666,
              "#ed7953"
             ],
             [
              0.7777777777777778,
              "#fb9f3a"
             ],
             [
              0.8888888888888888,
              "#fdca26"
             ],
             [
              1,
              "#f0f921"
             ]
            ],
            "type": "histogram2dcontour"
           }
          ],
          "mesh3d": [
           {
            "colorbar": {
             "outlinewidth": 0,
             "ticks": ""
            },
            "type": "mesh3d"
           }
          ],
          "parcoords": [
           {
            "line": {
             "colorbar": {
              "outlinewidth": 0,
              "ticks": ""
             }
            },
            "type": "parcoords"
           }
          ],
          "pie": [
           {
            "automargin": true,
            "type": "pie"
           }
          ],
          "scatter": [
           {
            "marker": {
             "colorbar": {
              "outlinewidth": 0,
              "ticks": ""
             }
            },
            "type": "scatter"
           }
          ],
          "scatter3d": [
           {
            "line": {
             "colorbar": {
              "outlinewidth": 0,
              "ticks": ""
             }
            },
            "marker": {
             "colorbar": {
              "outlinewidth": 0,
              "ticks": ""
             }
            },
            "type": "scatter3d"
           }
          ],
          "scattercarpet": [
           {
            "marker": {
             "colorbar": {
              "outlinewidth": 0,
              "ticks": ""
             }
            },
            "type": "scattercarpet"
           }
          ],
          "scattergeo": [
           {
            "marker": {
             "colorbar": {
              "outlinewidth": 0,
              "ticks": ""
             }
            },
            "type": "scattergeo"
           }
          ],
          "scattergl": [
           {
            "marker": {
             "colorbar": {
              "outlinewidth": 0,
              "ticks": ""
             }
            },
            "type": "scattergl"
           }
          ],
          "scattermapbox": [
           {
            "marker": {
             "colorbar": {
              "outlinewidth": 0,
              "ticks": ""
             }
            },
            "type": "scattermapbox"
           }
          ],
          "scatterpolar": [
           {
            "marker": {
             "colorbar": {
              "outlinewidth": 0,
              "ticks": ""
             }
            },
            "type": "scatterpolar"
           }
          ],
          "scatterpolargl": [
           {
            "marker": {
             "colorbar": {
              "outlinewidth": 0,
              "ticks": ""
             }
            },
            "type": "scatterpolargl"
           }
          ],
          "scatterternary": [
           {
            "marker": {
             "colorbar": {
              "outlinewidth": 0,
              "ticks": ""
             }
            },
            "type": "scatterternary"
           }
          ],
          "surface": [
           {
            "colorbar": {
             "outlinewidth": 0,
             "ticks": ""
            },
            "colorscale": [
             [
              0,
              "#0d0887"
             ],
             [
              0.1111111111111111,
              "#46039f"
             ],
             [
              0.2222222222222222,
              "#7201a8"
             ],
             [
              0.3333333333333333,
              "#9c179e"
             ],
             [
              0.4444444444444444,
              "#bd3786"
             ],
             [
              0.5555555555555556,
              "#d8576b"
             ],
             [
              0.6666666666666666,
              "#ed7953"
             ],
             [
              0.7777777777777778,
              "#fb9f3a"
             ],
             [
              0.8888888888888888,
              "#fdca26"
             ],
             [
              1,
              "#f0f921"
             ]
            ],
            "type": "surface"
           }
          ],
          "table": [
           {
            "cells": {
             "fill": {
              "color": "#EBF0F8"
             },
             "line": {
              "color": "white"
             }
            },
            "header": {
             "fill": {
              "color": "#C8D4E3"
             },
             "line": {
              "color": "white"
             }
            },
            "type": "table"
           }
          ]
         },
         "layout": {
          "annotationdefaults": {
           "arrowcolor": "#2a3f5f",
           "arrowhead": 0,
           "arrowwidth": 1
          },
          "autotypenumbers": "strict",
          "coloraxis": {
           "colorbar": {
            "outlinewidth": 0,
            "ticks": ""
           }
          },
          "colorscale": {
           "diverging": [
            [
             0,
             "#8e0152"
            ],
            [
             0.1,
             "#c51b7d"
            ],
            [
             0.2,
             "#de77ae"
            ],
            [
             0.3,
             "#f1b6da"
            ],
            [
             0.4,
             "#fde0ef"
            ],
            [
             0.5,
             "#f7f7f7"
            ],
            [
             0.6,
             "#e6f5d0"
            ],
            [
             0.7,
             "#b8e186"
            ],
            [
             0.8,
             "#7fbc41"
            ],
            [
             0.9,
             "#4d9221"
            ],
            [
             1,
             "#276419"
            ]
           ],
           "sequential": [
            [
             0,
             "#0d0887"
            ],
            [
             0.1111111111111111,
             "#46039f"
            ],
            [
             0.2222222222222222,
             "#7201a8"
            ],
            [
             0.3333333333333333,
             "#9c179e"
            ],
            [
             0.4444444444444444,
             "#bd3786"
            ],
            [
             0.5555555555555556,
             "#d8576b"
            ],
            [
             0.6666666666666666,
             "#ed7953"
            ],
            [
             0.7777777777777778,
             "#fb9f3a"
            ],
            [
             0.8888888888888888,
             "#fdca26"
            ],
            [
             1,
             "#f0f921"
            ]
           ],
           "sequentialminus": [
            [
             0,
             "#0d0887"
            ],
            [
             0.1111111111111111,
             "#46039f"
            ],
            [
             0.2222222222222222,
             "#7201a8"
            ],
            [
             0.3333333333333333,
             "#9c179e"
            ],
            [
             0.4444444444444444,
             "#bd3786"
            ],
            [
             0.5555555555555556,
             "#d8576b"
            ],
            [
             0.6666666666666666,
             "#ed7953"
            ],
            [
             0.7777777777777778,
             "#fb9f3a"
            ],
            [
             0.8888888888888888,
             "#fdca26"
            ],
            [
             1,
             "#f0f921"
            ]
           ]
          },
          "colorway": [
           "#636efa",
           "#EF553B",
           "#00cc96",
           "#ab63fa",
           "#FFA15A",
           "#19d3f3",
           "#FF6692",
           "#B6E880",
           "#FF97FF",
           "#FECB52"
          ],
          "font": {
           "color": "#2a3f5f"
          },
          "geo": {
           "bgcolor": "white",
           "lakecolor": "white",
           "landcolor": "#E5ECF6",
           "showlakes": true,
           "showland": true,
           "subunitcolor": "white"
          },
          "hoverlabel": {
           "align": "left"
          },
          "hovermode": "closest",
          "mapbox": {
           "style": "light"
          },
          "paper_bgcolor": "white",
          "plot_bgcolor": "#E5ECF6",
          "polar": {
           "angularaxis": {
            "gridcolor": "white",
            "linecolor": "white",
            "ticks": ""
           },
           "bgcolor": "#E5ECF6",
           "radialaxis": {
            "gridcolor": "white",
            "linecolor": "white",
            "ticks": ""
           }
          },
          "scene": {
           "xaxis": {
            "backgroundcolor": "#E5ECF6",
            "gridcolor": "white",
            "gridwidth": 2,
            "linecolor": "white",
            "showbackground": true,
            "ticks": "",
            "zerolinecolor": "white"
           },
           "yaxis": {
            "backgroundcolor": "#E5ECF6",
            "gridcolor": "white",
            "gridwidth": 2,
            "linecolor": "white",
            "showbackground": true,
            "ticks": "",
            "zerolinecolor": "white"
           },
           "zaxis": {
            "backgroundcolor": "#E5ECF6",
            "gridcolor": "white",
            "gridwidth": 2,
            "linecolor": "white",
            "showbackground": true,
            "ticks": "",
            "zerolinecolor": "white"
           }
          },
          "shapedefaults": {
           "line": {
            "color": "#2a3f5f"
           }
          },
          "ternary": {
           "aaxis": {
            "gridcolor": "white",
            "linecolor": "white",
            "ticks": ""
           },
           "baxis": {
            "gridcolor": "white",
            "linecolor": "white",
            "ticks": ""
           },
           "bgcolor": "#E5ECF6",
           "caxis": {
            "gridcolor": "white",
            "linecolor": "white",
            "ticks": ""
           }
          },
          "title": {
           "x": 0.05
          },
          "xaxis": {
           "automargin": true,
           "gridcolor": "white",
           "linecolor": "white",
           "ticks": "",
           "title": {
            "standoff": 15
           },
           "zerolinecolor": "white",
           "zerolinewidth": 2
          },
          "yaxis": {
           "automargin": true,
           "gridcolor": "white",
           "linecolor": "white",
           "ticks": "",
           "title": {
            "standoff": 15
           },
           "zerolinecolor": "white",
           "zerolinewidth": 2
          }
         }
        },
        "xaxis": {
         "anchor": "y",
         "domain": [
          0,
          1
         ],
         "title": {
          "text": "index"
         }
        },
        "yaxis": {
         "anchor": "x",
         "domain": [
          0,
          1
         ],
         "title": {
          "text": "value"
         }
        }
       }
      },
      "text/html": [
       "<div>                            <div id=\"dd5c674b-f9b0-44a9-92e1-f5ec349ae198\" class=\"plotly-graph-div\" style=\"height:525px; width:100%;\"></div>            <script type=\"text/javascript\">                require([\"plotly\"], function(Plotly) {                    window.PLOTLYENV=window.PLOTLYENV || {};                                    if (document.getElementById(\"dd5c674b-f9b0-44a9-92e1-f5ec349ae198\")) {                    Plotly.newPlot(                        \"dd5c674b-f9b0-44a9-92e1-f5ec349ae198\",                        [{\"hovertemplate\":\"index=%{x}<br>value=%{y}<br>color=%{marker.color}<extra></extra>\",\"legendgroup\":\"\",\"marker\":{\"color\":[-0.08771207034712424,-1.0165604050487222,-0.8591284839128581,-0.3632179323348863,-0.9063580602536173,-0.5993658140386824,-0.465548681073198,0.14056421529987853,1.3921479883299976,0.9198522249224058,-1.1503775380142067,0.8332646682976804,-0.17429962697184945,-0.44193389290281837,0.03823346656156713,-0.9063580602536173,-0.9535876365943765,0.7624203037865418,-0.1900428190854359,-0.8118989075720988,-0.032610897949571865,0.38458369306046797,-0.9850740208215494,0.581373594480298,-1.0244320011055155,0.7860350919569215,-0.5442646416411301,-0.8906148681400309,0.6286031708210573,-1.1976071143549658,-0.8118989075720988,0.05397665867515348,1.4472491607275504,-1.1110195577302406,-0.27663037571016114,0.9670818012631649,-0.8512568878560649,-0.8040273115153057,-0.5600078337547164,-1.0086888089919288,1.0379261657743037,-1.048046789275895,1.423634372557171,-0.8984864641968242,-0.7646693312313396,-0.9221012523672037,-0.9614592326511697,-0.44193389290281837,2.3918406875427345,2.1950507861229047,1.0930273381718563,-0.7646693312313396,0.5262724220827456,0.8096498801273008,-0.9221012523672037,-0.5600078337547164,-0.0404824940063649,-0.9614592326511697,-0.13494164668788355,-0.9221012523672037,0.4081984812308476,0.10120623501591253,-1.1110195577302406,0.8490078604112669,0.34522571277650194,-0.13494164668788355,1.5495799094658618,-0.13494164668788355,-0.8827432720832377,-0.8670000799696513,2.021875672873454,-0.8197705036288921,-1.1188911537870339,-1.1425059419574135,-0.5442646416411301,1.3685332001596182,-0.622980602209062,-0.6308521982658553,0.014618678391187466,2.1950507861229047,-0.7016965627769941,1.9195449241351425,1.9352881162487292,-0.8591284839128581,-0.5442646416411301,1.3370468159324456,-0.3002451638805407,1.6046810818634143,0.8568794564680601,-0.7489261391177533,-0.5442646416411301,-0.20578601119902226,1.3134320277620657,-1.35503903549083,1.108770530285443,0.1956653876974312,0.7624203037865418,-0.9221012523672037,-0.8748716760264446,1.7306266187721058,1.2662024514213068,2.336739515145182,2.3682258993723555,0.5341440181395387,-1.315681055206864,-0.5521362376979232,-0.9299728484239969,1.0536693578878902,-1.0637899813894813,-1.0165604050487222,0.6758327471618164,0.8490078604112669,2.1714359979525253,0.6600895550482301,-0.27663037571016114,0.8726226485816465,0.41607007728764067,-0.8512568878560649,0.21928017586781057,-1.0559183853326883,2.1163348255549725,-0.9850740208215494,0.24289496403819025,1.0221829736607175,2.2344087664068706,-0.33960314416450665,-0.9535876365943765,-0.1428132427446766,-0.8906148681400309,0.00674708233439415,-0.5678794298115096,-1.2684514788661048,-0.6308521982658553,0.9119806288656125,-0.9221012523672037,0.7151907274457824,-0.7882841194017193,-0.6623385824930281,-0.3632179323348863,0.8017782840705078,-0.5678794298115096,-0.16642803091505626,-0.5914942179818893,-0.0011245137223988852,1.344918411989239,-0.8670000799696513,-0.9221012523672037,0.7702918998433348,-0.33960314416450665,-0.8197705036288921,-0.426190700789232,0.9119806288656125,-0.7016965627769941,0.14056421529987853,0.26650975220856993,-0.8040273115153057,-0.8591284839128581,-0.8906148681400309,1.0536693578878902,-1.35503903549083,2.328867919088389,-0.08771207034712424,-1.0165604050487222,-0.8591284839128581,-0.3632179323348863,-0.9063580602536173,-0.5993658140386824,-0.465548681073198,0.14056421529987853,1.3921479883299976,0.9198522249224058,-1.1503775380142067,0.8332646682976804,-0.17429962697184945,-0.44193389290281837,0.03823346656156713,-0.9063580602536173,-0.9535876365943765,0.7624203037865418,-0.1900428190854359,-0.8118989075720988,-0.032610897949571865,0.38458369306046797,-0.9850740208215494,0.581373594480298,-1.0244320011055155,0.7860350919569215,-0.5442646416411301,-0.8906148681400309,0.6286031708210573,-1.1976071143549658,-0.8118989075720988,0.05397665867515348,1.4472491607275504,-1.1110195577302406,-0.27663037571016114,0.9670818012631649,-0.8512568878560649,-0.8040273115153057,-0.5600078337547164,-1.0086888089919288,1.0379261657743037,-1.048046789275895,1.423634372557171,-0.8984864641968242,-0.7646693312313396,-0.9221012523672037,-0.9614592326511697,-0.44193389290281837,2.3918406875427345,2.1950507861229047,1.0930273381718563,-0.7646693312313396,0.5262724220827456,0.8096498801273008,-0.9221012523672037,-0.5600078337547164,-0.0404824940063649,-0.9614592326511697,-0.13494164668788355,-0.9221012523672037,0.4081984812308476,0.10120623501591253,-1.1110195577302406,0.8490078604112669,0.34522571277650194,-0.13494164668788355,1.5495799094658618,-0.13494164668788355,-0.8827432720832377,-0.8670000799696513,2.021875672873454,-0.8197705036288921,-1.1188911537870339,-1.1425059419574135,-0.5442646416411301,1.3685332001596182,-0.622980602209062,-0.6308521982658553,0.014618678391187466,2.1950507861229047,-0.7016965627769941,1.9195449241351425,1.9352881162487292,-0.8591284839128581,-0.5442646416411301,1.3370468159324456,-0.3002451638805407,1.6046810818634143,0.8568794564680601,-0.7489261391177533,-0.5442646416411301,-0.20578601119902226,1.3134320277620657,-1.35503903549083,1.108770530285443,0.1956653876974312,0.7624203037865418,-0.9221012523672037,-0.8748716760264446,1.7306266187721058,1.2662024514213068,2.336739515145182,2.3682258993723555,0.5341440181395387,-1.315681055206864,-0.5521362376979232,-0.9299728484239969,1.0536693578878902,-1.0637899813894813,-1.0165604050487222,0.6758327471618164,0.8490078604112669,2.1714359979525253,0.6600895550482301,-0.27663037571016114,0.8726226485816465,0.41607007728764067,-0.8512568878560649,0.21928017586781057,-1.0559183853326883,2.1163348255549725,-0.9850740208215494,0.24289496403819025,1.0221829736607175,2.2344087664068706,-0.33960314416450665,-0.9535876365943765,-0.1428132427446766,-0.8906148681400309,0.00674708233439415,-0.5678794298115096,-1.2684514788661048,-0.6308521982658553,0.9119806288656125,-0.9221012523672037,0.7151907274457824,-0.7882841194017193,-0.6623385824930281,-0.3632179323348863,0.8017782840705078,-0.5678794298115096,-0.16642803091505626,-0.5914942179818893,-0.0011245137223988852,1.344918411989239,-0.8670000799696513,-0.9221012523672037,0.7702918998433348,-0.33960314416450665,-0.8197705036288921,-0.426190700789232,0.9119806288656125,-0.7016965627769941,0.14056421529987853,0.26650975220856993,-0.8040273115153057,-0.8591284839128581,-0.8906148681400309,1.0536693578878902,-1.35503903549083,2.328867919088389],\"coloraxis\":\"coloraxis\",\"symbol\":\"circle\"},\"mode\":\"markers\",\"name\":\"\",\"orientation\":\"v\",\"showlegend\":false,\"x\":[0,1,2,3,4,5,6,7,8,9,10,11,12,13,14,15,16,17,18,19,20,21,22,23,24,25,26,27,28,29,30,31,32,33,34,35,36,37,38,39,40,41,42,43,44,45,46,47,48,49,50,51,52,53,54,55,56,57,58,59,60,61,62,63,64,65,66,67,68,69,70,71,72,73,74,75,76,77,78,79,80,81,82,83,84,85,86,87,88,89,90,91,92,93,94,95,96,97,98,99,100,101,102,103,104,105,106,107,108,109,110,111,112,113,114,115,116,117,118,119,120,121,122,123,124,125,126,127,128,129,130,131,132,133,134,135,136,137,138,139,140,141,142,143,144,145,146,147,148,149,150,151,152,153,154,155,156,157,158,159,160,0,1,2,3,4,5,6,7,8,9,10,11,12,13,14,15,16,17,18,19,20,21,22,23,24,25,26,27,28,29,30,31,32,33,34,35,36,37,38,39,40,41,42,43,44,45,46,47,48,49,50,51,52,53,54,55,56,57,58,59,60,61,62,63,64,65,66,67,68,69,70,71,72,73,74,75,76,77,78,79,80,81,82,83,84,85,86,87,88,89,90,91,92,93,94,95,96,97,98,99,100,101,102,103,104,105,106,107,108,109,110,111,112,113,114,115,116,117,118,119,120,121,122,123,124,125,126,127,128,129,130,131,132,133,134,135,136,137,138,139,140,141,142,143,144,145,146,147,148,149,150,151,152,153,154,155,156,157,158,159,160],\"xaxis\":\"x\",\"y\":[21.389795295088906,-11.232985472689952,-13.289603026127736,-5.682582137449653,-4.573396983767088,9.688218378338764,-10.243422713528192,11.644332498851128,16.660547103112627,3.113206092300394,4.597964712317865,-3.160120301236883,9.021843837536434,0.6847876082847714,-3.0727443749884378,-4.573396983767086,-5.885460862573312,-1.482056660318897,-1.3040380358153842,-2.2796927760082824,-6.0721090886173865,1.3097289519161857,-6.568554406179595,1.2177892195738036,-8.18000015672205,-6.456346663637337,-8.698917102768322,-5.380267812968728,0.04684846129092337,2.0365501057582684,3.69852651032968,5.854118612667842,20.846415072481925,8.003599921417324,-13.086797180559712,14.740318631610698,-7.412070293633016,-1.1701698538179053,3.204070867688859,-8.95671362703171,7.977696994327993,-11.060891797189973,-2.4342600452210146,-1.124440574208926,-6.630619819095154,2.436211453366047,-2.3805140206762916,-4.329240374238941,34.72579722986597,5.732029984033536,18.394467886293334,-11.31045466447539,11.377827221919006,-1.801821699625499,-11.464170188410632,-12.407118817206749,29.241259825250527,-1.4298001230530444,-8.457113687753345,-12.499120373209955,4.799201671235435,2.247981233948227,8.003599921417322,-7.223774409505046,-3.861611090605966,-0.9412165946047475,-0.8608204774162118,0.12359052852853683,-9.772458969528323,-4.286725176429025,2.799518492839066,-12.084216279201906,-6.045139435112368,-13.41987653808042,-8.69891710276832,-4.420797493243876,12.660120710423719,15.036673265347632,3.136209079712217,6.211832990604004,4.507747111698786,-2.4827417387009136,5.163727631607124,-4.499870947698367,-5.873971801176569,16.451715984314166,-1.3469800180067442,12.242042898376504,7.966759878126581,-0.3172111161476717,15.457703593860023,5.8545573089785545,33.550803008006994,-14.153844724306332,3.298812088562218,-8.790960250196553,-1.4820566603188958,-12.499120373209953,0.549436057614167,1.3039799276435047,4.829910175456942,4.5331683056208325,27.367264717021467,-7.100070191266628,-16.064344274751615,20.003520611673633,-1.4114879135900753,13.41125440896582,-6.4908068698867725,-8.760528693192672,7.340439767829514,-8.112141715670226,1.2224668213799226,20.559824716207252,-13.086797180559712,-7.375860041091506,-1.2870590610214194,-7.33082572118061,-3.2392158000149935,-4.367930647292531,0.7221622524490565,-5.256172953058265,17.679004246068963,9.718890285944987,-2.508249312126397,-10.025766722483482,-1.6835815036909345,-1.3788241978351694,-6.332995982329921,-2.0812392349892788,-0.16601825251659497,-13.05121649365637,7.755331480998079,-1.1119005930009132,-1.8526309502428266,-2.4684461279702123,-10.911309331734989,-4.722977823964843,-8.561255469000693,12.211700120801932,-0.4225967817679989,12.301960355683097,-5.069112914991104,-6.805804829616865,7.589324351457046,-13.05333663258933,-11.464170188410629,13.072691868118037,-10.025766722483482,-11.879533275141796,-11.368638315260805,-1.1119005930009132,-4.489755010816201,14.617483094393462,-2.195065514581513,-8.614787786361287,-5.558571745956739,-8.207928901175334,15.075580512092102,-14.153844724306332,1.2918469387801315,-2.5213025162328777,-0.7619839824342338,-0.186799772338095,1.3085449095530788,-1.1574246857933808,-0.7027796674246861,1.1441334054633225,0.3710209888430544,-0.21524413830791275,-1.49162060336504,-0.2489924260954239,0.9208850954540331,0.42432401025412336,0.6006751513568704,1.7450365375396628,-1.1574246857933779,-0.6624677710698019,1.0128015196541875,0.8547411491572796,-1.3165946536585744,1.0528137061014136,-0.7436705837267932,-0.8695515755975892,0.8132892528650658,-0.21065597572684785,0.436487364063849,0.36212712672725345,-0.05944303281643178,1.3801778780083387,-0.42991702588645564,-0.802033631169176,-0.5212807594626193,0.6570978026092986,-0.11547098916607894,0.10883876589257248,-1.0258197225258963,-0.4528655786911631,-0.9820976869249038,-0.9975840354652606,-1.409445911375349,-0.39178779465495955,0.8173981798680828,0.07557754050487483,-1.4144933771822068,-1.3905921273507256,-0.009628812626228342,-1.6430323902858497,0.16126273346267356,-0.14066206340980145,-0.43939376716303313,0.10118402952316773,-1.2717754895817819,-0.6083725482495941,0.9601832561371183,0.3842895639869863,0.6789884820698023,-0.17641178738540284,-1.1475726228468022,0.44869727355460315,0.4929782861758359,1.469134392716076,0.13892845478582355,-0.11547098916607867,0.3839742222235077,0.40793839908603585,0.3905934769179167,0.7459211924188598,0.6918720296946606,0.5754912309557526,0.32636308599198366,-0.7085732216033633,0.3424312984805688,-1.4907756317371954,-0.7346981014002679,0.3621271267272535,0.1745729759914711,0.2113314293062423,0.07238537788064438,0.11863561143073356,-0.2311329009427081,-1.3174394011403487,-0.14085732638532042,-0.49111200125280835,-1.0588797993267534,0.8582700085741451,0.43427386823568487,0.18912421050629727,1.154204227258517,0.5435331890489425,-0.7138861417651763,0.03611973346273382,-0.30143541606043217,0.10305332344276108,0.8700160715685178,0.4690850945283501,0.42271515290080913,1.0128015196541882,0.4929782861758357,0.7351538189495108,-0.3892429320774054,0.8720278419009342,0.6538325720260583,-0.1969609395952923,0.1343591138369938,0.8589213679681562,0.2574406338037879,-2.789746421282307,0.5455169694021152,-1.4748266056977921,-1.639959257681796,0.9838380842708382,0.24061090234310398,0.8355120737392853,4.195344502660308,0.10883876589257252,0.10730862465490319,0.7752222881586887,-0.7480590004222623,0.537894065815356,-0.04664162152350442,-0.11549303791673164,-0.8406680717613059,-1.1897063583648462,0.7996249531084272,0.0006046747515788889,0.3563119623396236,-0.7188206175499153,-0.7448267255631377,0.032786232577403235,0.5264342465312843,-0.7497914051879089,1.0353681629585807,-0.508164852086389,-0.15790269429463852,-0.8064280622580984,-0.5937257297936639,0.226577061011241,-0.3596338583321173,1.2872668742593196,0.185786022581443,0.5159827619143632,-0.39031235433377187,0.387946487023254,0.9082993004016611,-0.06480629601108773,1.155858464615594,0.3842895639869865,1.2555565578121044,0.3563119623396236,0.31609330452762247,-0.028915056267732105,-0.15790269429463852,-2.740586688742613,0.273938505301094,1.094101655602904,0.30732654516680197,-0.6302221993795175,-1.448955961766514,0.7026756266191496,0.8700160715685178,-0.6196530564622537],\"yaxis\":\"y\",\"type\":\"scatter\"}],                        {\"template\":{\"data\":{\"bar\":[{\"error_x\":{\"color\":\"#2a3f5f\"},\"error_y\":{\"color\":\"#2a3f5f\"},\"marker\":{\"line\":{\"color\":\"#E5ECF6\",\"width\":0.5},\"pattern\":{\"fillmode\":\"overlay\",\"size\":10,\"solidity\":0.2}},\"type\":\"bar\"}],\"barpolar\":[{\"marker\":{\"line\":{\"color\":\"#E5ECF6\",\"width\":0.5},\"pattern\":{\"fillmode\":\"overlay\",\"size\":10,\"solidity\":0.2}},\"type\":\"barpolar\"}],\"carpet\":[{\"aaxis\":{\"endlinecolor\":\"#2a3f5f\",\"gridcolor\":\"white\",\"linecolor\":\"white\",\"minorgridcolor\":\"white\",\"startlinecolor\":\"#2a3f5f\"},\"baxis\":{\"endlinecolor\":\"#2a3f5f\",\"gridcolor\":\"white\",\"linecolor\":\"white\",\"minorgridcolor\":\"white\",\"startlinecolor\":\"#2a3f5f\"},\"type\":\"carpet\"}],\"choropleth\":[{\"colorbar\":{\"outlinewidth\":0,\"ticks\":\"\"},\"type\":\"choropleth\"}],\"contour\":[{\"colorbar\":{\"outlinewidth\":0,\"ticks\":\"\"},\"colorscale\":[[0.0,\"#0d0887\"],[0.1111111111111111,\"#46039f\"],[0.2222222222222222,\"#7201a8\"],[0.3333333333333333,\"#9c179e\"],[0.4444444444444444,\"#bd3786\"],[0.5555555555555556,\"#d8576b\"],[0.6666666666666666,\"#ed7953\"],[0.7777777777777778,\"#fb9f3a\"],[0.8888888888888888,\"#fdca26\"],[1.0,\"#f0f921\"]],\"type\":\"contour\"}],\"contourcarpet\":[{\"colorbar\":{\"outlinewidth\":0,\"ticks\":\"\"},\"type\":\"contourcarpet\"}],\"heatmap\":[{\"colorbar\":{\"outlinewidth\":0,\"ticks\":\"\"},\"colorscale\":[[0.0,\"#0d0887\"],[0.1111111111111111,\"#46039f\"],[0.2222222222222222,\"#7201a8\"],[0.3333333333333333,\"#9c179e\"],[0.4444444444444444,\"#bd3786\"],[0.5555555555555556,\"#d8576b\"],[0.6666666666666666,\"#ed7953\"],[0.7777777777777778,\"#fb9f3a\"],[0.8888888888888888,\"#fdca26\"],[1.0,\"#f0f921\"]],\"type\":\"heatmap\"}],\"heatmapgl\":[{\"colorbar\":{\"outlinewidth\":0,\"ticks\":\"\"},\"colorscale\":[[0.0,\"#0d0887\"],[0.1111111111111111,\"#46039f\"],[0.2222222222222222,\"#7201a8\"],[0.3333333333333333,\"#9c179e\"],[0.4444444444444444,\"#bd3786\"],[0.5555555555555556,\"#d8576b\"],[0.6666666666666666,\"#ed7953\"],[0.7777777777777778,\"#fb9f3a\"],[0.8888888888888888,\"#fdca26\"],[1.0,\"#f0f921\"]],\"type\":\"heatmapgl\"}],\"histogram\":[{\"marker\":{\"pattern\":{\"fillmode\":\"overlay\",\"size\":10,\"solidity\":0.2}},\"type\":\"histogram\"}],\"histogram2d\":[{\"colorbar\":{\"outlinewidth\":0,\"ticks\":\"\"},\"colorscale\":[[0.0,\"#0d0887\"],[0.1111111111111111,\"#46039f\"],[0.2222222222222222,\"#7201a8\"],[0.3333333333333333,\"#9c179e\"],[0.4444444444444444,\"#bd3786\"],[0.5555555555555556,\"#d8576b\"],[0.6666666666666666,\"#ed7953\"],[0.7777777777777778,\"#fb9f3a\"],[0.8888888888888888,\"#fdca26\"],[1.0,\"#f0f921\"]],\"type\":\"histogram2d\"}],\"histogram2dcontour\":[{\"colorbar\":{\"outlinewidth\":0,\"ticks\":\"\"},\"colorscale\":[[0.0,\"#0d0887\"],[0.1111111111111111,\"#46039f\"],[0.2222222222222222,\"#7201a8\"],[0.3333333333333333,\"#9c179e\"],[0.4444444444444444,\"#bd3786\"],[0.5555555555555556,\"#d8576b\"],[0.6666666666666666,\"#ed7953\"],[0.7777777777777778,\"#fb9f3a\"],[0.8888888888888888,\"#fdca26\"],[1.0,\"#f0f921\"]],\"type\":\"histogram2dcontour\"}],\"mesh3d\":[{\"colorbar\":{\"outlinewidth\":0,\"ticks\":\"\"},\"type\":\"mesh3d\"}],\"parcoords\":[{\"line\":{\"colorbar\":{\"outlinewidth\":0,\"ticks\":\"\"}},\"type\":\"parcoords\"}],\"pie\":[{\"automargin\":true,\"type\":\"pie\"}],\"scatter\":[{\"marker\":{\"colorbar\":{\"outlinewidth\":0,\"ticks\":\"\"}},\"type\":\"scatter\"}],\"scatter3d\":[{\"line\":{\"colorbar\":{\"outlinewidth\":0,\"ticks\":\"\"}},\"marker\":{\"colorbar\":{\"outlinewidth\":0,\"ticks\":\"\"}},\"type\":\"scatter3d\"}],\"scattercarpet\":[{\"marker\":{\"colorbar\":{\"outlinewidth\":0,\"ticks\":\"\"}},\"type\":\"scattercarpet\"}],\"scattergeo\":[{\"marker\":{\"colorbar\":{\"outlinewidth\":0,\"ticks\":\"\"}},\"type\":\"scattergeo\"}],\"scattergl\":[{\"marker\":{\"colorbar\":{\"outlinewidth\":0,\"ticks\":\"\"}},\"type\":\"scattergl\"}],\"scattermapbox\":[{\"marker\":{\"colorbar\":{\"outlinewidth\":0,\"ticks\":\"\"}},\"type\":\"scattermapbox\"}],\"scatterpolar\":[{\"marker\":{\"colorbar\":{\"outlinewidth\":0,\"ticks\":\"\"}},\"type\":\"scatterpolar\"}],\"scatterpolargl\":[{\"marker\":{\"colorbar\":{\"outlinewidth\":0,\"ticks\":\"\"}},\"type\":\"scatterpolargl\"}],\"scatterternary\":[{\"marker\":{\"colorbar\":{\"outlinewidth\":0,\"ticks\":\"\"}},\"type\":\"scatterternary\"}],\"surface\":[{\"colorbar\":{\"outlinewidth\":0,\"ticks\":\"\"},\"colorscale\":[[0.0,\"#0d0887\"],[0.1111111111111111,\"#46039f\"],[0.2222222222222222,\"#7201a8\"],[0.3333333333333333,\"#9c179e\"],[0.4444444444444444,\"#bd3786\"],[0.5555555555555556,\"#d8576b\"],[0.6666666666666666,\"#ed7953\"],[0.7777777777777778,\"#fb9f3a\"],[0.8888888888888888,\"#fdca26\"],[1.0,\"#f0f921\"]],\"type\":\"surface\"}],\"table\":[{\"cells\":{\"fill\":{\"color\":\"#EBF0F8\"},\"line\":{\"color\":\"white\"}},\"header\":{\"fill\":{\"color\":\"#C8D4E3\"},\"line\":{\"color\":\"white\"}},\"type\":\"table\"}]},\"layout\":{\"annotationdefaults\":{\"arrowcolor\":\"#2a3f5f\",\"arrowhead\":0,\"arrowwidth\":1},\"autotypenumbers\":\"strict\",\"coloraxis\":{\"colorbar\":{\"outlinewidth\":0,\"ticks\":\"\"}},\"colorscale\":{\"diverging\":[[0,\"#8e0152\"],[0.1,\"#c51b7d\"],[0.2,\"#de77ae\"],[0.3,\"#f1b6da\"],[0.4,\"#fde0ef\"],[0.5,\"#f7f7f7\"],[0.6,\"#e6f5d0\"],[0.7,\"#b8e186\"],[0.8,\"#7fbc41\"],[0.9,\"#4d9221\"],[1,\"#276419\"]],\"sequential\":[[0.0,\"#0d0887\"],[0.1111111111111111,\"#46039f\"],[0.2222222222222222,\"#7201a8\"],[0.3333333333333333,\"#9c179e\"],[0.4444444444444444,\"#bd3786\"],[0.5555555555555556,\"#d8576b\"],[0.6666666666666666,\"#ed7953\"],[0.7777777777777778,\"#fb9f3a\"],[0.8888888888888888,\"#fdca26\"],[1.0,\"#f0f921\"]],\"sequentialminus\":[[0.0,\"#0d0887\"],[0.1111111111111111,\"#46039f\"],[0.2222222222222222,\"#7201a8\"],[0.3333333333333333,\"#9c179e\"],[0.4444444444444444,\"#bd3786\"],[0.5555555555555556,\"#d8576b\"],[0.6666666666666666,\"#ed7953\"],[0.7777777777777778,\"#fb9f3a\"],[0.8888888888888888,\"#fdca26\"],[1.0,\"#f0f921\"]]},\"colorway\":[\"#636efa\",\"#EF553B\",\"#00cc96\",\"#ab63fa\",\"#FFA15A\",\"#19d3f3\",\"#FF6692\",\"#B6E880\",\"#FF97FF\",\"#FECB52\"],\"font\":{\"color\":\"#2a3f5f\"},\"geo\":{\"bgcolor\":\"white\",\"lakecolor\":\"white\",\"landcolor\":\"#E5ECF6\",\"showlakes\":true,\"showland\":true,\"subunitcolor\":\"white\"},\"hoverlabel\":{\"align\":\"left\"},\"hovermode\":\"closest\",\"mapbox\":{\"style\":\"light\"},\"paper_bgcolor\":\"white\",\"plot_bgcolor\":\"#E5ECF6\",\"polar\":{\"angularaxis\":{\"gridcolor\":\"white\",\"linecolor\":\"white\",\"ticks\":\"\"},\"bgcolor\":\"#E5ECF6\",\"radialaxis\":{\"gridcolor\":\"white\",\"linecolor\":\"white\",\"ticks\":\"\"}},\"scene\":{\"xaxis\":{\"backgroundcolor\":\"#E5ECF6\",\"gridcolor\":\"white\",\"gridwidth\":2,\"linecolor\":\"white\",\"showbackground\":true,\"ticks\":\"\",\"zerolinecolor\":\"white\"},\"yaxis\":{\"backgroundcolor\":\"#E5ECF6\",\"gridcolor\":\"white\",\"gridwidth\":2,\"linecolor\":\"white\",\"showbackground\":true,\"ticks\":\"\",\"zerolinecolor\":\"white\"},\"zaxis\":{\"backgroundcolor\":\"#E5ECF6\",\"gridcolor\":\"white\",\"gridwidth\":2,\"linecolor\":\"white\",\"showbackground\":true,\"ticks\":\"\",\"zerolinecolor\":\"white\"}},\"shapedefaults\":{\"line\":{\"color\":\"#2a3f5f\"}},\"ternary\":{\"aaxis\":{\"gridcolor\":\"white\",\"linecolor\":\"white\",\"ticks\":\"\"},\"baxis\":{\"gridcolor\":\"white\",\"linecolor\":\"white\",\"ticks\":\"\"},\"bgcolor\":\"#E5ECF6\",\"caxis\":{\"gridcolor\":\"white\",\"linecolor\":\"white\",\"ticks\":\"\"}},\"title\":{\"x\":0.05},\"xaxis\":{\"automargin\":true,\"gridcolor\":\"white\",\"linecolor\":\"white\",\"ticks\":\"\",\"title\":{\"standoff\":15},\"zerolinecolor\":\"white\",\"zerolinewidth\":2},\"yaxis\":{\"automargin\":true,\"gridcolor\":\"white\",\"linecolor\":\"white\",\"ticks\":\"\",\"title\":{\"standoff\":15},\"zerolinecolor\":\"white\",\"zerolinewidth\":2}}},\"xaxis\":{\"anchor\":\"y\",\"domain\":[0.0,1.0],\"title\":{\"text\":\"index\"}},\"yaxis\":{\"anchor\":\"x\",\"domain\":[0.0,1.0],\"title\":{\"text\":\"value\"}},\"coloraxis\":{\"colorbar\":{\"title\":{\"text\":\"color\"}},\"colorscale\":[[0.0,\"#0d0887\"],[0.1111111111111111,\"#46039f\"],[0.2222222222222222,\"#7201a8\"],[0.3333333333333333,\"#9c179e\"],[0.4444444444444444,\"#bd3786\"],[0.5555555555555556,\"#d8576b\"],[0.6666666666666666,\"#ed7953\"],[0.7777777777777778,\"#fb9f3a\"],[0.8888888888888888,\"#fdca26\"],[1.0,\"#f0f921\"]]},\"legend\":{\"tracegroupgap\":0},\"margin\":{\"t\":60}},                        {\"responsive\": true}                    ).then(function(){\n",
       "                            \n",
       "var gd = document.getElementById('dd5c674b-f9b0-44a9-92e1-f5ec349ae198');\n",
       "var x = new MutationObserver(function (mutations, observer) {{\n",
       "        var display = window.getComputedStyle(gd).display;\n",
       "        if (!display || display === 'none') {{\n",
       "            console.log([gd, 'removed!']);\n",
       "            Plotly.purge(gd);\n",
       "            observer.disconnect();\n",
       "        }}\n",
       "}});\n",
       "\n",
       "// Listen for the removal of the full notebook cells\n",
       "var notebookContainer = gd.closest('#notebook-container');\n",
       "if (notebookContainer) {{\n",
       "    x.observe(notebookContainer, {childList: true});\n",
       "}}\n",
       "\n",
       "// Listen for the clearing of the current output cell\n",
       "var outputEl = gd.closest('.output');\n",
       "if (outputEl) {{\n",
       "    x.observe(outputEl, {childList: true});\n",
       "}}\n",
       "\n",
       "                        })                };                });            </script>        </div>"
      ]
     },
     "metadata": {},
     "output_type": "display_data"
    },
    {
     "name": "stdout",
     "output_type": "stream",
     "text": [
      "[99.47699954  0.80574549]\n"
     ]
    }
   ],
   "source": [
    "pca = PCA(n_components=2)\n",
    "components = pca.fit_transform(X_train) # To keep only the 2 features selected\n",
    "\n",
    "fig = px.scatter(components, color = Y_train.flatten())\n",
    "fig.show()\n",
    "\n",
    "print(pca.explained_variance_)"
   ]
  },
  {
   "cell_type": "raw",
   "id": "99510609",
   "metadata": {},
   "source": [
    "We see that the projected data on the first two components is kind of shaped around a line, with some scatter up and down. This means that a fair amount of information is contained in the first two components. This is due to the fact that the explained variance by the first component is of 99.47 & by the second is 0.8. Moreover, by the plot \"The amount of variance explained by the first components\" just before, one can assume that the variance explianed by the other components can be neglected."
   ]
  },
  {
   "cell_type": "code",
   "execution_count": 31,
   "id": "f5c900fa",
   "metadata": {},
   "outputs": [
    {
     "data": {
      "text/html": [
       "<div>\n",
       "<style scoped>\n",
       "    .dataframe tbody tr th:only-of-type {\n",
       "        vertical-align: middle;\n",
       "    }\n",
       "\n",
       "    .dataframe tbody tr th {\n",
       "        vertical-align: top;\n",
       "    }\n",
       "\n",
       "    .dataframe thead th {\n",
       "        text-align: right;\n",
       "    }\n",
       "</style>\n",
       "<table border=\"1\" class=\"dataframe\">\n",
       "  <thead>\n",
       "    <tr style=\"text-align: right;\">\n",
       "      <th></th>\n",
       "      <th>Regular OLS</th>\n",
       "      <th>Forward variable selection</th>\n",
       "      <th>Sequential variable selection</th>\n",
       "      <th>Ridge</th>\n",
       "      <th>Lasso</th>\n",
       "      <th>PCA before OLS</th>\n",
       "    </tr>\n",
       "  </thead>\n",
       "  <tbody>\n",
       "    <tr>\n",
       "      <th>0</th>\n",
       "      <td>0.960055</td>\n",
       "      <td>0.95518</td>\n",
       "      <td>0.93873</td>\n",
       "      <td>0.976246</td>\n",
       "      <td>0.926019</td>\n",
       "      <td>0.97746</td>\n",
       "    </tr>\n",
       "  </tbody>\n",
       "</table>\n",
       "</div>"
      ],
      "text/plain": [
       "   Regular OLS  Forward variable selection  Sequential variable selection  \\\n",
       "0     0.960055                     0.95518                        0.93873   \n",
       "\n",
       "      Ridge     Lasso  PCA before OLS  \n",
       "0  0.976246  0.926019         0.97746  "
      ]
     },
     "execution_count": 31,
     "metadata": {},
     "output_type": "execute_result"
    }
   ],
   "source": [
    "#---- R² of PCA before OLS -----#\n",
    "\n",
    "nb_components = np.arange(2, p)\n",
    "scores = []\n",
    "\n",
    "for k in nb_components :\n",
    "    pca_k = PCA(n_components=k)\n",
    "    X_pca = pca_k.fit_transform(X_train) \n",
    "    X_pca_test = pca_k.transform(X_test) # Applying the dimensionality reduction to the test set\n",
    "    ols_after_pca = LinearRegression(fit_intercept=False)\n",
    "    ols_after_pca.fit(X_pca, Y_train)\n",
    "    score = ols_after_pca.score(X_pca_test, Y_test)\n",
    "    scores.append(score)\n",
    "    \n",
    "df_coef[\"PCA before OLS\"] = max(scores)\n",
    "df_coef"
   ]
  },
  {
   "cell_type": "markdown",
   "id": "bcbedfc5",
   "metadata": {},
   "source": [
    "#### Comparison of the models :"
   ]
  },
  {
   "cell_type": "markdown",
   "id": "fe81eef1",
   "metadata": {},
   "source": [
    "All of the models give a very good determination score (> 0.9). This means that, generally, using linear regression is more or less a sufficient way to predict the value of the variable 'fat' with the covariates we have.\n",
    "\n",
    "Based on the R² only, the best method to use is PCA before OLS (and Ridge), and the least performant model is LASSO.\n",
    "\n",
    "***1.Regular OLS :*** It is the best linear unbiased estimator (the estimates of the coefficients are unbiased and have minimum variance among all linear unbiased estimators).\n",
    "\n",
    "***2.Variable Selection :***  It is used to identify important variables that have a significant effect on the outcome of a model. For that purpose, in FVS, we use the test of no effect to test if a prediction $\\theta_k$ is null, in which case this coefficient has no effect in the prediction by the OLS.\n",
    "\n",
    "***3. Regularization :*** Adds a penalty term to the objective function that is used to train the model. This penalty term, which is  based on the magnitude of the weights, helps to prevent overfitting by penalizing increasingly complex models. The regularization parameter can be tuend to obtain the best model performance on the training dataset. \n",
    "\n",
    "\t+ Ridge : Allows to reduce the impact of multicolinearity. It shrinks the magnitude of coefficients, but it doesn’t reduce the coefficients to zero. Compared to regular OLS, the Ridge Estimator is biased with smaller variance. Therefore, we have a Bias-Variance tradeoff\n",
    "    + LASSO : It reduces the number of predictors by setting some coefficients to zero, thus eliminating the least important predictors from the model. It is particularly adapted in high dimension. The main disadvantage of LASSO is that it is sensitive to outliers and can lead to biased estimates. Lasso is particularly adapted in high dimension (in-built variable selection).\n",
    "    + ElasticNet : It is a combination of Ridge and LASSO regression, which can be used to perform both variable selection and parameter shrinkage.\n",
    "    \n",
    "***4. K-fold Cross Validation :*** It is used to assess the accuracy of a predictive model by splitting the data set into multiple training and test sets. We have used it for model selection with ElasticNet as it can help to identify the best model parameters and reduce generalization errors.\n",
    "\n",
    "***5. PCA before OLS :*** It is used to reduce the complexity of a dataset by removing redundant features and reducing the number of variables to a necessary minimum by identifying patterns in data and maximizing the variance of the data. The goal is to reduce the data dimensions and to minimize the loss of information in the dataset."
   ]
  }
 ],
 "metadata": {
  "kernelspec": {
   "display_name": "Python 3 (ipykernel)",
   "language": "python",
   "name": "python3"
  },
  "language_info": {
   "codemirror_mode": {
    "name": "ipython",
    "version": 3
   },
   "file_extension": ".py",
   "mimetype": "text/x-python",
   "name": "python",
   "nbconvert_exporter": "python",
   "pygments_lexer": "ipython3",
   "version": "3.9.12"
  }
 },
 "nbformat": 4,
 "nbformat_minor": 5
}
