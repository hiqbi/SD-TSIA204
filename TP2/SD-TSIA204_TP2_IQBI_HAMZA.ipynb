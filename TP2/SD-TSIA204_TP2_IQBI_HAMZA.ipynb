{
 "cells": [
  {
   "cell_type": "markdown",
   "id": "c845bdd4",
   "metadata": {},
   "source": [
    "# SD-TSIA204 Lab 2 : Linear Regression\n",
    "\n",
    "*IQBI Hamza*"
   ]
  },
  {
   "cell_type": "code",
   "execution_count": 1,
   "id": "f8987000",
   "metadata": {},
   "outputs": [],
   "source": [
    "fn1 = \"hamza\"\n",
    "ln1 = \"iqbi\"\n",
    "filename = \"_\".join(map(lambda s: s.strip().lower(),\n",
    "[\"SD-TSIA204_lab2\", ln1, fn1])) + \".ipynb\""
   ]
  },
  {
   "cell_type": "code",
   "execution_count": 2,
   "id": "048debf6",
   "metadata": {},
   "outputs": [],
   "source": [
    "import numpy as np\n",
    "import matplotlib.pyplot as plt\n",
    "from os import path\n",
    "import pandas as pd\n",
    "import scipy\n",
    "import seaborn as sns\n",
    "import plotly.express as px\n",
    "\n",
    "from sklearn.decomposition import PCA\n",
    "from sklearn.model_selection import train_test_split as tts\n",
    "from sklearn.preprocessing import StandardScaler\n",
    "from sklearn.linear_model import LinearRegression, Lasso, ElasticNet\n",
    "from sklearn.feature_selection import SequentialFeatureSelector"
   ]
  },
  {
   "cell_type": "markdown",
   "id": "d7f298c3",
   "metadata": {},
   "source": [
    "#### Preprocessing :"
   ]
  },
  {
   "cell_type": "code",
   "execution_count": 3,
   "id": "67084004",
   "metadata": {},
   "outputs": [],
   "source": [
    "# Setting the random seed to 0\n",
    "np.random.seed(0)"
   ]
  },
  {
   "cell_type": "code",
   "execution_count": 4,
   "id": "cb92bc9b",
   "metadata": {},
   "outputs": [
    {
     "data": {
      "text/html": [
       "<div>\n",
       "<style scoped>\n",
       "    .dataframe tbody tr th:only-of-type {\n",
       "        vertical-align: middle;\n",
       "    }\n",
       "\n",
       "    .dataframe tbody tr th {\n",
       "        vertical-align: top;\n",
       "    }\n",
       "\n",
       "    .dataframe thead th {\n",
       "        text-align: right;\n",
       "    }\n",
       "</style>\n",
       "<table border=\"1\" class=\"dataframe\">\n",
       "  <thead>\n",
       "    <tr style=\"text-align: right;\">\n",
       "      <th></th>\n",
       "      <th>0</th>\n",
       "      <th>1</th>\n",
       "      <th>2</th>\n",
       "      <th>3</th>\n",
       "      <th>4</th>\n",
       "      <th>5</th>\n",
       "      <th>6</th>\n",
       "      <th>7</th>\n",
       "      <th>8</th>\n",
       "      <th>9</th>\n",
       "      <th>...</th>\n",
       "      <th>91</th>\n",
       "      <th>92</th>\n",
       "      <th>93</th>\n",
       "      <th>94</th>\n",
       "      <th>95</th>\n",
       "      <th>96</th>\n",
       "      <th>97</th>\n",
       "      <th>98</th>\n",
       "      <th>99</th>\n",
       "      <th>100</th>\n",
       "    </tr>\n",
       "  </thead>\n",
       "  <tbody>\n",
       "    <tr>\n",
       "      <th>0</th>\n",
       "      <td>V1</td>\n",
       "      <td>V2</td>\n",
       "      <td>V3</td>\n",
       "      <td>V4</td>\n",
       "      <td>V5</td>\n",
       "      <td>V6</td>\n",
       "      <td>V7</td>\n",
       "      <td>V8</td>\n",
       "      <td>V9</td>\n",
       "      <td>V10</td>\n",
       "      <td>...</td>\n",
       "      <td>V92</td>\n",
       "      <td>V93</td>\n",
       "      <td>V94</td>\n",
       "      <td>V95</td>\n",
       "      <td>V96</td>\n",
       "      <td>V97</td>\n",
       "      <td>V98</td>\n",
       "      <td>V99</td>\n",
       "      <td>V100</td>\n",
       "      <td>fat</td>\n",
       "    </tr>\n",
       "    <tr>\n",
       "      <th>1</th>\n",
       "      <td>2.61776</td>\n",
       "      <td>2.61814</td>\n",
       "      <td>2.61859</td>\n",
       "      <td>2.61912</td>\n",
       "      <td>2.61981</td>\n",
       "      <td>2.62071</td>\n",
       "      <td>2.62186</td>\n",
       "      <td>2.62334</td>\n",
       "      <td>2.62511</td>\n",
       "      <td>2.62722</td>\n",
       "      <td>...</td>\n",
       "      <td>2.98145</td>\n",
       "      <td>2.96072</td>\n",
       "      <td>2.94013</td>\n",
       "      <td>2.91978</td>\n",
       "      <td>2.89966</td>\n",
       "      <td>2.87964</td>\n",
       "      <td>2.8596</td>\n",
       "      <td>2.8394</td>\n",
       "      <td>2.8192</td>\n",
       "      <td>22.5</td>\n",
       "    </tr>\n",
       "    <tr>\n",
       "      <th>2</th>\n",
       "      <td>2.83454</td>\n",
       "      <td>2.83871</td>\n",
       "      <td>2.84283</td>\n",
       "      <td>2.84705</td>\n",
       "      <td>2.85138</td>\n",
       "      <td>2.85587</td>\n",
       "      <td>2.8606</td>\n",
       "      <td>2.86566</td>\n",
       "      <td>2.87093</td>\n",
       "      <td>2.87661</td>\n",
       "      <td>...</td>\n",
       "      <td>3.29186</td>\n",
       "      <td>3.27921</td>\n",
       "      <td>3.26655</td>\n",
       "      <td>3.25369</td>\n",
       "      <td>3.24045</td>\n",
       "      <td>3.22659</td>\n",
       "      <td>3.21181</td>\n",
       "      <td>3.196</td>\n",
       "      <td>3.17942</td>\n",
       "      <td>40.1</td>\n",
       "    </tr>\n",
       "    <tr>\n",
       "      <th>3</th>\n",
       "      <td>2.58284</td>\n",
       "      <td>2.58458</td>\n",
       "      <td>2.58629</td>\n",
       "      <td>2.58808</td>\n",
       "      <td>2.58996</td>\n",
       "      <td>2.59192</td>\n",
       "      <td>2.59401</td>\n",
       "      <td>2.59627</td>\n",
       "      <td>2.59873</td>\n",
       "      <td>2.60131</td>\n",
       "      <td>...</td>\n",
       "      <td>2.68951</td>\n",
       "      <td>2.67009</td>\n",
       "      <td>2.65112</td>\n",
       "      <td>2.63262</td>\n",
       "      <td>2.61461</td>\n",
       "      <td>2.59718</td>\n",
       "      <td>2.58034</td>\n",
       "      <td>2.56404</td>\n",
       "      <td>2.54816</td>\n",
       "      <td>8.4</td>\n",
       "    </tr>\n",
       "    <tr>\n",
       "      <th>4</th>\n",
       "      <td>2.82286</td>\n",
       "      <td>2.8246</td>\n",
       "      <td>2.8263</td>\n",
       "      <td>2.82814</td>\n",
       "      <td>2.83001</td>\n",
       "      <td>2.83192</td>\n",
       "      <td>2.83392</td>\n",
       "      <td>2.83606</td>\n",
       "      <td>2.83842</td>\n",
       "      <td>2.84097</td>\n",
       "      <td>...</td>\n",
       "      <td>2.97367</td>\n",
       "      <td>2.94951</td>\n",
       "      <td>2.92576</td>\n",
       "      <td>2.90251</td>\n",
       "      <td>2.87988</td>\n",
       "      <td>2.85794</td>\n",
       "      <td>2.83672</td>\n",
       "      <td>2.81617</td>\n",
       "      <td>2.79622</td>\n",
       "      <td>5.9</td>\n",
       "    </tr>\n",
       "  </tbody>\n",
       "</table>\n",
       "<p>5 rows × 101 columns</p>\n",
       "</div>"
      ],
      "text/plain": [
       "       0        1        2        3        4        5        6        7    \\\n",
       "0       V1       V2       V3       V4       V5       V6       V7       V8   \n",
       "1  2.61776  2.61814  2.61859  2.61912  2.61981  2.62071  2.62186  2.62334   \n",
       "2  2.83454  2.83871  2.84283  2.84705  2.85138  2.85587   2.8606  2.86566   \n",
       "3  2.58284  2.58458  2.58629  2.58808  2.58996  2.59192  2.59401  2.59627   \n",
       "4  2.82286   2.8246   2.8263  2.82814  2.83001  2.83192  2.83392  2.83606   \n",
       "\n",
       "       8        9    ...      91       92       93       94       95   \\\n",
       "0       V9      V10  ...      V92      V93      V94      V95      V96   \n",
       "1  2.62511  2.62722  ...  2.98145  2.96072  2.94013  2.91978  2.89966   \n",
       "2  2.87093  2.87661  ...  3.29186  3.27921  3.26655  3.25369  3.24045   \n",
       "3  2.59873  2.60131  ...  2.68951  2.67009  2.65112  2.63262  2.61461   \n",
       "4  2.83842  2.84097  ...  2.97367  2.94951  2.92576  2.90251  2.87988   \n",
       "\n",
       "       96       97       98       99    100  \n",
       "0      V97      V98      V99     V100   fat  \n",
       "1  2.87964   2.8596   2.8394   2.8192  22.5  \n",
       "2  3.22659  3.21181    3.196  3.17942  40.1  \n",
       "3  2.59718  2.58034  2.56404  2.54816   8.4  \n",
       "4  2.85794  2.83672  2.81617  2.79622   5.9  \n",
       "\n",
       "[5 rows x 101 columns]"
      ]
     },
     "execution_count": 4,
     "metadata": {},
     "output_type": "execute_result"
    }
   ],
   "source": [
    "# Loading the data\n",
    "path.join('/Users/IQBI Hamza/OneDrive/Bureau/2A/TSIA/SD-TSIA204', 'TP2')\n",
    "df = pd.read_csv('meatspec.csv', header = None)\n",
    "df.head()"
   ]
  },
  {
   "cell_type": "code",
   "execution_count": 5,
   "id": "c94b233e",
   "metadata": {},
   "outputs": [],
   "source": [
    "df = df.iloc[1:] # in order to remove the row with V_k and have numerical data only"
   ]
  },
  {
   "cell_type": "code",
   "execution_count": 6,
   "id": "5e8309ce",
   "metadata": {},
   "outputs": [
    {
     "data": {
      "text/plain": [
       "Text(0.5, 1.0, 'The mean and standard deviation of all the covariates')"
      ]
     },
     "execution_count": 6,
     "metadata": {},
     "output_type": "execute_result"
    },
    {
     "data": {
      "image/png": "[encoded data removed]",
      "text/plain": [
       "<Figure size 864x432 with 1 Axes>"
      ]
     },
     "metadata": {
      "needs_background": "light"
     },
     "output_type": "display_data"
    }
   ],
   "source": [
    "n, p = df.shape\n",
    "for i in range(p) :\n",
    "    df[i] = pd.to_numeric(df[i], errors='coerce') # to convert the type of the data to numeric\n",
    "    \n",
    "# In order to get the mean and std of the covariates, we need to remove the column 'fat'\n",
    "means = np.array(df.iloc[:, :p-1]).mean(axis=0, dtype=np.float64) \n",
    "stds = np.array(df.iloc[:, :p-1]).std(axis=0, dtype=np.float64)\n",
    "\n",
    "plt.figure(figsize = (12, 6))\n",
    "plt.errorbar(np.arange(p-1), means, stds)\n",
    "plt.title(\"The mean and standard deviation of all the covariates\")"
   ]
  },
  {
   "cell_type": "markdown",
   "id": "1bc1bf4f",
   "metadata": {},
   "source": [
    "It's clear that the data is :\n",
    "\n",
    "1.*Not centered*, since the mean is not 0.\n",
    "\n",
    "2.*Not normalized*, since it has values out of the segment [0, 1]. \n",
    "\n",
    "3.*Not standarized* since it's not centered (and also the standard deviation is not 1)."
   ]
  },
  {
   "cell_type": "code",
   "execution_count": 66,
   "id": "e3e7e272",
   "metadata": {},
   "outputs": [],
   "source": [
    "X = np.array(df.iloc[:, :p-1])\n",
    "Y = np.array(df[100]) # The variable that we seek to predict its value : fat\n",
    "\n",
    "# Separating the data into train and test sets \n",
    "X_train, X_test, Y_train, Y_test = tts(X, Y, test_size = 0.25, train_size = 0.75)\n",
    "\n",
    "# Standarazing both training and testing sets\n",
    "\n",
    "scaler = StandardScaler()\n",
    "# The test set must use identical scaling to the training set\n",
    "X_train = scaler.fit_transform(X_train)\n",
    "X_test = scaler.transform(X_test)\n",
    "#Use only the training set to calculate the mean and variance, standarize the training set, and then at test time,\n",
    "#use that same (training) mean and variance to normalize the test set\n",
    "Y_train = scaler.fit_transform(Y_train.reshape(-1, 1))\n",
    "Y_test = scaler.transform(Y_test.reshape(-1, 1))\n",
    "\n",
    "n, p = X_train.shape"
   ]
  },
  {
   "cell_type": "code",
   "execution_count": 8,
   "id": "e7d33b45",
   "metadata": {},
   "outputs": [
    {
     "data": {
      "text/plain": [
       "<matplotlib.legend.Legend at 0x246b839dca0>"
      ]
     },
     "execution_count": 8,
     "metadata": {},
     "output_type": "execute_result"
    },
    {
     "data": {
      "image/png": "[encoded data removed]",
      "text/plain": [
       "<Figure size 864x432 with 1 Axes>"
      ]
     },
     "metadata": {
      "needs_background": "light"
     },
     "output_type": "display_data"
    }
   ],
   "source": [
    "standard_means_train = np.array(X_train).mean(axis=0, dtype=np.float64) \n",
    "standard_stds_train = np.array(X_train).std(axis=0, dtype=np.float64)\n",
    "\n",
    "standard_means_test = np.array(X_test).mean(axis=0, dtype=np.float64) \n",
    "standard_stds_test = np.array(X_test).std(axis=0, dtype=np.float64)\n",
    "\n",
    "plt.figure(figsize = (12, 6))\n",
    "plt.errorbar(np.arange(p-1), standard_means_test, standard_stds_test, label = 'Testing set')\n",
    "plt.errorbar(np.arange(p-1), standard_means_train, standard_stds_train, label = 'Training set')\n",
    "plt.title(\"The mean and standard deviation of all the standarized covariates\")\n",
    "plt.legend()"
   ]
  },
  {
   "cell_type": "code",
   "execution_count": 9,
   "id": "c658f60a",
   "metadata": {},
   "outputs": [],
   "source": [
    "def r_2(Y_predicted, Y_groud_truth) :\n",
    "  \n",
    "    Y_bar = np.mean(Y_groud_truth)\n",
    "    return 1 - np.linalg.norm(Y_predicted - Y_groud_truth)**2 / np.linalg.norm(Y_groud_truth - Y_bar)**2"
   ]
  },
  {
   "cell_type": "code",
   "execution_count": 10,
   "id": "b0314ef8",
   "metadata": {},
   "outputs": [],
   "source": [
    "# Fitting a regular OLS\n",
    "\n",
    "# We don't have to fit the intercpt since we hav already standarized the data\n",
    "regression = LinearRegression(fit_intercept = False)\n",
    "attributes = regression.fit(X_train, Y_train) "
   ]
  },
  {
   "cell_type": "code",
   "execution_count": 11,
   "id": "372a4eb6",
   "metadata": {},
   "outputs": [
    {
     "name": "stdout",
     "output_type": "stream",
     "text": [
      "0.9600547777979198\n"
     ]
    }
   ],
   "source": [
    "Y_predicted = attributes.predict(X_test)\n",
    "r2_OLS = r_2(Y_predicted, Y_test)\n",
    "df_coef = pd.DataFrame({'Regular OLS' : [r2_OLS]})\n",
    "print(r2_OLS)"
   ]
  },
  {
   "cell_type": "markdown",
   "id": "1e43edbf",
   "metadata": {},
   "source": [
    "#### Variable selection :\n",
    "##### Q2 :"
   ]
  },
  {
   "cell_type": "code",
   "execution_count": 12,
   "id": "8997a762",
   "metadata": {},
   "outputs": [],
   "source": [
    "def f_variable_selection(X, Y, p_stop = None, stop_cirterion = False) :\n",
    "    \n",
    "    ''' Performs forward variable selection on the training input data X and training output data Y\n",
    "        Returns a list containing the selected variables in order\n",
    "    '''\n",
    "    n, p = X.shape\n",
    "    S = [] # To store all the variables, in their order of 'importance'\n",
    "    S_stop = [] # To store all the variables with a p-value smaller than p_stop\n",
    "    r = Y\n",
    "    p_values = []\n",
    "    \n",
    "    reg = LinearRegression(fit_intercept = False)\n",
    "    \n",
    "    while len(S) < p : # Since we don't define a stop criterion\n",
    "        T = {}\n",
    "        Thetas = {}\n",
    "        for k in range(p) :\n",
    "            if k not in S :\n",
    "                X_ = np.stack((np.ones(n), X[:, k]), axis = 1)\n",
    "                reg.fit(X_, r)\n",
    "                theta_hat = reg.coef_.T\n",
    "                Gram_hat = X_.T @ X_ / n\n",
    "                s_hat = np.sqrt(np.linalg.inv(Gram_hat)[0][0])\n",
    "                sigma_hat = np.linalg.norm(r - X_ @ theta_hat)**2 / (n-2)\n",
    "                T_hat = (np.sqrt(n)*np.linalg.norm(theta_hat, 1)) / (s_hat * sigma_hat)\n",
    "                T[k] = T_hat\n",
    "                Thetas[k] = theta_hat\n",
    "        k_star = max(T, key = T.get)\n",
    "        p_value = 2*(1 - scipy.stats.norm.cdf(T[k_star]))\n",
    "        if stop_cirterion :\n",
    "            if p_value < p_stop : S_stop.append(k_star)\n",
    "        p_values.append(p_value)\n",
    "        S.append(k_star)\n",
    "        r = r - np.stack((np.ones(n), X[:, k_star]), axis = 1) @ Thetas[k_star]\n",
    "    \n",
    "    return S, p_values, S_stop"
   ]
  },
  {
   "cell_type": "code",
   "execution_count": 13,
   "id": "340ce5e9",
   "metadata": {},
   "outputs": [
    {
     "name": "stdout",
     "output_type": "stream",
     "text": [
      "The selected variables are, in their selection order : [40, 7, 39, 6, 41, 8, 38, 5, 42, 9, 37, 4, 36, 10, 97, 3, 43, 11, 35, 2, 96, 12, 98, 13, 34, 1, 44, 0, 95, 14, 33, 15, 99, 16, 32, 17, 94, 18, 93, 19, 45, 64, 31, 65, 92, 63, 91, 66, 90, 67, 30, 20, 89, 62, 88, 68, 46, 61, 87, 69, 86, 60, 85, 53, 29, 52, 84, 70, 83, 54, 28, 59, 82, 21, 47, 55, 81, 58, 27, 51, 80, 71, 26, 56, 79, 57, 48, 72, 78, 50, 25, 22, 77, 73, 24, 74, 76, 75, 49, 23]\n"
     ]
    }
   ],
   "source": [
    "S = f_variable_selection(X_train, Y_train)[0]\n",
    "p_values = f_variable_selection(X_train, Y_train)[1]\n",
    "print(f\"The selected variables are, in their selection order : {S}\")"
   ]
  },
  {
   "cell_type": "markdown",
   "id": "b7c421ba",
   "metadata": {},
   "source": [
    "##### Q3 :"
   ]
  },
  {
   "cell_type": "code",
   "execution_count": 14,
   "id": "89b5a78f",
   "metadata": {},
   "outputs": [
    {
     "name": "stdout",
     "output_type": "stream",
     "text": [
      "23\n"
     ]
    }
   ],
   "source": [
    "# Keeping the selected variables in both train and test sets\n",
    "S_stop = f_variable_selection(X_train, Y_train, 0.05, stop_cirterion=True)[2]\n",
    "X_selected_train = []\n",
    "X_selected_test = []\n",
    "for k in range(len(S_stop)) :\n",
    "    X_selected_train.append(X_train[:, S_stop[k]])\n",
    "    X_selected_test.append(X_test[:, S_stop[k]])\n",
    "    \n",
    "X_selected_train = np.array(X_selected_train).T\n",
    "X_selected_test = np.array(X_selected_test).T\n",
    "\n",
    "# Applying the OLS with the selected vairables \n",
    "variable_selection_reg = LinearRegression(fit_intercept=False)\n",
    "variable_selection_reg.fit(X_selected_train, Y_train)\n",
    "Y_predicted_vs = variable_selection_reg.predict(X_selected_test)\n",
    "\n",
    "# Storing the R² coefficient in the data frame\n",
    "r2_variable_selection = r_2(Y_predicted_vs, Y_test)\n",
    "df_coef[\"Forward variable selection\"] = r2_variable_selection\n",
    "print(len(S_stop))"
   ]
  },
  {
   "cell_type": "code",
   "execution_count": 15,
   "id": "d9d12050",
   "metadata": {},
   "outputs": [
    {
     "data": {
      "text/plain": [
       "SequentialFeatureSelector(estimator=LinearRegression(fit_intercept=False),\n",
       "                          n_features_to_select=23)"
      ]
     },
     "execution_count": 15,
     "metadata": {},
     "output_type": "execute_result"
    }
   ],
   "source": [
    "sfs = SequentialFeatureSelector(estimator = LinearRegression(fit_intercept=False), n_features_to_select=len(S_stop))\n",
    "sfs.fit(X_train, Y_train)"
   ]
  },
  {
   "cell_type": "code",
   "execution_count": 16,
   "id": "eea91c59",
   "metadata": {},
   "outputs": [
    {
     "name": "stdout",
     "output_type": "stream",
     "text": [
      "The sequentially selected variables are :  [0, 1, 3, 18, 19, 21, 34, 35, 39, 40, 43, 46, 47, 48, 49, 57, 72, 74, 82, 87, 90, 97, 99]\n",
      "The forward selected variables are : [40, 7, 39, 6, 41, 8, 38, 5, 42, 9, 37, 4, 36, 10, 97, 3, 43, 11, 35, 2, 96, 12, 98]\n"
     ]
    }
   ],
   "source": [
    "support = sfs.support_\n",
    "sequential_selected = []\n",
    "for k in range(len(support)) :\n",
    "    if support[k] == True : sequential_selected.append(k)\n",
    "print(f\"The sequentially selected variables are :  {sequential_selected}\")\n",
    "print(f\"The forward selected variables are : {S_stop}\")"
   ]
  },
  {
   "cell_type": "raw",
   "id": "a0d47f2c",
   "metadata": {},
   "source": [
    "We can see that the two algorithms select different variables altough we have precised the number of selected ones to be the same. In fact, this is because :\n",
    "\n",
    "+Forward variable selection is a process of adding variables one at a time based on a predetermined criterion, such as the p-value of the t-test for each variable. This process continues until all the variables that meet the criterion are added to the model.\n",
    "\n",
    "+Sequential variable selection is a process of first fitting all possible combinations of variables to the regression model and then selecting the best model based on a predetermined criterion, such as the adjusted R-squared value."
   ]
  },
  {
   "cell_type": "code",
   "execution_count": 17,
   "id": "325fdd37",
   "metadata": {},
   "outputs": [],
   "source": [
    "r2_sequential = r_2(Y_predicted_vs, Y_test)\n",
    "df_coef[\"Sequential variable selection\"] = r2_sequential"
   ]
  },
  {
   "cell_type": "markdown",
   "id": "3d4a5cd3",
   "metadata": {},
   "source": [
    "#### Ridge :"
   ]
  },
  {
   "cell_type": "code",
   "execution_count": 18,
   "id": "95265494",
   "metadata": {},
   "outputs": [],
   "source": [
    "def ridge(X, Y, alpha) :\n",
    "    n, p = X.shape\n",
    "    G = X.T @ X\n",
    "    I = np.eye(p, p)\n",
    "    theta_hat = np.dot(np.linalg.inv(n*alpha * I + G) @ X.T, Y)\n",
    "    \n",
    "    return theta_hat"
   ]
  },
  {
   "cell_type": "code",
   "execution_count": 19,
   "id": "ca8121ec",
   "metadata": {},
   "outputs": [
    {
     "data": {
      "text/plain": [
       "Text(0.5, 1.0, 'The values of ridge coefficients as a function of $\\\\alpha$')"
      ]
     },
     "execution_count": 19,
     "metadata": {},
     "output_type": "execute_result"
    },
    {
     "data": {
      "image/png": "[encoded data removed]",
      "text/plain": [
       "<Figure size 1152x360 with 1 Axes>"
      ]
     },
     "metadata": {
      "needs_background": "light"
     },
     "output_type": "display_data"
    }
   ],
   "source": [
    "# How the coefficients change with alpha\n",
    "\n",
    "n_alphas = 60\n",
    "plot_alphas = np.logspace(-9, 2, num=n_alphas)\n",
    "\n",
    "fig = plt.figure(figsize=(16,5))\n",
    "\n",
    "for i in range(p-1) : # The i-th coefficient of theta_hat\n",
    "    Theta_i = []\n",
    "    for k in range(len(plot_alphas)) :\n",
    "        Theta_i.append(ridge(X_train, Y_train, plot_alphas[k])[i])\n",
    "    plt.plot(plot_alphas, Theta_i)\n",
    "\n",
    "plt.xlabel(r\"The penalty parameter : $\\alpha$\")\n",
    "plt.ylabel(\"Coefficients values\")\n",
    "plt.xscale('log')\n",
    "plt.title(r\"The values of ridge coefficients as a function of $\\alpha$\")"
   ]
  },
  {
   "cell_type": "code",
   "execution_count": 20,
   "id": "9714315e",
   "metadata": {},
   "outputs": [
    {
     "data": {
      "text/plain": [
       "<matplotlib.legend.Legend at 0x246baab66a0>"
      ]
     },
     "execution_count": 20,
     "metadata": {},
     "output_type": "execute_result"
    },
    {
     "data": {
      "image/png": "[encoded data removed]",
      "text/plain": [
       "<Figure size 1152x360 with 1 Axes>"
      ]
     },
     "metadata": {
      "needs_background": "light"
     },
     "output_type": "display_data"
    }
   ],
   "source": [
    "# MSE of both train and test sets\n",
    "\n",
    "n_alphas = 60\n",
    "alphas = np.logspace(-9, 2, num=n_alphas)\n",
    "\n",
    "#alphas = np.arange(10e-9, 10e2)\n",
    "\n",
    "MSE_train = []\n",
    "MSE_test = []\n",
    "min_train = len(alphas) + 1\n",
    "min_test = len(alphas) + 1\n",
    "\n",
    "for k in range(len(alphas)) :\n",
    "    theta_hat = ridge(X_train, Y_train, alphas[k])\n",
    "    Y_train_hat = X_train @ theta_hat\n",
    "    Y_test_hat = X_test @ theta_hat\n",
    "    err_train = np.linalg.norm(Y_train_hat - Y_train, 2)**2\n",
    "    err_test = np.linalg.norm(Y_test_hat - Y_test, 2)**2\n",
    "    if  err_train < min_train : min_train = k\n",
    "    if err_test < min_test : min_test = k\n",
    "    MSE_train.append(err_train)\n",
    "    MSE_test.append(err_test)\n",
    "    \n",
    "fig = plt.figure(figsize=(16,5))\n",
    "plt.plot(alphas, MSE_train, label = 'Train set')\n",
    "plt.plot(alphas, MSE_test, label = 'Test set')\n",
    "plt.plot(alphas[min_train], MSE_train[min_train], 'bo', label = 'Minimum for train set')\n",
    "plt.plot(alphas[min_train], MSE_test[min_train], 'co', label = 'Minimum for test set')\n",
    "plt.xlabel(r\"The penalty parameter : $\\alpha$\")\n",
    "plt.ylabel(\"MSE\")\n",
    "plt.xscale('log')\n",
    "plt.title(r\"MSE as a function of $\\alpha$\")\n",
    "plt.legend()"
   ]
  },
  {
   "cell_type": "code",
   "execution_count": 21,
   "id": "a2e187f2",
   "metadata": {},
   "outputs": [
    {
     "data": {
      "text/html": [
       "<div>\n",
       "<style scoped>\n",
       "    .dataframe tbody tr th:only-of-type {\n",
       "        vertical-align: middle;\n",
       "    }\n",
       "\n",
       "    .dataframe tbody tr th {\n",
       "        vertical-align: top;\n",
       "    }\n",
       "\n",
       "    .dataframe thead th {\n",
       "        text-align: right;\n",
       "    }\n",
       "</style>\n",
       "<table border=\"1\" class=\"dataframe\">\n",
       "  <thead>\n",
       "    <tr style=\"text-align: right;\">\n",
       "      <th></th>\n",
       "      <th>Regular OLS</th>\n",
       "      <th>Forward variable selection</th>\n",
       "      <th>Sequential variable selection</th>\n",
       "      <th>Ridge</th>\n",
       "    </tr>\n",
       "  </thead>\n",
       "  <tbody>\n",
       "    <tr>\n",
       "      <th>0</th>\n",
       "      <td>0.960055</td>\n",
       "      <td>0.95518</td>\n",
       "      <td>0.95518</td>\n",
       "      <td>0.968269</td>\n",
       "    </tr>\n",
       "  </tbody>\n",
       "</table>\n",
       "</div>"
      ],
      "text/plain": [
       "   Regular OLS  Forward variable selection  Sequential variable selection  \\\n",
       "0     0.960055                     0.95518                        0.95518   \n",
       "\n",
       "      Ridge  \n",
       "0  0.968269  "
      ]
     },
     "execution_count": 21,
     "metadata": {},
     "output_type": "execute_result"
    }
   ],
   "source": [
    "# Choosing the best performing value of alpha \n",
    "\n",
    "alpha_best = alphas[min_train]\n",
    "theta_ridge = ridge(X_train, Y_train, alpha_best)\n",
    "Y_predicted_ridge = X_test @ theta_ridge\n",
    "r2_ridge = r_2(Y_predicted_ridge, Y_test)\n",
    "df_coef[\"Ridge\"] = r2_ridge\n",
    "df_coef"
   ]
  },
  {
   "cell_type": "markdown",
   "id": "7ff9a782",
   "metadata": {},
   "source": [
    "#### Crossvalidation, Lasso and elastic net :"
   ]
  },
  {
   "cell_type": "code",
   "execution_count": 22,
   "id": "fd9f989a",
   "metadata": {},
   "outputs": [],
   "source": [
    "n_alphas = 30\n",
    "lasso_alphas = np.logspace(-5, -2, num=n_alphas)\n",
    "\n",
    "thetas_nz = []\n",
    "\n",
    "MSE_train_lasso = []\n",
    "MSE_test_lasso = []\n",
    "\n",
    "for k in range(len(lasso_alphas)) :\n",
    "    lasso_k = Lasso(lasso_alphas[k], fit_intercept = False, max_iter = 20000, tol=0.05)\n",
    "    lasso_k.fit(X_train, Y_train)\n",
    "    theta_hat = lasso_k.coef_\n",
    "    \n",
    "    count_nz = 0\n",
    "    for t in theta_hat:\n",
    "        if t != 0 : count_nz += 1\n",
    "    thetas_nz.append(count_nz)\n",
    "   \n",
    "    Y_train_pred = lasso_k.predict(X_train)\n",
    "    Y_test_pred = lasso_k.predict(X_test)\n",
    "    err_train = np.mean((Y_train_pred - Y_train)**2)\n",
    "    err_test = np.mean((Y_test_pred - Y_test)**2)\n",
    "    MSE_train_lasso.append(err_train)\n",
    "    MSE_test_lasso.append(err_test)"
   ]
  },
  {
   "cell_type": "code",
   "execution_count": 23,
   "id": "49134028",
   "metadata": {},
   "outputs": [
    {
     "data": {
      "image/png": "[encoded data removed]",
      "text/plain": [
       "<Figure size 1152x360 with 1 Axes>"
      ]
     },
     "metadata": {
      "needs_background": "light"
     },
     "output_type": "display_data"
    }
   ],
   "source": [
    "fig = plt.figure(figsize=(16,5))\n",
    "\n",
    "plt.plot(lasso_alphas, thetas_nz)\n",
    "plt.xlabel(r\"The penalty parameter : $\\alpha$\")\n",
    "plt.title(r\"Number of non zero coefficients as a function of $\\alpha$\")\n",
    "plt.xscale('log')"
   ]
  },
  {
   "cell_type": "code",
   "execution_count": 24,
   "id": "c310d51f",
   "metadata": {},
   "outputs": [
    {
     "data": {
      "text/plain": [
       "<matplotlib.legend.Legend at 0x246bad515e0>"
      ]
     },
     "execution_count": 24,
     "metadata": {},
     "output_type": "execute_result"
    },
    {
     "data": {
      "image/png": "[encoded data removed]",
      "text/plain": [
       "<Figure size 1152x360 with 1 Axes>"
      ]
     },
     "metadata": {
      "needs_background": "light"
     },
     "output_type": "display_data"
    }
   ],
   "source": [
    "min_train_lasso = min(MSE_train_lasso)\n",
    "min_test_lasso = min(MSE_test_lasso)\n",
    "\n",
    "fig = plt.figure(figsize=(16,5))\n",
    "plt.plot(lasso_alphas, MSE_train_lasso, label = 'Train set')\n",
    "plt.plot(lasso_alphas, MSE_test_lasso, label = 'Test set')\n",
    "plt.plot(lasso_alphas[MSE_train_lasso.index(min_train_lasso)], min_train_lasso, 'bo', label = 'Minimum for train set')\n",
    "plt.plot(lasso_alphas[MSE_test_lasso.index(min_test_lasso)], min_test_lasso, 'co', label = 'Minimum for test set')\n",
    "plt.xlabel(r\"The penalty parameter : $\\alpha$\")\n",
    "plt.ylabel(\"MSE\")\n",
    "plt.xscale('log')\n",
    "plt.title(r\"MSE as a function of $\\alpha$\")\n",
    "plt.legend()"
   ]
  },
  {
   "cell_type": "code",
   "execution_count": 25,
   "id": "a0145f21",
   "metadata": {},
   "outputs": [
    {
     "data": {
      "text/html": [
       "<div>\n",
       "<style scoped>\n",
       "    .dataframe tbody tr th:only-of-type {\n",
       "        vertical-align: middle;\n",
       "    }\n",
       "\n",
       "    .dataframe tbody tr th {\n",
       "        vertical-align: top;\n",
       "    }\n",
       "\n",
       "    .dataframe thead th {\n",
       "        text-align: right;\n",
       "    }\n",
       "</style>\n",
       "<table border=\"1\" class=\"dataframe\">\n",
       "  <thead>\n",
       "    <tr style=\"text-align: right;\">\n",
       "      <th></th>\n",
       "      <th>Regular OLS</th>\n",
       "      <th>Forward variable selection</th>\n",
       "      <th>Sequential variable selection</th>\n",
       "      <th>Ridge</th>\n",
       "      <th>Lasso</th>\n",
       "    </tr>\n",
       "  </thead>\n",
       "  <tbody>\n",
       "    <tr>\n",
       "      <th>0</th>\n",
       "      <td>0.960055</td>\n",
       "      <td>0.95518</td>\n",
       "      <td>0.95518</td>\n",
       "      <td>0.968269</td>\n",
       "      <td>0.903604</td>\n",
       "    </tr>\n",
       "  </tbody>\n",
       "</table>\n",
       "</div>"
      ],
      "text/plain": [
       "   Regular OLS  Forward variable selection  Sequential variable selection  \\\n",
       "0     0.960055                     0.95518                        0.95518   \n",
       "\n",
       "      Ridge     Lasso  \n",
       "0  0.968269  0.903604  "
      ]
     },
     "execution_count": 25,
     "metadata": {},
     "output_type": "execute_result"
    }
   ],
   "source": [
    "alpha_lasso = lasso_alphas[MSE_train_lasso.index(min_train_lasso)]\n",
    "lasso = Lasso(alpha_lasso, fit_intercept = True, max_iter = 200000, tol=10e-6)\n",
    "lasso.fit(X_train, Y_train)\n",
    "Y_predicted_lasso = lasso.predict(X_test)\n",
    "r2_lasso = lasso.score(X_test, Y_test)\n",
    "df_coef[\"Lasso\"] = r2_lasso\n",
    "df_coef"
   ]
  },
  {
   "cell_type": "code",
   "execution_count": 26,
   "id": "aca7abb8",
   "metadata": {},
   "outputs": [],
   "source": [
    "# Cross validation\n",
    "\n",
    "K = 10\n",
    "r = 30\n",
    "\n",
    "cv_ridge_alphas = np.logspace(-10, 3, r)\n",
    "cv_lasso_alphas = [0, 0.1, 0.5, 0.7, 0.9, 0.99]\n",
    "\n",
    "\n",
    "Errors = []\n",
    "for a_lasso in cv_lasso_alphas :\n",
    "    Errors_ridge = []\n",
    "    for a_ridge in cv_ridge_alphas :\n",
    "        Errors_k = []\n",
    "        for k in range(K) : \n",
    "            delta = len(X_train)//K\n",
    "            indices = range(k*delta, (k+1)*delta)\n",
    "            X_cv_k = np.reshape(np.delete(X_train, indices, axis=0), (X_train.shape[0]-delta, X_train.shape[1]))\n",
    "            Y_cv_k = np.delete(Y_train, indices)\n",
    "            \n",
    "            elastic_net = ElasticNet(alpha = a_lasso + a_ridge, l1_ratio = a_lasso/(a_lasso + a_ridge), \n",
    "                                     fit_intercept = False, max_iter = 10e4, tol = 10-5)\n",
    "            elastic_net.fit(X_cv_k, Y_cv_k)\n",
    "            theta_cv_k = elastic_net.coef_\n",
    "            Y_cv_pred = elastic_net.predict(X_train[k*delta:(k+1)*delta])\n",
    "            err = np.mean((Y_cv_pred - Y_train[k*delta:(k+1)*delta])**2)\n",
    "            Errors_k.append(err)\n",
    "        Errors_ridge.append(np.mean(Errors_k))\n",
    "    Errors.append(Errors_ridge)"
   ]
  },
  {
   "cell_type": "code",
   "execution_count": 27,
   "id": "e642df50",
   "metadata": {},
   "outputs": [
    {
     "data": {
      "image/png": "[encoded data removed]",
      "text/plain": [
       "<Figure size 1152x360 with 1 Axes>"
      ]
     },
     "metadata": {
      "needs_background": "light"
     },
     "output_type": "display_data"
    }
   ],
   "source": [
    "fig = plt.figure(figsize=(16,5))\n",
    "for k in range(len(cv_lasso_alphas)) :\n",
    "    plt.plot(cv_ridge_alphas, Errors[k], label = r'$\\alpha = $' + f'{cv_lasso_alphas[k]}')\n",
    "    plt.ylabel('MSE')\n",
    "    plt.xlabel('The Ridge regularization parameter')\n",
    "    plt.legend()"
   ]
  },
  {
   "cell_type": "markdown",
   "id": "3d1daed9",
   "metadata": {},
   "source": [
    "#### Bootstrap :"
   ]
  },
  {
   "cell_type": "code",
   "execution_count": null,
   "id": "f675875c",
   "metadata": {},
   "outputs": [],
   "source": []
  },
  {
   "cell_type": "markdown",
   "id": "edfdf70e",
   "metadata": {},
   "source": [
    "#### PCA :"
   ]
  },
  {
   "cell_type": "code",
   "execution_count": 83,
   "id": "5752a56a",
   "metadata": {},
   "outputs": [],
   "source": [
    "G = X_train.T @ X_train # The covariance matrix is the Gram matrix \n",
    "U, s, V = np.linalg.svd(G, hermitian=True)"
   ]
  },
  {
   "cell_type": "code",
   "execution_count": 50,
   "id": "c9e3dfa8",
   "metadata": {},
   "outputs": [
    {
     "data": {
      "image/png": "[encoded data removed]",
      "text/plain": [
       "<Figure size 576x432 with 2 Axes>"
      ]
     },
     "metadata": {},
     "output_type": "display_data"
    }
   ],
   "source": [
    "# Heatmap of the covariance matrix\n",
    "\n",
    "fig = plt.figure(figsize=(8, 6))\n",
    "sns.set_style(\"whitegrid\", {'axes.grid': False})\n",
    "ax = fig.add_subplot()\n",
    "heatmap = ax.matshow(G / X_train.shape[0], cmap=\"RdBu\") # we normalize the Gram matrix \n",
    "fig.colorbar(heatmap) \n",
    "plt.show()"
   ]
  },
  {
   "cell_type": "code",
   "execution_count": 119,
   "id": "00ffee9c",
   "metadata": {},
   "outputs": [
    {
     "data": {
      "text/plain": [
       "<matplotlib.legend.Legend at 0x246ca0ccd30>"
      ]
     },
     "execution_count": 119,
     "metadata": {},
     "output_type": "execute_result"
    },
    {
     "data": {
      "image/png": "[encoded data removed]",
      "text/plain": [
       "<Figure size 1152x216 with 1 Axes>"
      ]
     },
     "metadata": {},
     "output_type": "display_data"
    }
   ],
   "source": [
    "PC = X_train @ U\n",
    "fig = plt.figure(figsize=(16,3))\n",
    "pca_all = PCA(n_components=p)\n",
    "pca_all.fit_transform(X_train)\n",
    "\n",
    "plt.plot(np.arange(p)[1:20], pca_all.explained_variance_[1:20], label='sklearn')\n",
    "plt.plot(np.arange(p)[1:20], np.var(PC, axis=0)[1:20], label='SVD')\n",
    "plt.xlabel('The components')\n",
    "plt.ylabel('The variance')\n",
    "plt.title('The amount of variance explained by the first components')\n",
    "plt.legend()"
   ]
  },
  {
   "cell_type": "code",
   "execution_count": 105,
   "id": "90ec10ed",
   "metadata": {},
   "outputs": [
    {
     "data": {
      "application/vnd.plotly.v1+json": {
       "config": {
        "plotlyServerURL": "https://plot.ly"
       },
       "data": [
        {
         "hovertemplate": "index=%{x}<br>value=%{y}<br>color=%{marker.color}<extra></extra>",
         "legendgroup": "",
         "marker": {
          "color": [
           -0.09160735689819785,
           -0.9961585868108577,
           0.6519644168435648,
           -0.6282055441345215,
           2.1544393411052707,
           0.00804659215997659,
           -0.8505105074181413,
           -0.32157800857090796,
           -0.6128741673563408,
           0.8206095614035522,
           1.3802048138071472,
           -1.1264752894253933,
           2.269424666941626,
           -0.436563334407263,
           2.131442275938,
           -0.9654958332544963,
           -1.2414606152617484,
           -0.7431908699708766,
           -0.35990645051635967,
           0.2533486206108673,
           -0.9041703261417736,
           -0.037947538174565545,
           -0.8735075725854122,
           -0.037947538174565545,
           2.269424666941626,
           0.6979585471781069,
           -1.2874547455962906,
           -0.4595603995745341,
           -0.04561322656365572,
           0.8436066265708233,
           -0.7738536235272379,
           0.0003809037708861435,
           -0.9884928984217672,
           -0.9654958332544963,
           -0.35990645051635967,
           -0.8735075725854122,
           -0.9041703261417736,
           -0.7891850003054185,
           0.9892547059635398,
           -1.1724694197599355,
           1.0045860827417203,
           -0.7508565583599668,
           -1.0421527171453997,
           -0.9041703261417736,
           1.3035479299162438,
           -0.8045163770835992,
           -1.095812535869032,
           -0.20659268273455292,
           0.6366330400653842,
           -1.3257831875417423,
           0.09236916443997013,
           0.7362869891235586,
           0.5599761561744808,
           -0.7431908699708766,
           1.3035479299162438,
           -0.8735075725854122,
           0.3989967000035836,
           0.13069760638542183,
           -0.9424987680872253,
           -0.8505105074181413,
           -0.07627598012001723,
           1.878474559098019,
           -0.9041703261417736,
           0.8436066265708233,
           -0.6205398557454311,
           1.9627971313780124,
           -0.842844819029051,
           2.261758978552536,
           0.6902928587890165,
           -0.8045163770835992,
           0.8052781846253716,
           -0.7968506886945088,
           2.031788326879826,
           -0.5362172834654375,
           0.8819350685162749,
           -0.9654958332544963,
           -0.842844819029051,
           -0.8658418841963219,
           -0.5592143486327084,
           0.8819350685162749,
           0.13069760638542183,
           1.6791666609816702,
           -0.934833079698135,
           0.8206095614035522,
           -0.6205398557454311,
           0.04637503410542828,
           -0.9271673913090447,
           -0.5592143486327084,
           -0.8351791306399605,
           -0.8351791306399605,
           -0.8045163770835992,
           0.23035155544359626,
           -0.842844819029051,
           -0.5362172834654375,
           1.1962282924689787,
           -0.19126130595637228,
           -1.1724694197599355,
           1.3035479299162438,
           1.3265449950835146,
           -1.1188096010363031,
           1.019917459519901,
           -0.2985809434036369,
           -0.9118360145308639,
           -0.6205398557454311,
           2.3000874204979875,
           -0.9961585868108577,
           -0.275583878236366,
           -0.9195017029199544,
           -0.436563334407263,
           1.2958822415271534,
           0.3683339464472224,
           -0.5362172834654375,
           -0.551548660243618,
           -0.9041703261417736,
           -0.551548660243618,
           1.0735772782435336,
           -0.17592992917819153,
           0.9355948872399072,
           -0.8811732609745027,
           0.7439526775126488,
           -0.32157800857090796,
           -0.551548660243618,
           -0.4978888415199858,
           -0.5438829718545278,
           -0.13760148723274,
           2.108445210770729,
           1.2268910460253404,
           1.502855828032592,
           -1.026821340367219,
           -0.9424987680872253,
           0.8282752497926427,
           2.3230844856652584,
           0.7592840542908297,
           -0.6818653628581538,
           -0.7048624280254249,
           1.5565156467562247,
           -0.14526717562183017,
           -0.9961585868108577,
           -0.1682642407891012,
           1.019917459519901,
           0.1843574251090544,
           -0.6205398557454311,
           -0.5898771021890697,
           -0.09160735689819785,
           2.1697707178834515,
           1.3495420602507853,
           -0.5822114137999794,
           -0.5362172834654375,
           0.5599761561744808,
           -1.0344870287563095,
           -0.7968506886945088,
           -0.7355251815817863,
           0.7746154310690103,
           2.0547853920470964,
           1.863143182319838,
           -0.9654958332544963,
           -0.3369093853490886,
           -0.8581761958072316,
           0.7822811194581005,
           -0.7661879351381476,
           -0.13760148723274,
           -0.09160735689819785,
           -0.9961585868108577,
           0.6519644168435648,
           -0.6282055441345215,
           2.1544393411052707,
           0.00804659215997659,
           -0.8505105074181413,
           -0.32157800857090796,
           -0.6128741673563408,
           0.8206095614035522,
           1.3802048138071472,
           -1.1264752894253933,
           2.269424666941626,
           -0.436563334407263,
           2.131442275938,
           -0.9654958332544963,
           -1.2414606152617484,
           -0.7431908699708766,
           -0.35990645051635967,
           0.2533486206108673,
           -0.9041703261417736,
           -0.037947538174565545,
           -0.8735075725854122,
           -0.037947538174565545,
           2.269424666941626,
           0.6979585471781069,
           -1.2874547455962906,
           -0.4595603995745341,
           -0.04561322656365572,
           0.8436066265708233,
           -0.7738536235272379,
           0.0003809037708861435,
           -0.9884928984217672,
           -0.9654958332544963,
           -0.35990645051635967,
           -0.8735075725854122,
           -0.9041703261417736,
           -0.7891850003054185,
           0.9892547059635398,
           -1.1724694197599355,
           1.0045860827417203,
           -0.7508565583599668,
           -1.0421527171453997,
           -0.9041703261417736,
           1.3035479299162438,
           -0.8045163770835992,
           -1.095812535869032,
           -0.20659268273455292,
           0.6366330400653842,
           -1.3257831875417423,
           0.09236916443997013,
           0.7362869891235586,
           0.5599761561744808,
           -0.7431908699708766,
           1.3035479299162438,
           -0.8735075725854122,
           0.3989967000035836,
           0.13069760638542183,
           -0.9424987680872253,
           -0.8505105074181413,
           -0.07627598012001723,
           1.878474559098019,
           -0.9041703261417736,
           0.8436066265708233,
           -0.6205398557454311,
           1.9627971313780124,
           -0.842844819029051,
           2.261758978552536,
           0.6902928587890165,
           -0.8045163770835992,
           0.8052781846253716,
           -0.7968506886945088,
           2.031788326879826,
           -0.5362172834654375,
           0.8819350685162749,
           -0.9654958332544963,
           -0.842844819029051,
           -0.8658418841963219,
           -0.5592143486327084,
           0.8819350685162749,
           0.13069760638542183,
           1.6791666609816702,
           -0.934833079698135,
           0.8206095614035522,
           -0.6205398557454311,
           0.04637503410542828,
           -0.9271673913090447,
           -0.5592143486327084,
           -0.8351791306399605,
           -0.8351791306399605,
           -0.8045163770835992,
           0.23035155544359626,
           -0.842844819029051,
           -0.5362172834654375,
           1.1962282924689787,
           -0.19126130595637228,
           -1.1724694197599355,
           1.3035479299162438,
           1.3265449950835146,
           -1.1188096010363031,
           1.019917459519901,
           -0.2985809434036369,
           -0.9118360145308639,
           -0.6205398557454311,
           2.3000874204979875,
           -0.9961585868108577,
           -0.275583878236366,
           -0.9195017029199544,
           -0.436563334407263,
           1.2958822415271534,
           0.3683339464472224,
           -0.5362172834654375,
           -0.551548660243618,
           -0.9041703261417736,
           -0.551548660243618,
           1.0735772782435336,
           -0.17592992917819153,
           0.9355948872399072,
           -0.8811732609745027,
           0.7439526775126488,
           -0.32157800857090796,
           -0.551548660243618,
           -0.4978888415199858,
           -0.5438829718545278,
           -0.13760148723274,
           2.108445210770729,
           1.2268910460253404,
           1.502855828032592,
           -1.026821340367219,
           -0.9424987680872253,
           0.8282752497926427,
           2.3230844856652584,
           0.7592840542908297,
           -0.6818653628581538,
           -0.7048624280254249,
           1.5565156467562247,
           -0.14526717562183017,
           -0.9961585868108577,
           -0.1682642407891012,
           1.019917459519901,
           0.1843574251090544,
           -0.6205398557454311,
           -0.5898771021890697,
           -0.09160735689819785,
           2.1697707178834515,
           1.3495420602507853,
           -0.5822114137999794,
           -0.5362172834654375,
           0.5599761561744808,
           -1.0344870287563095,
           -0.7968506886945088,
           -0.7355251815817863,
           0.7746154310690103,
           2.0547853920470964,
           1.863143182319838,
           -0.9654958332544963,
           -0.3369093853490886,
           -0.8581761958072316,
           0.7822811194581005,
           -0.7661879351381476,
           -0.13760148723274
          ],
          "coloraxis": "coloraxis",
          "symbol": "circle"
         },
         "mode": "markers",
         "name": "",
         "orientation": "v",
         "showlegend": false,
         "type": "scatter",
         "x": [
          0,
          1,
          2,
          3,
          4,
          5,
          6,
          7,
          8,
          9,
          10,
          11,
          12,
          13,
          14,
          15,
          16,
          17,
          18,
          19,
          20,
          21,
          22,
          23,
          24,
          25,
          26,
          27,
          28,
          29,
          30,
          31,
          32,
          33,
          34,
          35,
          36,
          37,
          38,
          39,
          40,
          41,
          42,
          43,
          44,
          45,
          46,
          47,
          48,
          49,
          50,
          51,
          52,
          53,
          54,
          55,
          56,
          57,
          58,
          59,
          60,
          61,
          62,
          63,
          64,
          65,
          66,
          67,
          68,
          69,
          70,
          71,
          72,
          73,
          74,
          75,
          76,
          77,
          78,
          79,
          80,
          81,
          82,
          83,
          84,
          85,
          86,
          87,
          88,
          89,
          90,
          91,
          92,
          93,
          94,
          95,
          96,
          97,
          98,
          99,
          100,
          101,
          102,
          103,
          104,
          105,
          106,
          107,
          108,
          109,
          110,
          111,
          112,
          113,
          114,
          115,
          116,
          117,
          118,
          119,
          120,
          121,
          122,
          123,
          124,
          125,
          126,
          127,
          128,
          129,
          130,
          131,
          132,
          133,
          134,
          135,
          136,
          137,
          138,
          139,
          140,
          141,
          142,
          143,
          144,
          145,
          146,
          147,
          148,
          149,
          150,
          151,
          152,
          153,
          154,
          155,
          156,
          157,
          158,
          159,
          160,
          0,
          1,
          2,
          3,
          4,
          5,
          6,
          7,
          8,
          9,
          10,
          11,
          12,
          13,
          14,
          15,
          16,
          17,
          18,
          19,
          20,
          21,
          22,
          23,
          24,
          25,
          26,
          27,
          28,
          29,
          30,
          31,
          32,
          33,
          34,
          35,
          36,
          37,
          38,
          39,
          40,
          41,
          42,
          43,
          44,
          45,
          46,
          47,
          48,
          49,
          50,
          51,
          52,
          53,
          54,
          55,
          56,
          57,
          58,
          59,
          60,
          61,
          62,
          63,
          64,
          65,
          66,
          67,
          68,
          69,
          70,
          71,
          72,
          73,
          74,
          75,
          76,
          77,
          78,
          79,
          80,
          81,
          82,
          83,
          84,
          85,
          86,
          87,
          88,
          89,
          90,
          91,
          92,
          93,
          94,
          95,
          96,
          97,
          98,
          99,
          100,
          101,
          102,
          103,
          104,
          105,
          106,
          107,
          108,
          109,
          110,
          111,
          112,
          113,
          114,
          115,
          116,
          117,
          118,
          119,
          120,
          121,
          122,
          123,
          124,
          125,
          126,
          127,
          128,
          129,
          130,
          131,
          132,
          133,
          134,
          135,
          136,
          137,
          138,
          139,
          140,
          141,
          142,
          143,
          144,
          145,
          146,
          147,
          148,
          149,
          150,
          151,
          152,
          153,
          154,
          155,
          156,
          157,
          158,
          159,
          160
         ],
         "xaxis": "x",
         "y": [
          21.89055804988055,
          -9.354004737895542,
          7.346153403312686,
          18.718086745265133,
          5.142379395355757,
          2.98425842275437,
          -13.789975578528056,
          4.6489293726499215,
          12.854935002609759,
          -8.672754187343452,
          -2.7884853081038306,
          4.496115437333914,
          4.436730735098941,
          0.4453651979967826,
          5.672590157553347,
          -8.312071478046995,
          -13.788667628963475,
          0.905831538748372,
          -6.150327809954012,
          -2.5356721767700905,
          -13.219000469655128,
          -6.554756710411569,
          -6.830893345940105,
          -13.373031554452904,
          4.436730735098942,
          -8.00815479942131,
          -16.912484763804606,
          -10.877714155372098,
          30.039024165669296,
          -7.91017748187851,
          -11.573927506144685,
          -2.421217801975149,
          -9.556805849313054,
          -5.71914106697161,
          -9.13384712391691,
          -8.780356211903985,
          -12.146980481312058,
          -9.19434442982177,
          9.810907921897773,
          1.8405287061700335,
          7.99954141456034,
          -11.994886028951708,
          -7.000326476196148,
          -12.146980481312054,
          7.599244096680397,
          0.9940475071268612,
          -6.539610440026343,
          5.799472270311276,
          21.06525259591847,
          -14.932337649578578,
          2.0638346998450388,
          -1.7971345302184323,
          1.0005604532116301,
          0.9058315387483724,
          0.4315061998447913,
          -5.8441264514375755,
          -1.5966022082643725,
          11.80340345558182,
          -1.7544741104923967,
          -4.708510104424638,
          -5.134986116798378,
          5.695981686071181,
          -13.219000469655136,
          -6.845043803674339,
          8.864263407054837,
          2.6320974550800345,
          -4.9358910470035084,
          1.0699299468251575,
          -2.8274689577125027,
          -12.789618058379082,
          -3.5366676772520824,
          -2.6356114242615147,
          4.49147108858632,
          -6.350317731207454,
          -1.418681467199663,
          -7.079119639931488,
          -6.030459332877731,
          -10.392651454125502,
          -0.7026456628281658,
          -1.4186814671996633,
          14.884895947362265,
          1.0829182139668134,
          -2.015736295348821,
          -7.751294456501813,
          7.768194153809137,
          3.5441846917010587,
          10.127773818980383,
          -0.4421543531272829,
          -7.86844407403149,
          -7.951368635621602,
          -12.577662424407954,
          18.051453726017925,
          -14.041816173175764,
          -9.281877519437183,
          -4.664402253505666,
          -1.614207505989747,
          1.8405287061700342,
          7.599244096680395,
          -4.8467750027875285,
          -14.178577652430178,
          13.635628920125628,
          -1.6622129702814012,
          -1.7436657102384758,
          13.682085524192118,
          28.09809956465547,
          -11.912114119519506,
          -13.830157004675232,
          -5.518530303296398,
          -4.753588520131831,
          16.78777307064773,
          1.0868190033453131,
          15.752872227897145,
          7.038213182050598,
          2.25813594905549,
          -13.122796989701687,
          3.1548205409315617,
          9.085807741771113,
          15.004925641790608,
          -1.4381940226136731,
          13.289889987610376,
          -4.74297255312979,
          3.048321281169964,
          12.682551408297405,
          20.46533989511831,
          -0.1354529839000178,
          1.0063945094821327,
          4.7447794776472705,
          -1.1532883119132193,
          -11.727108219608533,
          -2.741266824560671,
          7.993199649839406,
          35.72463636496109,
          -6.954963170775373,
          -13.981254336630942,
          -7.909931284527077,
          12.428612264030674,
          -1.698710314713963,
          -9.354004737895549,
          12.480618762279034,
          13.635628920125628,
          -9.375292919497968,
          15.316987831352243,
          9.771118580087478,
          21.890558049880575,
          -2.8650683331617226,
          16.999021905187117,
          -5.5187194459432884,
          -9.281877519437183,
          1.085928305481412,
          -4.794854937262782,
          3.5619860579577707,
          -0.6002094863458673,
          12.391984373854582,
          0.4821858745155564,
          -2.8394211078801685,
          -5.719141066971611,
          -10.656920937590494,
          0.30591401940066365,
          -2.128765047243017,
          -0.0036403076975392618,
          -1.2405297598522464,
          -2.5684452870664973,
          -1.7396535837210754,
          1.0666238713777079,
          0.4139716047377918,
          1.0108236397102954,
          0.1458003903540502,
          1.1274127006847692,
          -0.17010254028332045,
          0.28443100968737395,
          0.27902421360494184,
          0.1279006314878973,
          -0.15685981883803773,
          0.8129297275013969,
          0.5920205139916778,
          -0.295475214276049,
          -0.21116817946614114,
          1.0089071531810314,
          -0.4540151195691554,
          1.3039276725790245,
          1.1157750085926708,
          0.4647751382857596,
          1.0758673725743553,
          0.002867283335330882,
          0.7392118745064616,
          0.8129297275013961,
          0.25519764205215933,
          0.8317839206506155,
          1.151638115110901,
          -0.10973731286197257,
          0.1378069039852527,
          0.16443984051193292,
          0.5374674744546931,
          -1.4791049132002172,
          -0.8717113332020405,
          1.279741738590967,
          -1.5338434868977842,
          0.36672213445121793,
          0.28695091479536755,
          0.9053961557959769,
          -0.351145593812499,
          -0.3007284254901271,
          -1.361837407727486,
          -1.6002878673146401,
          0.3667221344512175,
          0.03894631975059863,
          -1.2947822121633674,
          -1.5589509585101238,
          -0.2904624757470675,
          4.331202395930771,
          0.8371542568513054,
          0.16454363201289796,
          1.0535447595036804,
          0.8446269257813352,
          -0.45401511956915575,
          -0.3845397747658994,
          -0.0831697785521505,
          0.8198007085178325,
          0.4440861741712495,
          -1.2105699557249459,
          0.3005478639207731,
          -1.4843177763846367,
          0.031216261374268462,
          0.464775138285759,
          0.3176695451029177,
          -0.4254662722177115,
          -0.6168761945143023,
          -1.1152508354252257,
          -0.4993490168883159,
          -0.5843948985965042,
          0.3169088720396292,
          0.9653180677789782,
          -1.3864686939743285,
          0.9615896831535004,
          0.8408992124698355,
          -0.15931811164188509,
          -0.9228693786364269,
          -0.6806812717295163,
          0.5461929029721797,
          0.5007167578935462,
          -0.1593181116418851,
          0.3302246062066167,
          -0.2659489809284467,
          -0.7528998084009213,
          0.42701751434009666,
          -0.4856594316215941,
          -0.3746297502228754,
          -0.2622082892650815,
          -0.8103720088787627,
          -0.8008442129643336,
          -0.47991375785825247,
          0.2950355249025524,
          -1.2256540048575715,
          -0.22438522473013292,
          0.3255491991691095,
          0.2517454423504176,
          0.8723586841760644,
          -0.35114559381249955,
          0.038946319750598465,
          0.22899601269555667,
          -0.8207923667795717,
          0.6909619992835693,
          0.17530305635144025,
          -2.8861872107123676,
          0.02863110441885858,
          0.015594992947413323,
          -0.8490690409010743,
          0.09986155224022933,
          -0.7485796897608378,
          0.17341265905372355,
          0.512214550231289,
          -0.7012204086057641,
          0.15928876342099835,
          -1.541899834661138,
          -0.019090784950760133,
          0.6725303095718741,
          0.5571600734237128,
          0.480186878392079,
          -0.9262176889087942,
          -1.520776054291906,
          1.3424675929710324,
          0.6613861476943929,
          -0.9778077006078361,
          -0.1905673492281543,
          0.397636307630493,
          0.7110563563987775,
          0.9789150756051355,
          0.9474979464913196,
          0.8097769922664927,
          0.8150487473496631,
          -1.75011607468691,
          0.6335406587281933,
          0.1268518939732749,
          0.4461629215355995,
          0.768067264605908,
          0.4970617786105147,
          1.2717604088139822,
          -0.817887873770729,
          -1.739653583721077,
          -0.3163962306690754,
          0.6909619992835693,
          0.4168848616062691,
          0.1560185632211781,
          -0.7067548609855896,
          -2.5684452870665018,
          0.11738001244461774,
          -0.028436347335868358,
          0.36467539383135505,
          0.3255491991691095,
          1.2373198697019983,
          -0.0037450904849239334,
          -0.7818371870158788,
          -0.7064689881757679,
          0.23426492769442303,
          0.0028929815760076016,
          -0.0627593527607732,
          -0.8717113332020403,
          0.32708861260716277,
          0.7171211017333975,
          1.0022935344269908,
          -1.09443394651302,
          0.3959258907949673
         ],
         "yaxis": "y"
        }
       ],
       "layout": {
        "coloraxis": {
         "colorbar": {
          "title": {
           "text": "color"
          }
         },
         "colorscale": [
          [
           0,
           "#0d0887"
          ],
          [
           0.1111111111111111,
           "#46039f"
          ],
          [
           0.2222222222222222,
           "#7201a8"
          ],
          [
           0.3333333333333333,
           "#9c179e"
          ],
          [
           0.4444444444444444,
           "#bd3786"
          ],
          [
           0.5555555555555556,
           "#d8576b"
          ],
          [
           0.6666666666666666,
           "#ed7953"
          ],
          [
           0.7777777777777778,
           "#fb9f3a"
          ],
          [
           0.8888888888888888,
           "#fdca26"
          ],
          [
           1,
           "#f0f921"
          ]
         ]
        },
        "legend": {
         "tracegroupgap": 0
        },
        "margin": {
         "t": 60
        },
        "template": {
         "data": {
          "bar": [
           {
            "error_x": {
             "color": "#2a3f5f"
            },
            "error_y": {
             "color": "#2a3f5f"
            },
            "marker": {
             "line": {
              "color": "#E5ECF6",
              "width": 0.5
             },
             "pattern": {
              "fillmode": "overlay",
              "size": 10,
              "solidity": 0.2
             }
            },
            "type": "bar"
           }
          ],
          "barpolar": [
           {
            "marker": {
             "line": {
              "color": "#E5ECF6",
              "width": 0.5
             },
             "pattern": {
              "fillmode": "overlay",
              "size": 10,
              "solidity": 0.2
             }
            },
            "type": "barpolar"
           }
          ],
          "carpet": [
           {
            "aaxis": {
             "endlinecolor": "#2a3f5f",
             "gridcolor": "white",
             "linecolor": "white",
             "minorgridcolor": "white",
             "startlinecolor": "#2a3f5f"
            },
            "baxis": {
             "endlinecolor": "#2a3f5f",
             "gridcolor": "white",
             "linecolor": "white",
             "minorgridcolor": "white",
             "startlinecolor": "#2a3f5f"
            },
            "type": "carpet"
           }
          ],
          "choropleth": [
           {
            "colorbar": {
             "outlinewidth": 0,
             "ticks": ""
            },
            "type": "choropleth"
           }
          ],
          "contour": [
           {
            "colorbar": {
             "outlinewidth": 0,
             "ticks": ""
            },
            "colorscale": [
             [
              0,
              "#0d0887"
             ],
             [
              0.1111111111111111,
              "#46039f"
             ],
             [
              0.2222222222222222,
              "#7201a8"
             ],
             [
              0.3333333333333333,
              "#9c179e"
             ],
             [
              0.4444444444444444,
              "#bd3786"
             ],
             [
              0.5555555555555556,
              "#d8576b"
             ],
             [
              0.6666666666666666,
              "#ed7953"
             ],
             [
              0.7777777777777778,
              "#fb9f3a"
             ],
             [
              0.8888888888888888,
              "#fdca26"
             ],
             [
              1,
              "#f0f921"
             ]
            ],
            "type": "contour"
           }
          ],
          "contourcarpet": [
           {
            "colorbar": {
             "outlinewidth": 0,
             "ticks": ""
            },
            "type": "contourcarpet"
           }
          ],
          "heatmap": [
           {
            "colorbar": {
             "outlinewidth": 0,
             "ticks": ""
            },
            "colorscale": [
             [
              0,
              "#0d0887"
             ],
             [
              0.1111111111111111,
              "#46039f"
             ],
             [
              0.2222222222222222,
              "#7201a8"
             ],
             [
              0.3333333333333333,
              "#9c179e"
             ],
             [
              0.4444444444444444,
              "#bd3786"
             ],
             [
              0.5555555555555556,
              "#d8576b"
             ],
             [
              0.6666666666666666,
              "#ed7953"
             ],
             [
              0.7777777777777778,
              "#fb9f3a"
             ],
             [
              0.8888888888888888,
              "#fdca26"
             ],
             [
              1,
              "#f0f921"
             ]
            ],
            "type": "heatmap"
           }
          ],
          "heatmapgl": [
           {
            "colorbar": {
             "outlinewidth": 0,
             "ticks": ""
            },
            "colorscale": [
             [
              0,
              "#0d0887"
             ],
             [
              0.1111111111111111,
              "#46039f"
             ],
             [
              0.2222222222222222,
              "#7201a8"
             ],
             [
              0.3333333333333333,
              "#9c179e"
             ],
             [
              0.4444444444444444,
              "#bd3786"
             ],
             [
              0.5555555555555556,
              "#d8576b"
             ],
             [
              0.6666666666666666,
              "#ed7953"
             ],
             [
              0.7777777777777778,
              "#fb9f3a"
             ],
             [
              0.8888888888888888,
              "#fdca26"
             ],
             [
              1,
              "#f0f921"
             ]
            ],
            "type": "heatmapgl"
           }
          ],
          "histogram": [
           {
            "marker": {
             "pattern": {
              "fillmode": "overlay",
              "size": 10,
              "solidity": 0.2
             }
            },
            "type": "histogram"
           }
          ],
          "histogram2d": [
           {
            "colorbar": {
             "outlinewidth": 0,
             "ticks": ""
            },
            "colorscale": [
             [
              0,
              "#0d0887"
             ],
             [
              0.1111111111111111,
              "#46039f"
             ],
             [
              0.2222222222222222,
              "#7201a8"
             ],
             [
              0.3333333333333333,
              "#9c179e"
             ],
             [
              0.4444444444444444,
              "#bd3786"
             ],
             [
              0.5555555555555556,
              "#d8576b"
             ],
             [
              0.6666666666666666,
              "#ed7953"
             ],
             [
              0.7777777777777778,
              "#fb9f3a"
             ],
             [
              0.8888888888888888,
              "#fdca26"
             ],
             [
              1,
              "#f0f921"
             ]
            ],
            "type": "histogram2d"
           }
          ],
          "histogram2dcontour": [
           {
            "colorbar": {
             "outlinewidth": 0,
             "ticks": ""
            },
            "colorscale": [
             [
              0,
              "#0d0887"
             ],
             [
              0.1111111111111111,
              "#46039f"
             ],
             [
              0.2222222222222222,
              "#7201a8"
             ],
             [
              0.3333333333333333,
              "#9c179e"
             ],
             [
              0.4444444444444444,
              "#bd3786"
             ],
             [
              0.5555555555555556,
              "#d8576b"
             ],
             [
              0.6666666666666666,
              "#ed7953"
             ],
             [
              0.7777777777777778,
              "#fb9f3a"
             ],
             [
              0.8888888888888888,
              "#fdca26"
             ],
             [
              1,
              "#f0f921"
             ]
            ],
            "type": "histogram2dcontour"
           }
          ],
          "mesh3d": [
           {
            "colorbar": {
             "outlinewidth": 0,
             "ticks": ""
            },
            "type": "mesh3d"
           }
          ],
          "parcoords": [
           {
            "line": {
             "colorbar": {
              "outlinewidth": 0,
              "ticks": ""
             }
            },
            "type": "parcoords"
           }
          ],
          "pie": [
           {
            "automargin": true,
            "type": "pie"
           }
          ],
          "scatter": [
           {
            "marker": {
             "colorbar": {
              "outlinewidth": 0,
              "ticks": ""
             }
            },
            "type": "scatter"
           }
          ],
          "scatter3d": [
           {
            "line": {
             "colorbar": {
              "outlinewidth": 0,
              "ticks": ""
             }
            },
            "marker": {
             "colorbar": {
              "outlinewidth": 0,
              "ticks": ""
             }
            },
            "type": "scatter3d"
           }
          ],
          "scattercarpet": [
           {
            "marker": {
             "colorbar": {
              "outlinewidth": 0,
              "ticks": ""
             }
            },
            "type": "scattercarpet"
           }
          ],
          "scattergeo": [
           {
            "marker": {
             "colorbar": {
              "outlinewidth": 0,
              "ticks": ""
             }
            },
            "type": "scattergeo"
           }
          ],
          "scattergl": [
           {
            "marker": {
             "colorbar": {
              "outlinewidth": 0,
              "ticks": ""
             }
            },
            "type": "scattergl"
           }
          ],
          "scattermapbox": [
           {
            "marker": {
             "colorbar": {
              "outlinewidth": 0,
              "ticks": ""
             }
            },
            "type": "scattermapbox"
           }
          ],
          "scatterpolar": [
           {
            "marker": {
             "colorbar": {
              "outlinewidth": 0,
              "ticks": ""
             }
            },
            "type": "scatterpolar"
           }
          ],
          "scatterpolargl": [
           {
            "marker": {
             "colorbar": {
              "outlinewidth": 0,
              "ticks": ""
             }
            },
            "type": "scatterpolargl"
           }
          ],
          "scatterternary": [
           {
            "marker": {
             "colorbar": {
              "outlinewidth": 0,
              "ticks": ""
             }
            },
            "type": "scatterternary"
           }
          ],
          "surface": [
           {
            "colorbar": {
             "outlinewidth": 0,
             "ticks": ""
            },
            "colorscale": [
             [
              0,
              "#0d0887"
             ],
             [
              0.1111111111111111,
              "#46039f"
             ],
             [
              0.2222222222222222,
              "#7201a8"
             ],
             [
              0.3333333333333333,
              "#9c179e"
             ],
             [
              0.4444444444444444,
              "#bd3786"
             ],
             [
              0.5555555555555556,
              "#d8576b"
             ],
             [
              0.6666666666666666,
              "#ed7953"
             ],
             [
              0.7777777777777778,
              "#fb9f3a"
             ],
             [
              0.8888888888888888,
              "#fdca26"
             ],
             [
              1,
              "#f0f921"
             ]
            ],
            "type": "surface"
           }
          ],
          "table": [
           {
            "cells": {
             "fill": {
              "color": "#EBF0F8"
             },
             "line": {
              "color": "white"
             }
            },
            "header": {
             "fill": {
              "color": "#C8D4E3"
             },
             "line": {
              "color": "white"
             }
            },
            "type": "table"
           }
          ]
         },
         "layout": {
          "annotationdefaults": {
           "arrowcolor": "#2a3f5f",
           "arrowhead": 0,
           "arrowwidth": 1
          },
          "autotypenumbers": "strict",
          "coloraxis": {
           "colorbar": {
            "outlinewidth": 0,
            "ticks": ""
           }
          },
          "colorscale": {
           "diverging": [
            [
             0,
             "#8e0152"
            ],
            [
             0.1,
             "#c51b7d"
            ],
            [
             0.2,
             "#de77ae"
            ],
            [
             0.3,
             "#f1b6da"
            ],
            [
             0.4,
             "#fde0ef"
            ],
            [
             0.5,
             "#f7f7f7"
            ],
            [
             0.6,
             "#e6f5d0"
            ],
            [
             0.7,
             "#b8e186"
            ],
            [
             0.8,
             "#7fbc41"
            ],
            [
             0.9,
             "#4d9221"
            ],
            [
             1,
             "#276419"
            ]
           ],
           "sequential": [
            [
             0,
             "#0d0887"
            ],
            [
             0.1111111111111111,
             "#46039f"
            ],
            [
             0.2222222222222222,
             "#7201a8"
            ],
            [
             0.3333333333333333,
             "#9c179e"
            ],
            [
             0.4444444444444444,
             "#bd3786"
            ],
            [
             0.5555555555555556,
             "#d8576b"
            ],
            [
             0.6666666666666666,
             "#ed7953"
            ],
            [
             0.7777777777777778,
             "#fb9f3a"
            ],
            [
             0.8888888888888888,
             "#fdca26"
            ],
            [
             1,
             "#f0f921"
            ]
           ],
           "sequentialminus": [
            [
             0,
             "#0d0887"
            ],
            [
             0.1111111111111111,
             "#46039f"
            ],
            [
             0.2222222222222222,
             "#7201a8"
            ],
            [
             0.3333333333333333,
             "#9c179e"
            ],
            [
             0.4444444444444444,
             "#bd3786"
            ],
            [
             0.5555555555555556,
             "#d8576b"
            ],
            [
             0.6666666666666666,
             "#ed7953"
            ],
            [
             0.7777777777777778,
             "#fb9f3a"
            ],
            [
             0.8888888888888888,
             "#fdca26"
            ],
            [
             1,
             "#f0f921"
            ]
           ]
          },
          "colorway": [
           "#636efa",
           "#EF553B",
           "#00cc96",
           "#ab63fa",
           "#FFA15A",
           "#19d3f3",
           "#FF6692",
           "#B6E880",
           "#FF97FF",
           "#FECB52"
          ],
          "font": {
           "color": "#2a3f5f"
          },
          "geo": {
           "bgcolor": "white",
           "lakecolor": "white",
           "landcolor": "#E5ECF6",
           "showlakes": true,
           "showland": true,
           "subunitcolor": "white"
          },
          "hoverlabel": {
           "align": "left"
          },
          "hovermode": "closest",
          "mapbox": {
           "style": "light"
          },
          "paper_bgcolor": "white",
          "plot_bgcolor": "#E5ECF6",
          "polar": {
           "angularaxis": {
            "gridcolor": "white",
            "linecolor": "white",
            "ticks": ""
           },
           "bgcolor": "#E5ECF6",
           "radialaxis": {
            "gridcolor": "white",
            "linecolor": "white",
            "ticks": ""
           }
          },
          "scene": {
           "xaxis": {
            "backgroundcolor": "#E5ECF6",
            "gridcolor": "white",
            "gridwidth": 2,
            "linecolor": "white",
            "showbackground": true,
            "ticks": "",
            "zerolinecolor": "white"
           },
           "yaxis": {
            "backgroundcolor": "#E5ECF6",
            "gridcolor": "white",
            "gridwidth": 2,
            "linecolor": "white",
            "showbackground": true,
            "ticks": "",
            "zerolinecolor": "white"
           },
           "zaxis": {
            "backgroundcolor": "#E5ECF6",
            "gridcolor": "white",
            "gridwidth": 2,
            "linecolor": "white",
            "showbackground": true,
            "ticks": "",
            "zerolinecolor": "white"
           }
          },
          "shapedefaults": {
           "line": {
            "color": "#2a3f5f"
           }
          },
          "ternary": {
           "aaxis": {
            "gridcolor": "white",
            "linecolor": "white",
            "ticks": ""
           },
           "baxis": {
            "gridcolor": "white",
            "linecolor": "white",
            "ticks": ""
           },
           "bgcolor": "#E5ECF6",
           "caxis": {
            "gridcolor": "white",
            "linecolor": "white",
            "ticks": ""
           }
          },
          "title": {
           "x": 0.05
          },
          "xaxis": {
           "automargin": true,
           "gridcolor": "white",
           "linecolor": "white",
           "ticks": "",
           "title": {
            "standoff": 15
           },
           "zerolinecolor": "white",
           "zerolinewidth": 2
          },
          "yaxis": {
           "automargin": true,
           "gridcolor": "white",
           "linecolor": "white",
           "ticks": "",
           "title": {
            "standoff": 15
           },
           "zerolinecolor": "white",
           "zerolinewidth": 2
          }
         }
        },
        "xaxis": {
         "anchor": "y",
         "domain": [
          0,
          1
         ],
         "title": {
          "text": "index"
         }
        },
        "yaxis": {
         "anchor": "x",
         "domain": [
          0,
          1
         ],
         "title": {
          "text": "value"
         }
        }
       }
      },
      "text/html": [
       "<div>                            <div id=\"3338e13f-e712-457f-9d54-0671b3c640f4\" class=\"plotly-graph-div\" style=\"height:525px; width:100%;\"></div>            <script type=\"text/javascript\">                require([\"plotly\"], function(Plotly) {                    window.PLOTLYENV=window.PLOTLYENV || {};                                    if (document.getElementById(\"3338e13f-e712-457f-9d54-0671b3c640f4\")) {                    Plotly.newPlot(                        \"3338e13f-e712-457f-9d54-0671b3c640f4\",                        [{\"hovertemplate\":\"index=%{x}<br>value=%{y}<br>color=%{marker.color}<extra></extra>\",\"legendgroup\":\"\",\"marker\":{\"color\":[-0.09160735689819785,-0.9961585868108577,0.6519644168435648,-0.6282055441345215,2.1544393411052707,0.00804659215997659,-0.8505105074181413,-0.32157800857090796,-0.6128741673563408,0.8206095614035522,1.3802048138071472,-1.1264752894253933,2.269424666941626,-0.436563334407263,2.131442275938,-0.9654958332544963,-1.2414606152617484,-0.7431908699708766,-0.35990645051635967,0.2533486206108673,-0.9041703261417736,-0.037947538174565545,-0.8735075725854122,-0.037947538174565545,2.269424666941626,0.6979585471781069,-1.2874547455962906,-0.4595603995745341,-0.04561322656365572,0.8436066265708233,-0.7738536235272379,0.0003809037708861435,-0.9884928984217672,-0.9654958332544963,-0.35990645051635967,-0.8735075725854122,-0.9041703261417736,-0.7891850003054185,0.9892547059635398,-1.1724694197599355,1.0045860827417203,-0.7508565583599668,-1.0421527171453997,-0.9041703261417736,1.3035479299162438,-0.8045163770835992,-1.095812535869032,-0.20659268273455292,0.6366330400653842,-1.3257831875417423,0.09236916443997013,0.7362869891235586,0.5599761561744808,-0.7431908699708766,1.3035479299162438,-0.8735075725854122,0.3989967000035836,0.13069760638542183,-0.9424987680872253,-0.8505105074181413,-0.07627598012001723,1.878474559098019,-0.9041703261417736,0.8436066265708233,-0.6205398557454311,1.9627971313780124,-0.842844819029051,2.261758978552536,0.6902928587890165,-0.8045163770835992,0.8052781846253716,-0.7968506886945088,2.031788326879826,-0.5362172834654375,0.8819350685162749,-0.9654958332544963,-0.842844819029051,-0.8658418841963219,-0.5592143486327084,0.8819350685162749,0.13069760638542183,1.6791666609816702,-0.934833079698135,0.8206095614035522,-0.6205398557454311,0.04637503410542828,-0.9271673913090447,-0.5592143486327084,-0.8351791306399605,-0.8351791306399605,-0.8045163770835992,0.23035155544359626,-0.842844819029051,-0.5362172834654375,1.1962282924689787,-0.19126130595637228,-1.1724694197599355,1.3035479299162438,1.3265449950835146,-1.1188096010363031,1.019917459519901,-0.2985809434036369,-0.9118360145308639,-0.6205398557454311,2.3000874204979875,-0.9961585868108577,-0.275583878236366,-0.9195017029199544,-0.436563334407263,1.2958822415271534,0.3683339464472224,-0.5362172834654375,-0.551548660243618,-0.9041703261417736,-0.551548660243618,1.0735772782435336,-0.17592992917819153,0.9355948872399072,-0.8811732609745027,0.7439526775126488,-0.32157800857090796,-0.551548660243618,-0.4978888415199858,-0.5438829718545278,-0.13760148723274,2.108445210770729,1.2268910460253404,1.502855828032592,-1.026821340367219,-0.9424987680872253,0.8282752497926427,2.3230844856652584,0.7592840542908297,-0.6818653628581538,-0.7048624280254249,1.5565156467562247,-0.14526717562183017,-0.9961585868108577,-0.1682642407891012,1.019917459519901,0.1843574251090544,-0.6205398557454311,-0.5898771021890697,-0.09160735689819785,2.1697707178834515,1.3495420602507853,-0.5822114137999794,-0.5362172834654375,0.5599761561744808,-1.0344870287563095,-0.7968506886945088,-0.7355251815817863,0.7746154310690103,2.0547853920470964,1.863143182319838,-0.9654958332544963,-0.3369093853490886,-0.8581761958072316,0.7822811194581005,-0.7661879351381476,-0.13760148723274,-0.09160735689819785,-0.9961585868108577,0.6519644168435648,-0.6282055441345215,2.1544393411052707,0.00804659215997659,-0.8505105074181413,-0.32157800857090796,-0.6128741673563408,0.8206095614035522,1.3802048138071472,-1.1264752894253933,2.269424666941626,-0.436563334407263,2.131442275938,-0.9654958332544963,-1.2414606152617484,-0.7431908699708766,-0.35990645051635967,0.2533486206108673,-0.9041703261417736,-0.037947538174565545,-0.8735075725854122,-0.037947538174565545,2.269424666941626,0.6979585471781069,-1.2874547455962906,-0.4595603995745341,-0.04561322656365572,0.8436066265708233,-0.7738536235272379,0.0003809037708861435,-0.9884928984217672,-0.9654958332544963,-0.35990645051635967,-0.8735075725854122,-0.9041703261417736,-0.7891850003054185,0.9892547059635398,-1.1724694197599355,1.0045860827417203,-0.7508565583599668,-1.0421527171453997,-0.9041703261417736,1.3035479299162438,-0.8045163770835992,-1.095812535869032,-0.20659268273455292,0.6366330400653842,-1.3257831875417423,0.09236916443997013,0.7362869891235586,0.5599761561744808,-0.7431908699708766,1.3035479299162438,-0.8735075725854122,0.3989967000035836,0.13069760638542183,-0.9424987680872253,-0.8505105074181413,-0.07627598012001723,1.878474559098019,-0.9041703261417736,0.8436066265708233,-0.6205398557454311,1.9627971313780124,-0.842844819029051,2.261758978552536,0.6902928587890165,-0.8045163770835992,0.8052781846253716,-0.7968506886945088,2.031788326879826,-0.5362172834654375,0.8819350685162749,-0.9654958332544963,-0.842844819029051,-0.8658418841963219,-0.5592143486327084,0.8819350685162749,0.13069760638542183,1.6791666609816702,-0.934833079698135,0.8206095614035522,-0.6205398557454311,0.04637503410542828,-0.9271673913090447,-0.5592143486327084,-0.8351791306399605,-0.8351791306399605,-0.8045163770835992,0.23035155544359626,-0.842844819029051,-0.5362172834654375,1.1962282924689787,-0.19126130595637228,-1.1724694197599355,1.3035479299162438,1.3265449950835146,-1.1188096010363031,1.019917459519901,-0.2985809434036369,-0.9118360145308639,-0.6205398557454311,2.3000874204979875,-0.9961585868108577,-0.275583878236366,-0.9195017029199544,-0.436563334407263,1.2958822415271534,0.3683339464472224,-0.5362172834654375,-0.551548660243618,-0.9041703261417736,-0.551548660243618,1.0735772782435336,-0.17592992917819153,0.9355948872399072,-0.8811732609745027,0.7439526775126488,-0.32157800857090796,-0.551548660243618,-0.4978888415199858,-0.5438829718545278,-0.13760148723274,2.108445210770729,1.2268910460253404,1.502855828032592,-1.026821340367219,-0.9424987680872253,0.8282752497926427,2.3230844856652584,0.7592840542908297,-0.6818653628581538,-0.7048624280254249,1.5565156467562247,-0.14526717562183017,-0.9961585868108577,-0.1682642407891012,1.019917459519901,0.1843574251090544,-0.6205398557454311,-0.5898771021890697,-0.09160735689819785,2.1697707178834515,1.3495420602507853,-0.5822114137999794,-0.5362172834654375,0.5599761561744808,-1.0344870287563095,-0.7968506886945088,-0.7355251815817863,0.7746154310690103,2.0547853920470964,1.863143182319838,-0.9654958332544963,-0.3369093853490886,-0.8581761958072316,0.7822811194581005,-0.7661879351381476,-0.13760148723274],\"coloraxis\":\"coloraxis\",\"symbol\":\"circle\"},\"mode\":\"markers\",\"name\":\"\",\"orientation\":\"v\",\"showlegend\":false,\"x\":[0,1,2,3,4,5,6,7,8,9,10,11,12,13,14,15,16,17,18,19,20,21,22,23,24,25,26,27,28,29,30,31,32,33,34,35,36,37,38,39,40,41,42,43,44,45,46,47,48,49,50,51,52,53,54,55,56,57,58,59,60,61,62,63,64,65,66,67,68,69,70,71,72,73,74,75,76,77,78,79,80,81,82,83,84,85,86,87,88,89,90,91,92,93,94,95,96,97,98,99,100,101,102,103,104,105,106,107,108,109,110,111,112,113,114,115,116,117,118,119,120,121,122,123,124,125,126,127,128,129,130,131,132,133,134,135,136,137,138,139,140,141,142,143,144,145,146,147,148,149,150,151,152,153,154,155,156,157,158,159,160,0,1,2,3,4,5,6,7,8,9,10,11,12,13,14,15,16,17,18,19,20,21,22,23,24,25,26,27,28,29,30,31,32,33,34,35,36,37,38,39,40,41,42,43,44,45,46,47,48,49,50,51,52,53,54,55,56,57,58,59,60,61,62,63,64,65,66,67,68,69,70,71,72,73,74,75,76,77,78,79,80,81,82,83,84,85,86,87,88,89,90,91,92,93,94,95,96,97,98,99,100,101,102,103,104,105,106,107,108,109,110,111,112,113,114,115,116,117,118,119,120,121,122,123,124,125,126,127,128,129,130,131,132,133,134,135,136,137,138,139,140,141,142,143,144,145,146,147,148,149,150,151,152,153,154,155,156,157,158,159,160],\"xaxis\":\"x\",\"y\":[21.89055804988055,-9.354004737895542,7.346153403312686,18.718086745265133,5.142379395355757,2.98425842275437,-13.789975578528056,4.6489293726499215,12.854935002609759,-8.672754187343452,-2.7884853081038306,4.496115437333914,4.436730735098941,0.4453651979967826,5.672590157553347,-8.312071478046995,-13.788667628963475,0.905831538748372,-6.150327809954012,-2.5356721767700905,-13.219000469655128,-6.554756710411569,-6.830893345940105,-13.373031554452904,4.436730735098942,-8.00815479942131,-16.912484763804606,-10.877714155372098,30.039024165669296,-7.91017748187851,-11.573927506144685,-2.421217801975149,-9.556805849313054,-5.71914106697161,-9.13384712391691,-8.780356211903985,-12.146980481312058,-9.19434442982177,9.810907921897773,1.8405287061700335,7.99954141456034,-11.994886028951708,-7.000326476196148,-12.146980481312054,7.599244096680397,0.9940475071268612,-6.539610440026343,5.799472270311276,21.06525259591847,-14.932337649578578,2.0638346998450388,-1.7971345302184323,1.0005604532116301,0.9058315387483724,0.4315061998447913,-5.8441264514375755,-1.5966022082643725,11.80340345558182,-1.7544741104923967,-4.708510104424638,-5.134986116798378,5.695981686071181,-13.219000469655136,-6.845043803674339,8.864263407054837,2.6320974550800345,-4.9358910470035084,1.0699299468251575,-2.8274689577125027,-12.789618058379082,-3.5366676772520824,-2.6356114242615147,4.49147108858632,-6.350317731207454,-1.418681467199663,-7.079119639931488,-6.030459332877731,-10.392651454125502,-0.7026456628281658,-1.4186814671996633,14.884895947362265,1.0829182139668134,-2.015736295348821,-7.751294456501813,7.768194153809137,3.5441846917010587,10.127773818980383,-0.4421543531272829,-7.86844407403149,-7.951368635621602,-12.577662424407954,18.051453726017925,-14.041816173175764,-9.281877519437183,-4.664402253505666,-1.614207505989747,1.8405287061700342,7.599244096680395,-4.8467750027875285,-14.178577652430178,13.635628920125628,-1.6622129702814012,-1.7436657102384758,13.682085524192118,28.09809956465547,-11.912114119519506,-13.830157004675232,-5.518530303296398,-4.753588520131831,16.78777307064773,1.0868190033453131,15.752872227897145,7.038213182050598,2.25813594905549,-13.122796989701687,3.1548205409315617,9.085807741771113,15.004925641790608,-1.4381940226136731,13.289889987610376,-4.74297255312979,3.048321281169964,12.682551408297405,20.46533989511831,-0.1354529839000178,1.0063945094821327,4.7447794776472705,-1.1532883119132193,-11.727108219608533,-2.741266824560671,7.993199649839406,35.72463636496109,-6.954963170775373,-13.981254336630942,-7.909931284527077,12.428612264030674,-1.698710314713963,-9.354004737895549,12.480618762279034,13.635628920125628,-9.375292919497968,15.316987831352243,9.771118580087478,21.890558049880575,-2.8650683331617226,16.999021905187117,-5.5187194459432884,-9.281877519437183,1.085928305481412,-4.794854937262782,3.5619860579577707,-0.6002094863458673,12.391984373854582,0.4821858745155564,-2.8394211078801685,-5.719141066971611,-10.656920937590494,0.30591401940066365,-2.128765047243017,-0.0036403076975392618,-1.2405297598522464,-2.5684452870664973,-1.7396535837210754,1.0666238713777079,0.4139716047377918,1.0108236397102954,0.1458003903540502,1.1274127006847692,-0.17010254028332045,0.28443100968737395,0.27902421360494184,0.1279006314878973,-0.15685981883803773,0.8129297275013969,0.5920205139916778,-0.295475214276049,-0.21116817946614114,1.0089071531810314,-0.4540151195691554,1.3039276725790245,1.1157750085926708,0.4647751382857596,1.0758673725743553,0.002867283335330882,0.7392118745064616,0.8129297275013961,0.25519764205215933,0.8317839206506155,1.151638115110901,-0.10973731286197257,0.1378069039852527,0.16443984051193292,0.5374674744546931,-1.4791049132002172,-0.8717113332020405,1.279741738590967,-1.5338434868977842,0.36672213445121793,0.28695091479536755,0.9053961557959769,-0.351145593812499,-0.3007284254901271,-1.361837407727486,-1.6002878673146401,0.3667221344512175,0.03894631975059863,-1.2947822121633674,-1.5589509585101238,-0.2904624757470675,4.331202395930771,0.8371542568513054,0.16454363201289796,1.0535447595036804,0.8446269257813352,-0.45401511956915575,-0.3845397747658994,-0.0831697785521505,0.8198007085178325,0.4440861741712495,-1.2105699557249459,0.3005478639207731,-1.4843177763846367,0.031216261374268462,0.464775138285759,0.3176695451029177,-0.4254662722177115,-0.6168761945143023,-1.1152508354252257,-0.4993490168883159,-0.5843948985965042,0.3169088720396292,0.9653180677789782,-1.3864686939743285,0.9615896831535004,0.8408992124698355,-0.15931811164188509,-0.9228693786364269,-0.6806812717295163,0.5461929029721797,0.5007167578935462,-0.1593181116418851,0.3302246062066167,-0.2659489809284467,-0.7528998084009213,0.42701751434009666,-0.4856594316215941,-0.3746297502228754,-0.2622082892650815,-0.8103720088787627,-0.8008442129643336,-0.47991375785825247,0.2950355249025524,-1.2256540048575715,-0.22438522473013292,0.3255491991691095,0.2517454423504176,0.8723586841760644,-0.35114559381249955,0.038946319750598465,0.22899601269555667,-0.8207923667795717,0.6909619992835693,0.17530305635144025,-2.8861872107123676,0.02863110441885858,0.015594992947413323,-0.8490690409010743,0.09986155224022933,-0.7485796897608378,0.17341265905372355,0.512214550231289,-0.7012204086057641,0.15928876342099835,-1.541899834661138,-0.019090784950760133,0.6725303095718741,0.5571600734237128,0.480186878392079,-0.9262176889087942,-1.520776054291906,1.3424675929710324,0.6613861476943929,-0.9778077006078361,-0.1905673492281543,0.397636307630493,0.7110563563987775,0.9789150756051355,0.9474979464913196,0.8097769922664927,0.8150487473496631,-1.75011607468691,0.6335406587281933,0.1268518939732749,0.4461629215355995,0.768067264605908,0.4970617786105147,1.2717604088139822,-0.817887873770729,-1.739653583721077,-0.3163962306690754,0.6909619992835693,0.4168848616062691,0.1560185632211781,-0.7067548609855896,-2.5684452870665018,0.11738001244461774,-0.028436347335868358,0.36467539383135505,0.3255491991691095,1.2373198697019983,-0.0037450904849239334,-0.7818371870158788,-0.7064689881757679,0.23426492769442303,0.0028929815760076016,-0.0627593527607732,-0.8717113332020403,0.32708861260716277,0.7171211017333975,1.0022935344269908,-1.09443394651302,0.3959258907949673],\"yaxis\":\"y\",\"type\":\"scatter\"}],                        {\"template\":{\"data\":{\"bar\":[{\"error_x\":{\"color\":\"#2a3f5f\"},\"error_y\":{\"color\":\"#2a3f5f\"},\"marker\":{\"line\":{\"color\":\"#E5ECF6\",\"width\":0.5},\"pattern\":{\"fillmode\":\"overlay\",\"size\":10,\"solidity\":0.2}},\"type\":\"bar\"}],\"barpolar\":[{\"marker\":{\"line\":{\"color\":\"#E5ECF6\",\"width\":0.5},\"pattern\":{\"fillmode\":\"overlay\",\"size\":10,\"solidity\":0.2}},\"type\":\"barpolar\"}],\"carpet\":[{\"aaxis\":{\"endlinecolor\":\"#2a3f5f\",\"gridcolor\":\"white\",\"linecolor\":\"white\",\"minorgridcolor\":\"white\",\"startlinecolor\":\"#2a3f5f\"},\"baxis\":{\"endlinecolor\":\"#2a3f5f\",\"gridcolor\":\"white\",\"linecolor\":\"white\",\"minorgridcolor\":\"white\",\"startlinecolor\":\"#2a3f5f\"},\"type\":\"carpet\"}],\"choropleth\":[{\"colorbar\":{\"outlinewidth\":0,\"ticks\":\"\"},\"type\":\"choropleth\"}],\"contour\":[{\"colorbar\":{\"outlinewidth\":0,\"ticks\":\"\"},\"colorscale\":[[0.0,\"#0d0887\"],[0.1111111111111111,\"#46039f\"],[0.2222222222222222,\"#7201a8\"],[0.3333333333333333,\"#9c179e\"],[0.4444444444444444,\"#bd3786\"],[0.5555555555555556,\"#d8576b\"],[0.6666666666666666,\"#ed7953\"],[0.7777777777777778,\"#fb9f3a\"],[0.8888888888888888,\"#fdca26\"],[1.0,\"#f0f921\"]],\"type\":\"contour\"}],\"contourcarpet\":[{\"colorbar\":{\"outlinewidth\":0,\"ticks\":\"\"},\"type\":\"contourcarpet\"}],\"heatmap\":[{\"colorbar\":{\"outlinewidth\":0,\"ticks\":\"\"},\"colorscale\":[[0.0,\"#0d0887\"],[0.1111111111111111,\"#46039f\"],[0.2222222222222222,\"#7201a8\"],[0.3333333333333333,\"#9c179e\"],[0.4444444444444444,\"#bd3786\"],[0.5555555555555556,\"#d8576b\"],[0.6666666666666666,\"#ed7953\"],[0.7777777777777778,\"#fb9f3a\"],[0.8888888888888888,\"#fdca26\"],[1.0,\"#f0f921\"]],\"type\":\"heatmap\"}],\"heatmapgl\":[{\"colorbar\":{\"outlinewidth\":0,\"ticks\":\"\"},\"colorscale\":[[0.0,\"#0d0887\"],[0.1111111111111111,\"#46039f\"],[0.2222222222222222,\"#7201a8\"],[0.3333333333333333,\"#9c179e\"],[0.4444444444444444,\"#bd3786\"],[0.5555555555555556,\"#d8576b\"],[0.6666666666666666,\"#ed7953\"],[0.7777777777777778,\"#fb9f3a\"],[0.8888888888888888,\"#fdca26\"],[1.0,\"#f0f921\"]],\"type\":\"heatmapgl\"}],\"histogram\":[{\"marker\":{\"pattern\":{\"fillmode\":\"overlay\",\"size\":10,\"solidity\":0.2}},\"type\":\"histogram\"}],\"histogram2d\":[{\"colorbar\":{\"outlinewidth\":0,\"ticks\":\"\"},\"colorscale\":[[0.0,\"#0d0887\"],[0.1111111111111111,\"#46039f\"],[0.2222222222222222,\"#7201a8\"],[0.3333333333333333,\"#9c179e\"],[0.4444444444444444,\"#bd3786\"],[0.5555555555555556,\"#d8576b\"],[0.6666666666666666,\"#ed7953\"],[0.7777777777777778,\"#fb9f3a\"],[0.8888888888888888,\"#fdca26\"],[1.0,\"#f0f921\"]],\"type\":\"histogram2d\"}],\"histogram2dcontour\":[{\"colorbar\":{\"outlinewidth\":0,\"ticks\":\"\"},\"colorscale\":[[0.0,\"#0d0887\"],[0.1111111111111111,\"#46039f\"],[0.2222222222222222,\"#7201a8\"],[0.3333333333333333,\"#9c179e\"],[0.4444444444444444,\"#bd3786\"],[0.5555555555555556,\"#d8576b\"],[0.6666666666666666,\"#ed7953\"],[0.7777777777777778,\"#fb9f3a\"],[0.8888888888888888,\"#fdca26\"],[1.0,\"#f0f921\"]],\"type\":\"histogram2dcontour\"}],\"mesh3d\":[{\"colorbar\":{\"outlinewidth\":0,\"ticks\":\"\"},\"type\":\"mesh3d\"}],\"parcoords\":[{\"line\":{\"colorbar\":{\"outlinewidth\":0,\"ticks\":\"\"}},\"type\":\"parcoords\"}],\"pie\":[{\"automargin\":true,\"type\":\"pie\"}],\"scatter\":[{\"marker\":{\"colorbar\":{\"outlinewidth\":0,\"ticks\":\"\"}},\"type\":\"scatter\"}],\"scatter3d\":[{\"line\":{\"colorbar\":{\"outlinewidth\":0,\"ticks\":\"\"}},\"marker\":{\"colorbar\":{\"outlinewidth\":0,\"ticks\":\"\"}},\"type\":\"scatter3d\"}],\"scattercarpet\":[{\"marker\":{\"colorbar\":{\"outlinewidth\":0,\"ticks\":\"\"}},\"type\":\"scattercarpet\"}],\"scattergeo\":[{\"marker\":{\"colorbar\":{\"outlinewidth\":0,\"ticks\":\"\"}},\"type\":\"scattergeo\"}],\"scattergl\":[{\"marker\":{\"colorbar\":{\"outlinewidth\":0,\"ticks\":\"\"}},\"type\":\"scattergl\"}],\"scattermapbox\":[{\"marker\":{\"colorbar\":{\"outlinewidth\":0,\"ticks\":\"\"}},\"type\":\"scattermapbox\"}],\"scatterpolar\":[{\"marker\":{\"colorbar\":{\"outlinewidth\":0,\"ticks\":\"\"}},\"type\":\"scatterpolar\"}],\"scatterpolargl\":[{\"marker\":{\"colorbar\":{\"outlinewidth\":0,\"ticks\":\"\"}},\"type\":\"scatterpolargl\"}],\"scatterternary\":[{\"marker\":{\"colorbar\":{\"outlinewidth\":0,\"ticks\":\"\"}},\"type\":\"scatterternary\"}],\"surface\":[{\"colorbar\":{\"outlinewidth\":0,\"ticks\":\"\"},\"colorscale\":[[0.0,\"#0d0887\"],[0.1111111111111111,\"#46039f\"],[0.2222222222222222,\"#7201a8\"],[0.3333333333333333,\"#9c179e\"],[0.4444444444444444,\"#bd3786\"],[0.5555555555555556,\"#d8576b\"],[0.6666666666666666,\"#ed7953\"],[0.7777777777777778,\"#fb9f3a\"],[0.8888888888888888,\"#fdca26\"],[1.0,\"#f0f921\"]],\"type\":\"surface\"}],\"table\":[{\"cells\":{\"fill\":{\"color\":\"#EBF0F8\"},\"line\":{\"color\":\"white\"}},\"header\":{\"fill\":{\"color\":\"#C8D4E3\"},\"line\":{\"color\":\"white\"}},\"type\":\"table\"}]},\"layout\":{\"annotationdefaults\":{\"arrowcolor\":\"#2a3f5f\",\"arrowhead\":0,\"arrowwidth\":1},\"autotypenumbers\":\"strict\",\"coloraxis\":{\"colorbar\":{\"outlinewidth\":0,\"ticks\":\"\"}},\"colorscale\":{\"diverging\":[[0,\"#8e0152\"],[0.1,\"#c51b7d\"],[0.2,\"#de77ae\"],[0.3,\"#f1b6da\"],[0.4,\"#fde0ef\"],[0.5,\"#f7f7f7\"],[0.6,\"#e6f5d0\"],[0.7,\"#b8e186\"],[0.8,\"#7fbc41\"],[0.9,\"#4d9221\"],[1,\"#276419\"]],\"sequential\":[[0.0,\"#0d0887\"],[0.1111111111111111,\"#46039f\"],[0.2222222222222222,\"#7201a8\"],[0.3333333333333333,\"#9c179e\"],[0.4444444444444444,\"#bd3786\"],[0.5555555555555556,\"#d8576b\"],[0.6666666666666666,\"#ed7953\"],[0.7777777777777778,\"#fb9f3a\"],[0.8888888888888888,\"#fdca26\"],[1.0,\"#f0f921\"]],\"sequentialminus\":[[0.0,\"#0d0887\"],[0.1111111111111111,\"#46039f\"],[0.2222222222222222,\"#7201a8\"],[0.3333333333333333,\"#9c179e\"],[0.4444444444444444,\"#bd3786\"],[0.5555555555555556,\"#d8576b\"],[0.6666666666666666,\"#ed7953\"],[0.7777777777777778,\"#fb9f3a\"],[0.8888888888888888,\"#fdca26\"],[1.0,\"#f0f921\"]]},\"colorway\":[\"#636efa\",\"#EF553B\",\"#00cc96\",\"#ab63fa\",\"#FFA15A\",\"#19d3f3\",\"#FF6692\",\"#B6E880\",\"#FF97FF\",\"#FECB52\"],\"font\":{\"color\":\"#2a3f5f\"},\"geo\":{\"bgcolor\":\"white\",\"lakecolor\":\"white\",\"landcolor\":\"#E5ECF6\",\"showlakes\":true,\"showland\":true,\"subunitcolor\":\"white\"},\"hoverlabel\":{\"align\":\"left\"},\"hovermode\":\"closest\",\"mapbox\":{\"style\":\"light\"},\"paper_bgcolor\":\"white\",\"plot_bgcolor\":\"#E5ECF6\",\"polar\":{\"angularaxis\":{\"gridcolor\":\"white\",\"linecolor\":\"white\",\"ticks\":\"\"},\"bgcolor\":\"#E5ECF6\",\"radialaxis\":{\"gridcolor\":\"white\",\"linecolor\":\"white\",\"ticks\":\"\"}},\"scene\":{\"xaxis\":{\"backgroundcolor\":\"#E5ECF6\",\"gridcolor\":\"white\",\"gridwidth\":2,\"linecolor\":\"white\",\"showbackground\":true,\"ticks\":\"\",\"zerolinecolor\":\"white\"},\"yaxis\":{\"backgroundcolor\":\"#E5ECF6\",\"gridcolor\":\"white\",\"gridwidth\":2,\"linecolor\":\"white\",\"showbackground\":true,\"ticks\":\"\",\"zerolinecolor\":\"white\"},\"zaxis\":{\"backgroundcolor\":\"#E5ECF6\",\"gridcolor\":\"white\",\"gridwidth\":2,\"linecolor\":\"white\",\"showbackground\":true,\"ticks\":\"\",\"zerolinecolor\":\"white\"}},\"shapedefaults\":{\"line\":{\"color\":\"#2a3f5f\"}},\"ternary\":{\"aaxis\":{\"gridcolor\":\"white\",\"linecolor\":\"white\",\"ticks\":\"\"},\"baxis\":{\"gridcolor\":\"white\",\"linecolor\":\"white\",\"ticks\":\"\"},\"bgcolor\":\"#E5ECF6\",\"caxis\":{\"gridcolor\":\"white\",\"linecolor\":\"white\",\"ticks\":\"\"}},\"title\":{\"x\":0.05},\"xaxis\":{\"automargin\":true,\"gridcolor\":\"white\",\"linecolor\":\"white\",\"ticks\":\"\",\"title\":{\"standoff\":15},\"zerolinecolor\":\"white\",\"zerolinewidth\":2},\"yaxis\":{\"automargin\":true,\"gridcolor\":\"white\",\"linecolor\":\"white\",\"ticks\":\"\",\"title\":{\"standoff\":15},\"zerolinecolor\":\"white\",\"zerolinewidth\":2}}},\"xaxis\":{\"anchor\":\"y\",\"domain\":[0.0,1.0],\"title\":{\"text\":\"index\"}},\"yaxis\":{\"anchor\":\"x\",\"domain\":[0.0,1.0],\"title\":{\"text\":\"value\"}},\"coloraxis\":{\"colorbar\":{\"title\":{\"text\":\"color\"}},\"colorscale\":[[0.0,\"#0d0887\"],[0.1111111111111111,\"#46039f\"],[0.2222222222222222,\"#7201a8\"],[0.3333333333333333,\"#9c179e\"],[0.4444444444444444,\"#bd3786\"],[0.5555555555555556,\"#d8576b\"],[0.6666666666666666,\"#ed7953\"],[0.7777777777777778,\"#fb9f3a\"],[0.8888888888888888,\"#fdca26\"],[1.0,\"#f0f921\"]]},\"legend\":{\"tracegroupgap\":0},\"margin\":{\"t\":60}},                        {\"responsive\": true}                    ).then(function(){\n",
       "                            \n",
       "var gd = document.getElementById('3338e13f-e712-457f-9d54-0671b3c640f4');\n",
       "var x = new MutationObserver(function (mutations, observer) {{\n",
       "        var display = window.getComputedStyle(gd).display;\n",
       "        if (!display || display === 'none') {{\n",
       "            console.log([gd, 'removed!']);\n",
       "            Plotly.purge(gd);\n",
       "            observer.disconnect();\n",
       "        }}\n",
       "}});\n",
       "\n",
       "// Listen for the removal of the full notebook cells\n",
       "var notebookContainer = gd.closest('#notebook-container');\n",
       "if (notebookContainer) {{\n",
       "    x.observe(notebookContainer, {childList: true});\n",
       "}}\n",
       "\n",
       "// Listen for the clearing of the current output cell\n",
       "var outputEl = gd.closest('.output');\n",
       "if (outputEl) {{\n",
       "    x.observe(outputEl, {childList: true});\n",
       "}}\n",
       "\n",
       "                        })                };                });            </script>        </div>"
      ]
     },
     "metadata": {},
     "output_type": "display_data"
    },
    {
     "name": "stdout",
     "output_type": "stream",
     "text": [
      "[99.40888746  0.82198015]\n"
     ]
    }
   ],
   "source": [
    "pca = PCA(n_components=2)\n",
    "components = pca.fit_transform(X_train) # To keep only the 2 features selected\n",
    "\n",
    "fig = px.scatter(components, color = Y_train.flatten())\n",
    "fig.show()\n",
    "### INTERPRETATION !!! ###\n",
    "\n",
    "print(pca.explained_variance_)"
   ]
  },
  {
   "cell_type": "code",
   "execution_count": 103,
   "id": "f5c900fa",
   "metadata": {},
   "outputs": [
    {
     "data": {
      "text/html": [
       "<div>\n",
       "<style scoped>\n",
       "    .dataframe tbody tr th:only-of-type {\n",
       "        vertical-align: middle;\n",
       "    }\n",
       "\n",
       "    .dataframe tbody tr th {\n",
       "        vertical-align: top;\n",
       "    }\n",
       "\n",
       "    .dataframe thead th {\n",
       "        text-align: right;\n",
       "    }\n",
       "</style>\n",
       "<table border=\"1\" class=\"dataframe\">\n",
       "  <thead>\n",
       "    <tr style=\"text-align: right;\">\n",
       "      <th></th>\n",
       "      <th>Regular OLS</th>\n",
       "      <th>Forward variable selection</th>\n",
       "      <th>Sequential variable selection</th>\n",
       "      <th>Ridge</th>\n",
       "      <th>Lasso</th>\n",
       "      <th>PCA before OLS</th>\n",
       "    </tr>\n",
       "  </thead>\n",
       "  <tbody>\n",
       "    <tr>\n",
       "      <th>0</th>\n",
       "      <td>0.960055</td>\n",
       "      <td>0.95518</td>\n",
       "      <td>0.95518</td>\n",
       "      <td>0.968269</td>\n",
       "      <td>0.903604</td>\n",
       "      <td>0.960408</td>\n",
       "    </tr>\n",
       "  </tbody>\n",
       "</table>\n",
       "</div>"
      ],
      "text/plain": [
       "   Regular OLS  Forward variable selection  Sequential variable selection  \\\n",
       "0     0.960055                     0.95518                        0.95518   \n",
       "\n",
       "      Ridge     Lasso  PCA before OLS  \n",
       "0  0.968269  0.903604        0.960408  "
      ]
     },
     "execution_count": 103,
     "metadata": {},
     "output_type": "execute_result"
    }
   ],
   "source": [
    "# PCA before OLS\n",
    "\n",
    "nb_components = np.arange(2, p)\n",
    "scores = []\n",
    "\n",
    "for k in nb_components :\n",
    "    pca_k = PCA(n_components=k)\n",
    "    X_pca = pca_k.fit_transform(X_train) \n",
    "    X_pca_test = pca_k.transform(X_test) # Applying the dimensionality reduction to the test set\n",
    "    ols_after_pca = LinearRegression(fit_intercept=False)\n",
    "    ols_after_pca.fit(X_pca, Y_train)\n",
    "    score = ols_after_pca.score(X_pca_test, Y_test)\n",
    "    scores.append(score)\n",
    "\n",
    "df_coef[\"PCA before OLS\"] = max(scores)\n",
    "df_coef"
   ]
  },
  {
   "cell_type": "code",
   "execution_count": null,
   "id": "e979d617",
   "metadata": {},
   "outputs": [],
   "source": []
  }
 ],
 "metadata": {
  "kernelspec": {
   "display_name": "Python 3 (ipykernel)",
   "language": "python",
   "name": "python3"
  },
  "language_info": {
   "codemirror_mode": {
    "name": "ipython",
    "version": 3
   },
   "file_extension": ".py",
   "mimetype": "text/x-python",
   "name": "python",
   "nbconvert_exporter": "python",
   "pygments_lexer": "ipython3",
   "version": "3.9.12"
  }
 },
 "nbformat": 4,
 "nbformat_minor": 5
}
