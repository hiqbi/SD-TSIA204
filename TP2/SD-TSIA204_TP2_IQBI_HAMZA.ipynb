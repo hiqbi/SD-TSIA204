{
 "cells": [
  {
   "cell_type": "markdown",
   "id": "c845bdd4",
   "metadata": {},
   "source": [
    "# SD-TSIA204 Lab 2 : Linear Regression\n",
    "\n",
    "*IQBI Hamza*"
   ]
  },
  {
   "cell_type": "code",
   "execution_count": 1,
   "id": "f8987000",
   "metadata": {},
   "outputs": [],
   "source": [
    "fn1 = \"hamza\"\n",
    "ln1 = \"iqbi\"\n",
    "filename = \"_\".join(map(lambda s: s.strip().lower(),\n",
    "[\"SD-TSIA204_lab2\", ln1, fn1])) + \".ipynb\""
   ]
  },
  {
   "cell_type": "code",
   "execution_count": 2,
   "id": "048debf6",
   "metadata": {},
   "outputs": [],
   "source": [
    "import numpy as np\n",
    "import matplotlib.pyplot as plt\n",
    "from os import path\n",
    "import pandas as pd\n",
    "import scipy\n",
    "\n",
    "from sklearn.model_selection import train_test_split as tts\n",
    "from sklearn.preprocessing import StandardScaler\n",
    "from sklearn.linear_model import LinearRegression\n",
    "from sklearn.feature_selection import SequentialFeatureSelector"
   ]
  },
  {
   "cell_type": "markdown",
   "id": "d7f298c3",
   "metadata": {},
   "source": [
    "#### Preprocessing :"
   ]
  },
  {
   "cell_type": "code",
   "execution_count": 3,
   "id": "67084004",
   "metadata": {},
   "outputs": [],
   "source": [
    "# Setting the random seed to 0\n",
    "np.random.seed(0)"
   ]
  },
  {
   "cell_type": "code",
   "execution_count": 4,
   "id": "cb92bc9b",
   "metadata": {},
   "outputs": [
    {
     "data": {
      "text/html": [
       "<div>\n",
       "<style scoped>\n",
       "    .dataframe tbody tr th:only-of-type {\n",
       "        vertical-align: middle;\n",
       "    }\n",
       "\n",
       "    .dataframe tbody tr th {\n",
       "        vertical-align: top;\n",
       "    }\n",
       "\n",
       "    .dataframe thead th {\n",
       "        text-align: right;\n",
       "    }\n",
       "</style>\n",
       "<table border=\"1\" class=\"dataframe\">\n",
       "  <thead>\n",
       "    <tr style=\"text-align: right;\">\n",
       "      <th></th>\n",
       "      <th>0</th>\n",
       "      <th>1</th>\n",
       "      <th>2</th>\n",
       "      <th>3</th>\n",
       "      <th>4</th>\n",
       "      <th>5</th>\n",
       "      <th>6</th>\n",
       "      <th>7</th>\n",
       "      <th>8</th>\n",
       "      <th>9</th>\n",
       "      <th>...</th>\n",
       "      <th>91</th>\n",
       "      <th>92</th>\n",
       "      <th>93</th>\n",
       "      <th>94</th>\n",
       "      <th>95</th>\n",
       "      <th>96</th>\n",
       "      <th>97</th>\n",
       "      <th>98</th>\n",
       "      <th>99</th>\n",
       "      <th>100</th>\n",
       "    </tr>\n",
       "  </thead>\n",
       "  <tbody>\n",
       "    <tr>\n",
       "      <th>0</th>\n",
       "      <td>V1</td>\n",
       "      <td>V2</td>\n",
       "      <td>V3</td>\n",
       "      <td>V4</td>\n",
       "      <td>V5</td>\n",
       "      <td>V6</td>\n",
       "      <td>V7</td>\n",
       "      <td>V8</td>\n",
       "      <td>V9</td>\n",
       "      <td>V10</td>\n",
       "      <td>...</td>\n",
       "      <td>V92</td>\n",
       "      <td>V93</td>\n",
       "      <td>V94</td>\n",
       "      <td>V95</td>\n",
       "      <td>V96</td>\n",
       "      <td>V97</td>\n",
       "      <td>V98</td>\n",
       "      <td>V99</td>\n",
       "      <td>V100</td>\n",
       "      <td>fat</td>\n",
       "    </tr>\n",
       "    <tr>\n",
       "      <th>1</th>\n",
       "      <td>2.61776</td>\n",
       "      <td>2.61814</td>\n",
       "      <td>2.61859</td>\n",
       "      <td>2.61912</td>\n",
       "      <td>2.61981</td>\n",
       "      <td>2.62071</td>\n",
       "      <td>2.62186</td>\n",
       "      <td>2.62334</td>\n",
       "      <td>2.62511</td>\n",
       "      <td>2.62722</td>\n",
       "      <td>...</td>\n",
       "      <td>2.98145</td>\n",
       "      <td>2.96072</td>\n",
       "      <td>2.94013</td>\n",
       "      <td>2.91978</td>\n",
       "      <td>2.89966</td>\n",
       "      <td>2.87964</td>\n",
       "      <td>2.8596</td>\n",
       "      <td>2.8394</td>\n",
       "      <td>2.8192</td>\n",
       "      <td>22.5</td>\n",
       "    </tr>\n",
       "    <tr>\n",
       "      <th>2</th>\n",
       "      <td>2.83454</td>\n",
       "      <td>2.83871</td>\n",
       "      <td>2.84283</td>\n",
       "      <td>2.84705</td>\n",
       "      <td>2.85138</td>\n",
       "      <td>2.85587</td>\n",
       "      <td>2.8606</td>\n",
       "      <td>2.86566</td>\n",
       "      <td>2.87093</td>\n",
       "      <td>2.87661</td>\n",
       "      <td>...</td>\n",
       "      <td>3.29186</td>\n",
       "      <td>3.27921</td>\n",
       "      <td>3.26655</td>\n",
       "      <td>3.25369</td>\n",
       "      <td>3.24045</td>\n",
       "      <td>3.22659</td>\n",
       "      <td>3.21181</td>\n",
       "      <td>3.196</td>\n",
       "      <td>3.17942</td>\n",
       "      <td>40.1</td>\n",
       "    </tr>\n",
       "    <tr>\n",
       "      <th>3</th>\n",
       "      <td>2.58284</td>\n",
       "      <td>2.58458</td>\n",
       "      <td>2.58629</td>\n",
       "      <td>2.58808</td>\n",
       "      <td>2.58996</td>\n",
       "      <td>2.59192</td>\n",
       "      <td>2.59401</td>\n",
       "      <td>2.59627</td>\n",
       "      <td>2.59873</td>\n",
       "      <td>2.60131</td>\n",
       "      <td>...</td>\n",
       "      <td>2.68951</td>\n",
       "      <td>2.67009</td>\n",
       "      <td>2.65112</td>\n",
       "      <td>2.63262</td>\n",
       "      <td>2.61461</td>\n",
       "      <td>2.59718</td>\n",
       "      <td>2.58034</td>\n",
       "      <td>2.56404</td>\n",
       "      <td>2.54816</td>\n",
       "      <td>8.4</td>\n",
       "    </tr>\n",
       "    <tr>\n",
       "      <th>4</th>\n",
       "      <td>2.82286</td>\n",
       "      <td>2.8246</td>\n",
       "      <td>2.8263</td>\n",
       "      <td>2.82814</td>\n",
       "      <td>2.83001</td>\n",
       "      <td>2.83192</td>\n",
       "      <td>2.83392</td>\n",
       "      <td>2.83606</td>\n",
       "      <td>2.83842</td>\n",
       "      <td>2.84097</td>\n",
       "      <td>...</td>\n",
       "      <td>2.97367</td>\n",
       "      <td>2.94951</td>\n",
       "      <td>2.92576</td>\n",
       "      <td>2.90251</td>\n",
       "      <td>2.87988</td>\n",
       "      <td>2.85794</td>\n",
       "      <td>2.83672</td>\n",
       "      <td>2.81617</td>\n",
       "      <td>2.79622</td>\n",
       "      <td>5.9</td>\n",
       "    </tr>\n",
       "  </tbody>\n",
       "</table>\n",
       "<p>5 rows × 101 columns</p>\n",
       "</div>"
      ],
      "text/plain": [
       "       0        1        2        3        4        5        6        7    \\\n",
       "0       V1       V2       V3       V4       V5       V6       V7       V8   \n",
       "1  2.61776  2.61814  2.61859  2.61912  2.61981  2.62071  2.62186  2.62334   \n",
       "2  2.83454  2.83871  2.84283  2.84705  2.85138  2.85587   2.8606  2.86566   \n",
       "3  2.58284  2.58458  2.58629  2.58808  2.58996  2.59192  2.59401  2.59627   \n",
       "4  2.82286   2.8246   2.8263  2.82814  2.83001  2.83192  2.83392  2.83606   \n",
       "\n",
       "       8        9    ...      91       92       93       94       95   \\\n",
       "0       V9      V10  ...      V92      V93      V94      V95      V96   \n",
       "1  2.62511  2.62722  ...  2.98145  2.96072  2.94013  2.91978  2.89966   \n",
       "2  2.87093  2.87661  ...  3.29186  3.27921  3.26655  3.25369  3.24045   \n",
       "3  2.59873  2.60131  ...  2.68951  2.67009  2.65112  2.63262  2.61461   \n",
       "4  2.83842  2.84097  ...  2.97367  2.94951  2.92576  2.90251  2.87988   \n",
       "\n",
       "       96       97       98       99    100  \n",
       "0      V97      V98      V99     V100   fat  \n",
       "1  2.87964   2.8596   2.8394   2.8192  22.5  \n",
       "2  3.22659  3.21181    3.196  3.17942  40.1  \n",
       "3  2.59718  2.58034  2.56404  2.54816   8.4  \n",
       "4  2.85794  2.83672  2.81617  2.79622   5.9  \n",
       "\n",
       "[5 rows x 101 columns]"
      ]
     },
     "execution_count": 4,
     "metadata": {},
     "output_type": "execute_result"
    }
   ],
   "source": [
    "# Loading the data\n",
    "path.join('/Users/IQBI Hamza/OneDrive/Bureau/2A/TSIA/SD-TSIA204', 'TP2')\n",
    "df = pd.read_csv('meatspec.csv', header = None)\n",
    "df.head()"
   ]
  },
  {
   "cell_type": "code",
   "execution_count": 5,
   "id": "c94b233e",
   "metadata": {},
   "outputs": [],
   "source": [
    "df = df.iloc[1:] # in order to remove the row with V_k and have numerical data only"
   ]
  },
  {
   "cell_type": "code",
   "execution_count": 6,
   "id": "5e8309ce",
   "metadata": {},
   "outputs": [
    {
     "data": {
      "text/plain": [
       "Text(0.5, 1.0, 'The mean and standard deviation of all the covariates')"
      ]
     },
     "execution_count": 6,
     "metadata": {},
     "output_type": "execute_result"
    },
    {
     "data": {
      "image/png": "[encoded data removed]",
      "text/plain": [
       "<Figure size 864x432 with 1 Axes>"
      ]
     },
     "metadata": {
      "needs_background": "light"
     },
     "output_type": "display_data"
    }
   ],
   "source": [
    "n, p = df.shape\n",
    "for i in range(p) :\n",
    "    df[i] = pd.to_numeric(df[i], errors='coerce') # to convert the type of the data to numeric\n",
    "    \n",
    "# In order to get the mean and std of the covariates, we need to remove the column 'fat'\n",
    "means = np.array(df.iloc[:, :p-1]).mean(axis=0, dtype=np.float64) \n",
    "stds = np.array(df.iloc[:, :p-1]).std(axis=0, dtype=np.float64)\n",
    "\n",
    "plt.figure(figsize = (12, 6))\n",
    "plt.errorbar(np.arange(p-1), means, stds)\n",
    "plt.title(\"The mean and standard deviation of all the covariates\")"
   ]
  },
  {
   "cell_type": "markdown",
   "id": "1bc1bf4f",
   "metadata": {},
   "source": [
    "It's clear that the data is :\n",
    "\n",
    "1.*Not centered*, since the mean is not 0.\n",
    "\n",
    "2.*Not normalized*, since it has values out of the segment [0, 1]. \n",
    "\n",
    "3.*Not standarized* since it's not centered (and also the standard deviation is not 1)."
   ]
  },
  {
   "cell_type": "code",
   "execution_count": 7,
   "id": "e3e7e272",
   "metadata": {},
   "outputs": [],
   "source": [
    "X = np.array(df.iloc[:, :p-1])\n",
    "Y = np.array(df[100]) # The variable that we seek to predict its value : fat\n",
    "\n",
    "# Separating the data into train and test sets \n",
    "X_train, X_test, Y_train, Y_test = tts(X, Y, test_size = 0.25, train_size = 0.75)\n",
    "\n",
    "# Standarazing both training and testing sets\n",
    "\n",
    "scaler = StandardScaler()\n",
    "# The test set must use identical scaling to the training set\n",
    "X_train = scaler.fit_transform(X_train)\n",
    "X_test = scaler.transform(X_test)\n",
    "#Use only the training set to calculate the mean and variance, standarize the training set, and then at test time,\n",
    "#use that same (training) mean and variance to normalize the test set\n",
    "Y_train = scaler.fit_transform(Y_train.reshape(-1, 1))\n",
    "Y_test = scaler.transform(Y_test.reshape(-1, 1))"
   ]
  },
  {
   "cell_type": "code",
   "execution_count": 8,
   "id": "e7d33b45",
   "metadata": {},
   "outputs": [
    {
     "data": {
      "text/plain": [
       "<matplotlib.legend.Legend at 0x1f50f27c250>"
      ]
     },
     "execution_count": 8,
     "metadata": {},
     "output_type": "execute_result"
    },
    {
     "data": {
      "image/png": "[encoded data removed]",
      "text/plain": [
       "<Figure size 864x432 with 1 Axes>"
      ]
     },
     "metadata": {
      "needs_background": "light"
     },
     "output_type": "display_data"
    }
   ],
   "source": [
    "standard_means_train = np.array(X_train).mean(axis=0, dtype=np.float64) \n",
    "standard_stds_train = np.array(X_train).std(axis=0, dtype=np.float64)\n",
    "\n",
    "standard_means_test = np.array(X_test).mean(axis=0, dtype=np.float64) \n",
    "standard_stds_test = np.array(X_test).std(axis=0, dtype=np.float64)\n",
    "\n",
    "plt.figure(figsize = (12, 6))\n",
    "plt.errorbar(np.arange(p-1), standard_means_test, standard_stds_test, label = 'Testing set')\n",
    "plt.errorbar(np.arange(p-1), standard_means_train, standard_stds_train, label = 'Training set')\n",
    "plt.title(\"The mean and standard deviation of all the standarized covariates\")\n",
    "plt.legend()"
   ]
  },
  {
   "cell_type": "code",
   "execution_count": 9,
   "id": "c658f60a",
   "metadata": {},
   "outputs": [],
   "source": [
    "def r_2(Y_predicted, Y_groud_truth) :\n",
    "    \n",
    "    Y_predicted = Y_predicted.flatten()\n",
    "    Y_groud_truth = Y_groud_truth.flatten()\n",
    "    Y_bar = np.mean(Y_groud_truth)\n",
    "    return 1 - np.linalg.norm(Y_predicted - Y_groud_truth)**2 / np.linalg.norm(Y_groud_truth - np.mean(Y_groud_truth))**2"
   ]
  },
  {
   "cell_type": "code",
   "execution_count": 10,
   "id": "b0314ef8",
   "metadata": {},
   "outputs": [],
   "source": [
    "# Fitting a regular OLS\n",
    "\n",
    "# We don't have to fit the intercpt since we hav already standarized the data\n",
    "regression = LinearRegression(fit_intercept = False)\n",
    "attributes = regression.fit(X_train, Y_train) "
   ]
  },
  {
   "cell_type": "code",
   "execution_count": 11,
   "id": "372a4eb6",
   "metadata": {},
   "outputs": [
    {
     "name": "stdout",
     "output_type": "stream",
     "text": [
      "0.9600547777979198\n"
     ]
    }
   ],
   "source": [
    "Y_predicted = attributes.predict(X_test)\n",
    "r2_OLS = r_2(Y_predicted, Y_test)\n",
    "df_coef = pd.DataFrame({'Regular OLS' : [r2_OLS]})\n",
    "print(r2_OLS)"
   ]
  },
  {
   "cell_type": "markdown",
   "id": "1e43edbf",
   "metadata": {},
   "source": [
    "#### Variable selection :\n",
    "##### Q2 :"
   ]
  },
  {
   "cell_type": "code",
   "execution_count": 12,
   "id": "8997a762",
   "metadata": {},
   "outputs": [],
   "source": [
    "def f_variable_selection(X, Y, p_stop = None, stop_cirterion = False) :\n",
    "    \n",
    "    ''' Performs forward variable selection on the training input data X and training output data Y\n",
    "        Returns a list containing the selected variables in order\n",
    "    '''\n",
    "    n, p = X.shape\n",
    "    S = [] # To store all the variables, in their order of 'importance'\n",
    "    S_stop = [] # To store all the variables with a p-value smaller than p_stop\n",
    "    r = Y\n",
    "    p_values = []\n",
    "    \n",
    "    reg = LinearRegression(fit_intercept = False)\n",
    "    \n",
    "    while len(S) < p : # Since we don't define a stop criterion\n",
    "        T = {}\n",
    "        Thetas = {}\n",
    "        for k in range(p) :\n",
    "            if k not in S :\n",
    "                X_ = np.stack((np.ones(n), X[:, k]), axis = 1)\n",
    "                reg.fit(X_, r)\n",
    "                theta_hat = reg.coef_.T\n",
    "                Gram_hat = X_.T @ X_ / n\n",
    "                s_hat = np.sqrt(np.linalg.inv(Gram_hat)[0][0])\n",
    "                sigma_hat = np.linalg.norm(r - X_ @ theta_hat)**2 / (n-2)\n",
    "                T_hat = (np.sqrt(n)*np.linalg.norm(theta_hat, 1)) / (s_hat * sigma_hat)\n",
    "                T[k] = T_hat\n",
    "                Thetas[k] = theta_hat\n",
    "        k_star = max(T, key = T.get)\n",
    "        p_value = 2*(1 - scipy.stats.norm.cdf(T[k_star]))\n",
    "        if stop_cirterion :\n",
    "            if p_value < p_stop : S_stop.append(k_star)\n",
    "        p_values.append(p_value)\n",
    "        S.append(k_star)\n",
    "        r = r - np.stack((np.ones(n), X[:, k_star]), axis = 1) @ Thetas[k_star]\n",
    "    \n",
    "    return S, p_values, S_stop"
   ]
  },
  {
   "cell_type": "code",
   "execution_count": 13,
   "id": "340ce5e9",
   "metadata": {},
   "outputs": [
    {
     "name": "stdout",
     "output_type": "stream",
     "text": [
      "The selected variables are, in their selection order : [40, 7, 39, 6, 41, 8, 38, 5, 42, 9, 37, 4, 36, 10, 97, 3, 43, 11, 35, 2, 96, 12, 98, 13, 34, 1, 44, 0, 95, 14, 33, 15, 99, 16, 32, 17, 94, 18, 93, 19, 45, 64, 31, 65, 92, 63, 91, 66, 90, 67, 30, 20, 89, 62, 88, 68, 46, 61, 87, 69, 86, 60, 85, 53, 29, 52, 84, 70, 83, 54, 28, 59, 82, 21, 47, 55, 81, 58, 27, 51, 80, 71, 26, 56, 79, 57, 48, 72, 78, 50, 25, 22, 77, 73, 24, 74, 76, 75, 49, 23]\n"
     ]
    }
   ],
   "source": [
    "S = f_variable_selection(X_train, Y_train)[0]\n",
    "p_value = f_variable_selection(X_train, Y_train)[1]\n",
    "print(f\"The selected variables are, in their selection order : {S}\")\n",
    "#print(p_values)"
   ]
  },
  {
   "cell_type": "markdown",
   "id": "b7c421ba",
   "metadata": {},
   "source": [
    "##### Q3 :"
   ]
  },
  {
   "cell_type": "code",
   "execution_count": 14,
   "id": "89b5a78f",
   "metadata": {},
   "outputs": [
    {
     "name": "stdout",
     "output_type": "stream",
     "text": [
      "23\n"
     ]
    }
   ],
   "source": [
    "# Keeping the selected variables in both train and test sets\n",
    "S_stop = f_variable_selection(X_train, Y_train, 0.05, stop_cirterion=True)[2]\n",
    "X_selected_train = []\n",
    "X_selected_test = []\n",
    "for k in range(len(S_stop)) :\n",
    "    X_selected_train.append(X_train[:, S_stop[k]])\n",
    "    X_selected_test.append(X_test[:, S_stop[k]])\n",
    "    \n",
    "X_selected_train = np.array(X_selected_train).T\n",
    "X_selected_test = np.array(X_selected_test).T\n",
    "\n",
    "# Applying the OLS with the selected vairables \n",
    "variable_selection_reg = LinearRegression(fit_intercept=False)\n",
    "variable_selection_reg.fit(X_selected_train, Y_train)\n",
    "Y_predicted_vs = variable_selection_reg.predict(X_selected_test)\n",
    "\n",
    "# Storing the R² coefficient in the data frame\n",
    "r2_variable_selection = r_2(Y_predicted_vs, Y_test)\n",
    "df_coef[\"Forward variable selection\"] = r2_variable_selection\n",
    "print(len(S_stop))"
   ]
  },
  {
   "cell_type": "code",
   "execution_count": 15,
   "id": "d9d12050",
   "metadata": {},
   "outputs": [
    {
     "data": {
      "text/plain": [
       "SequentialFeatureSelector(estimator=LinearRegression(fit_intercept=False),\n",
       "                          n_features_to_select=23)"
      ]
     },
     "execution_count": 15,
     "metadata": {},
     "output_type": "execute_result"
    }
   ],
   "source": [
    "sfs = SequentialFeatureSelector(estimator = LinearRegression(fit_intercept=False), n_features_to_select=len(S_stop))\n",
    "sfs.fit(X_train, Y_train)"
   ]
  },
  {
   "cell_type": "code",
   "execution_count": 16,
   "id": "eea91c59",
   "metadata": {},
   "outputs": [
    {
     "name": "stdout",
     "output_type": "stream",
     "text": [
      "The sequentially selected variables are :  [0, 1, 3, 18, 19, 21, 34, 35, 39, 40, 43, 46, 47, 48, 49, 57, 72, 74, 82, 87, 90, 97, 99]\n",
      "The forward selected variables are : [40, 7, 39, 6, 41, 8, 38, 5, 42, 9, 37, 4, 36, 10, 97, 3, 43, 11, 35, 2, 96, 12, 98]\n"
     ]
    }
   ],
   "source": [
    "support = sfs.support_\n",
    "sequential_selected = []\n",
    "for k in range(len(support)) :\n",
    "    if support[k] == True : sequential_selected.append(k)\n",
    "print(f\"The sequentially selected variables are :  {sequential_selected}\")\n",
    "print(f\"The forward selected variables are : {S_stop}\")"
   ]
  },
  {
   "cell_type": "raw",
   "id": "a0d47f2c",
   "metadata": {},
   "source": [
    "We can see that the two algorithms select different variables altough we have precised the number of selected ones to be the same. In fact, this is because :\n",
    "\n",
    "+Forward variable selection is a process of adding variables one at a time based on a predetermined criterion, such as the p-value of the t-test for each variable. This process continues until all the variables that meet the criterion are added to the model.\n",
    "\n",
    "+Sequential variable selection is a process of first fitting all possible combinations of variables to the regression model and then selecting the best model based on a predetermined criterion, such as the adjusted R-squared value."
   ]
  },
  {
   "cell_type": "code",
   "execution_count": 17,
   "id": "325fdd37",
   "metadata": {},
   "outputs": [
    {
     "name": "stdout",
     "output_type": "stream",
     "text": [
      "0.9551797946009011\n"
     ]
    }
   ],
   "source": [
    "r2_sequential = r_2(Y_predicted_vs, Y_test)\n",
    "print(r2_sequential)\n",
    "df_coef[\"Sequential variable selection\"] = r2_sequential"
   ]
  },
  {
   "cell_type": "markdown",
   "id": "3d4a5cd3",
   "metadata": {},
   "source": [
    "#### Ridge :"
   ]
  },
  {
   "cell_type": "code",
   "execution_count": 18,
   "id": "95265494",
   "metadata": {},
   "outputs": [],
   "source": [
    "def ridge(X, Y, alpha) :\n",
    "    n, p = X.shape\n",
    "    G = X.T @ X\n",
    "    I = np.eye(p, p)\n",
    "    theta_hat = np.dot(np.linalg.inv(n*alpha * I + G) @ X.T, Y)\n",
    "    \n",
    "    return theta_hat"
   ]
  },
  {
   "cell_type": "code",
   "execution_count": 21,
   "id": "ca8121ec",
   "metadata": {},
   "outputs": [
    {
     "name": "stderr",
     "output_type": "stream",
     "text": [
      "No artists with labels found to put in legend.  Note that artists whose label start with an underscore are ignored when legend() is called with no argument.\n"
     ]
    },
    {
     "data": {
      "text/plain": [
       "<matplotlib.legend.Legend at 0x1f509403280>"
      ]
     },
     "execution_count": 21,
     "metadata": {},
     "output_type": "execute_result"
    },
    {
     "data": {
      "image/png": "[encoded data removed]",
      "text/plain": [
       "<Figure size 1152x360 with 1 Axes>"
      ]
     },
     "metadata": {
      "needs_background": "light"
     },
     "output_type": "display_data"
    }
   ],
   "source": [
    "# How the coefficients change with alpha\n",
    "\n",
    "alphas = np.arange(10e-9, 10e2)\n",
    "thetas = []\n",
    "for k in range(len(alphas)) :\n",
    "    thetas.append(np.linalg.norm(ridge(X_train, Y_train, alphas[k]), 2))\n",
    "\n",
    "fig = plt.figure(figsize=(16,5))\n",
    "plt.plot(alphas, thetas)\n",
    "plt.xlabel(r\"The penalty parameter : $\\alpha$\")\n",
    "plt.ylabel(r\"$\\Vert \\hat{\\theta^{RIDGE}} \\Vert_2$\")\n",
    "plt.yscale('log')\n",
    "plt.title(r\"The values of ridge coefficients as a function of $\\alpha$\")\n",
    "plt.legend()"
   ]
  },
  {
   "cell_type": "code",
   "execution_count": 35,
   "id": "9714315e",
   "metadata": {},
   "outputs": [
    {
     "name": "stdout",
     "output_type": "stream",
     "text": [
      "1.00000001\n"
     ]
    },
    {
     "data": {
      "text/plain": [
       "<matplotlib.legend.Legend at 0x1f513af2d60>"
      ]
     },
     "execution_count": 35,
     "metadata": {},
     "output_type": "execute_result"
    },
    {
     "data": {
      "image/png": "[encoded data removed]",
      "text/plain": [
       "<Figure size 1152x360 with 1 Axes>"
      ]
     },
     "metadata": {
      "needs_background": "light"
     },
     "output_type": "display_data"
    }
   ],
   "source": [
    "# MSE of both train and test sets\n",
    "\n",
    "MSE_train = []\n",
    "MSE_test = []\n",
    "min_train = len(alphas) + 1\n",
    "min_test = len(alphas) + 1\n",
    "\n",
    "for k in range(len(alphas)) :\n",
    "    theta_hat = ridge(X_train, Y_train, alphas[k])\n",
    "    Y_train_hat = X_train @ theta_hat\n",
    "    Y_test_hat = X_test @ theta_hat\n",
    "    err_train = np.linalg.norm(Y_train_hat - Y_train, 2)**2\n",
    "    err_test = np.linalg.norm(Y_test_hat - Y_test, 2)**2\n",
    "    if alphas[k] > 10e-9 :\n",
    "        if  err_train < min_train : min_train = k\n",
    "        if err_test < min_test : min_test = k\n",
    "    MSE_train.append(err_train)\n",
    "    MSE_test.append(err_test)\n",
    "    \n",
    "print(alphas[min_train])\n",
    "\n",
    "fig = plt.figure(figsize=(16,5))\n",
    "plt.plot(alphas, MSE_train, label = 'Train set')\n",
    "plt.plot(alphas, MSE_test, label = 'Test set')\n",
    "plt.plot(alphas[min_train], MSE_train[min_train], 'bo', label = 'Minimum for train')\n",
    "plt.plot(alphas[min_test], MSE_test[min_test], 'co', label = 'Minimum for test set')\n",
    "plt.xlabel(r\"The penalty parameter : $\\alpha$\")\n",
    "plt.ylabel(\"MSE\")\n",
    "plt.yscale('log')\n",
    "plt.title(r\"MSE as a function of $\\alpha$\")\n",
    "plt.legend()\n",
    "\n",
    "'''The best performing value !!?? choose alpha = 10e-8 is fine ??'''"
   ]
  },
  {
   "cell_type": "code",
   "execution_count": null,
   "id": "7afee2b4",
   "metadata": {},
   "outputs": [],
   "source": []
  }
 ],
 "metadata": {
  "kernelspec": {
   "display_name": "Python 3 (ipykernel)",
   "language": "python",
   "name": "python3"
  },
  "language_info": {
   "codemirror_mode": {
    "name": "ipython",
    "version": 3
   },
   "file_extension": ".py",
   "mimetype": "text/x-python",
   "name": "python",
   "nbconvert_exporter": "python",
   "pygments_lexer": "ipython3",
   "version": "3.9.12"
  }
 },
 "nbformat": 4,
 "nbformat_minor": 5
}
